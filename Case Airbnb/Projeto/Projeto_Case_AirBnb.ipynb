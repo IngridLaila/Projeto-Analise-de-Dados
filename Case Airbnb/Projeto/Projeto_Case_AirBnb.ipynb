{
  "nbformat": 4,
  "nbformat_minor": 0,
  "metadata": {
    "colab": {
      "provenance": [],
      "collapsed_sections": [
        "WCFrAd6kV0kq",
        "Hh-eT2bDV2vs",
        "oidAtO8zygVe",
        "F7LynI74yjUn",
        "JpD-FWtVez0v",
        "-stpig9RV6TN",
        "OnwV4RyfyTrD",
        "1msLifp4xna8",
        "gQGlnk0T3l2C",
        "39oKQbhu2Gd1",
        "urQ-CIYM6XVz",
        "SYfEWa_BukSM",
        "F04Wt15SatSX",
        "3TbLTj6Caymr",
        "21GuOirkUIOm",
        "6Xn7TcUET96Z",
        "vxLJZ6a5UJIP",
        "BRPVSqU5UTCl"
      ],
      "toc_visible": true
    },
    "kernelspec": {
      "name": "python3",
      "display_name": "Python 3"
    },
    "language_info": {
      "name": "python"
    }
  },
  "cells": [
    {
      "cell_type": "markdown",
      "source": [
        "# **Análise de Dados**  "
      ],
      "metadata": {
        "id": "7ehD9QI5VKbd"
      }
    },
    {
      "cell_type": "markdown",
      "source": [
        "Nome: Ingrid Laila Santana\n"
      ],
      "metadata": {
        "id": "eRvvy_m_VcT2"
      }
    },
    {
      "cell_type": "markdown",
      "source": [
        "# **Requisitos:**\n",
        "\n",
        "Análise exploratória de dados com a base de dados do Airbnb e indique possíveis oportunidades e/ou ameaças para o empreendimento.\n",
        "\n",
        "**Nível - Tratamento e Análise**\n",
        "* Verificar todos os passos da estratégia geral de análise de dados;\n",
        "* Executar o que for necessário;\n",
        "* Todos os passos devem ser comentados;\n",
        "* Realizar no mínimo 3 análises apenas numéricas;\n",
        "* Realizar plotagens para no mínimo 3 análises;\n",
        "* Chegar a uma conclusão de sua análise;\n",
        "\n",
        "**Nivel Infra**\n",
        "* O Dataset deve ser salvo em ambiente local  (Google Drive) - (bruto e tratado)\n",
        "* O Dataset deve ser salvo em ambiente cloud (Cloud Storage) - (bruto e tratado)"
      ],
      "metadata": {
        "id": "5aNmsk_vqqyr"
      }
    },
    {
      "cell_type": "markdown",
      "source": [
        "# **Sobre os Dados:**\n"
      ],
      "metadata": {
        "id": "tUj0QVZmVmvr"
      }
    },
    {
      "cell_type": "markdown",
      "source": [
        "Este conjunto de dados fornece uma visão abrangente dos preços do Airbnb em algumas das cidades europeias mais populares. Cada listagem é avaliada quanto a várias características, como tipos de quartos, classificações de limpeza e satisfação, número de quartos, distância do centro da cidade e muito mais, para obter uma compreensão detalhada dos preços do Airbnb tanto durante a semana quanto nos fins de semana.\n",
        "\n",
        "Fonte: https://www.kaggle.com/datasets/thedevastator/airbnb-prices-in-european-cities"
      ],
      "metadata": {
        "id": "9bWSHtX7Vp7d"
      }
    },
    {
      "cell_type": "markdown",
      "source": [
        "## **Dicionário de Dados:**"
      ],
      "metadata": {
        "id": "dqSPCNW1VyYS"
      }
    },
    {
      "cell_type": "markdown",
      "source": [
        "As colunas são as seguintes:\n",
        "\n",
        "realSum: valor de 2 dias para 2 pessoas\n",
        "\n",
        "room_type: o tipo de acomodação\n",
        "\n",
        "room_shared: variável fictícia para quartos compartilhados\n",
        "\n",
        "room_private: variável fictícia para salas privadas\n",
        "\n",
        "person_capacity: o número máximo de convidados\n",
        "\n",
        "host_is_superhost: variável fictícia para status de superhost\n",
        "\n",
        "*Superhosts são anfitriões experientes e muito bem avaliados, comprometidos em fornecer estadias excelentes para seus hóspedes.*\n",
        "\n",
        "multi: variável fictícia para anúncios oferecidos por hosts com 2 a 4 anúncios.\n",
        "\n",
        "biz: variável fictícia para anúncios oferecidos por hosts com mais de 4 anúncios.\n",
        "\n",
        "clean_rating: classificação de limpeza\n",
        "\n",
        "guest_satisfaction_overall: avaliação geral do anúncio\n",
        "\n",
        "bedrooms: número de quartos (0 para estúdios)\n",
        "\n",
        "dist: distância do centro da cidade em km\n",
        "\n",
        "metro_dist: distância da estação de metrô mais próxima em km\n",
        "\n",
        "attr_index: índice de atração do local do anúncio\n",
        "\n",
        "attr_index_norm: índice de atração normalizado (0-100)\n",
        "\n",
        "rest_index: índice do restaurante do local da listagem\n",
        "\n",
        "rest_index_norm: índice de restaurante normalizado (0-100)\n",
        "\n",
        "lng: longitude do local de listagem\n",
        "\n",
        "lat: latitude do local da listagem"
      ],
      "metadata": {
        "id": "1AtTw6MXZwpy"
      }
    },
    {
      "cell_type": "markdown",
      "source": [
        "# **Entendendo o Problema**\n",
        "\n",
        "**5w**\n",
        "\n",
        "Pergunta-chave: Como identificar possíveis oportunidades e/ou ameaças para o empreendimento?\n",
        "\n",
        "\n",
        "* **O que?**\n",
        "\n",
        "  Quais são as ameaças?\n",
        "\n",
        "  Quais as oportunidade?\n",
        "\n",
        "\n",
        "* **Quem?**\n",
        "\n",
        "  Qual o perfil de quartos mais alugados?\n",
        "\n",
        "  Quais as preferências/ necessidades desses cliente?\n",
        "\n",
        "\n",
        "* **Onde?**\n",
        "\n",
        "  Onde devemos procurar por oportunidades e ameaças?\n",
        "\n",
        "  Onde tem maiores locações?\n",
        "\n",
        "* **Por que?**\n",
        "\n",
        " Por que determinados locais possuem maiores locações?\n",
        "\n",
        "* **Como?**\n",
        "\n",
        "  Como os proprietários podem definir preços competitivos?"
      ],
      "metadata": {
        "id": "luORQTR6BkKa"
      }
    },
    {
      "cell_type": "markdown",
      "source": [
        "# **Instalações e Importações**"
      ],
      "metadata": {
        "id": "WCFrAd6kV0kq"
      }
    },
    {
      "cell_type": "code",
      "source": [
        "# Instalação das bibliotecas gcsfs (permite interagir com a GCP) e pandera (validação do dataframe)\n",
        "!pip install gcsfs\n",
        "!pip install pandera"
      ],
      "metadata": {
        "id": "-XIHflHgXaHa",
        "colab": {
          "base_uri": "https://localhost:8080/"
        },
        "outputId": "5023517f-7cfd-4fc3-a53c-650ff3c66abc"
      },
      "execution_count": null,
      "outputs": [
        {
          "output_type": "stream",
          "name": "stdout",
          "text": [
            "Requirement already satisfied: gcsfs in /usr/local/lib/python3.10/dist-packages (2023.6.0)\n",
            "Requirement already satisfied: aiohttp!=4.0.0a0,!=4.0.0a1 in /usr/local/lib/python3.10/dist-packages (from gcsfs) (3.8.4)\n",
            "Requirement already satisfied: decorator>4.1.2 in /usr/local/lib/python3.10/dist-packages (from gcsfs) (4.4.2)\n",
            "Requirement already satisfied: fsspec==2023.6.0 in /usr/local/lib/python3.10/dist-packages (from gcsfs) (2023.6.0)\n",
            "Requirement already satisfied: google-auth>=1.2 in /usr/local/lib/python3.10/dist-packages (from gcsfs) (2.17.3)\n",
            "Requirement already satisfied: google-auth-oauthlib in /usr/local/lib/python3.10/dist-packages (from gcsfs) (1.0.0)\n",
            "Requirement already satisfied: google-cloud-storage in /usr/local/lib/python3.10/dist-packages (from gcsfs) (2.8.0)\n",
            "Requirement already satisfied: requests in /usr/local/lib/python3.10/dist-packages (from gcsfs) (2.27.1)\n",
            "Requirement already satisfied: attrs>=17.3.0 in /usr/local/lib/python3.10/dist-packages (from aiohttp!=4.0.0a0,!=4.0.0a1->gcsfs) (23.1.0)\n",
            "Requirement already satisfied: charset-normalizer<4.0,>=2.0 in /usr/local/lib/python3.10/dist-packages (from aiohttp!=4.0.0a0,!=4.0.0a1->gcsfs) (2.0.12)\n",
            "Requirement already satisfied: multidict<7.0,>=4.5 in /usr/local/lib/python3.10/dist-packages (from aiohttp!=4.0.0a0,!=4.0.0a1->gcsfs) (6.0.4)\n",
            "Requirement already satisfied: async-timeout<5.0,>=4.0.0a3 in /usr/local/lib/python3.10/dist-packages (from aiohttp!=4.0.0a0,!=4.0.0a1->gcsfs) (4.0.2)\n",
            "Requirement already satisfied: yarl<2.0,>=1.0 in /usr/local/lib/python3.10/dist-packages (from aiohttp!=4.0.0a0,!=4.0.0a1->gcsfs) (1.9.2)\n",
            "Requirement already satisfied: frozenlist>=1.1.1 in /usr/local/lib/python3.10/dist-packages (from aiohttp!=4.0.0a0,!=4.0.0a1->gcsfs) (1.3.3)\n",
            "Requirement already satisfied: aiosignal>=1.1.2 in /usr/local/lib/python3.10/dist-packages (from aiohttp!=4.0.0a0,!=4.0.0a1->gcsfs) (1.3.1)\n",
            "Requirement already satisfied: cachetools<6.0,>=2.0.0 in /usr/local/lib/python3.10/dist-packages (from google-auth>=1.2->gcsfs) (5.3.1)\n",
            "Requirement already satisfied: pyasn1-modules>=0.2.1 in /usr/local/lib/python3.10/dist-packages (from google-auth>=1.2->gcsfs) (0.3.0)\n",
            "Requirement already satisfied: six>=1.9.0 in /usr/local/lib/python3.10/dist-packages (from google-auth>=1.2->gcsfs) (1.16.0)\n",
            "Requirement already satisfied: rsa<5,>=3.1.4 in /usr/local/lib/python3.10/dist-packages (from google-auth>=1.2->gcsfs) (4.9)\n",
            "Requirement already satisfied: requests-oauthlib>=0.7.0 in /usr/local/lib/python3.10/dist-packages (from google-auth-oauthlib->gcsfs) (1.3.1)\n",
            "Requirement already satisfied: google-api-core!=2.0.*,!=2.1.*,!=2.2.*,!=2.3.0,<3.0.0dev,>=1.31.5 in /usr/local/lib/python3.10/dist-packages (from google-cloud-storage->gcsfs) (2.11.1)\n",
            "Requirement already satisfied: google-cloud-core<3.0dev,>=2.3.0 in /usr/local/lib/python3.10/dist-packages (from google-cloud-storage->gcsfs) (2.3.2)\n",
            "Requirement already satisfied: google-resumable-media>=2.3.2 in /usr/local/lib/python3.10/dist-packages (from google-cloud-storage->gcsfs) (2.5.0)\n",
            "Requirement already satisfied: urllib3<1.27,>=1.21.1 in /usr/local/lib/python3.10/dist-packages (from requests->gcsfs) (1.26.16)\n",
            "Requirement already satisfied: certifi>=2017.4.17 in /usr/local/lib/python3.10/dist-packages (from requests->gcsfs) (2023.5.7)\n",
            "Requirement already satisfied: idna<4,>=2.5 in /usr/local/lib/python3.10/dist-packages (from requests->gcsfs) (3.4)\n",
            "Requirement already satisfied: googleapis-common-protos<2.0.dev0,>=1.56.2 in /usr/local/lib/python3.10/dist-packages (from google-api-core!=2.0.*,!=2.1.*,!=2.2.*,!=2.3.0,<3.0.0dev,>=1.31.5->google-cloud-storage->gcsfs) (1.59.1)\n",
            "Requirement already satisfied: protobuf!=3.20.0,!=3.20.1,!=4.21.0,!=4.21.1,!=4.21.2,!=4.21.3,!=4.21.4,!=4.21.5,<5.0.0.dev0,>=3.19.5 in /usr/local/lib/python3.10/dist-packages (from google-api-core!=2.0.*,!=2.1.*,!=2.2.*,!=2.3.0,<3.0.0dev,>=1.31.5->google-cloud-storage->gcsfs) (3.20.3)\n",
            "Requirement already satisfied: google-crc32c<2.0dev,>=1.0 in /usr/local/lib/python3.10/dist-packages (from google-resumable-media>=2.3.2->google-cloud-storage->gcsfs) (1.5.0)\n",
            "Requirement already satisfied: pyasn1<0.6.0,>=0.4.6 in /usr/local/lib/python3.10/dist-packages (from pyasn1-modules>=0.2.1->google-auth>=1.2->gcsfs) (0.5.0)\n",
            "Requirement already satisfied: oauthlib>=3.0.0 in /usr/local/lib/python3.10/dist-packages (from requests-oauthlib>=0.7.0->google-auth-oauthlib->gcsfs) (3.2.2)\n",
            "Requirement already satisfied: pandera in /usr/local/lib/python3.10/dist-packages (0.15.2)\n",
            "Requirement already satisfied: multimethod in /usr/local/lib/python3.10/dist-packages (from pandera) (1.9.1)\n",
            "Requirement already satisfied: numpy>=1.19.0 in /usr/local/lib/python3.10/dist-packages (from pandera) (1.22.4)\n",
            "Requirement already satisfied: packaging>=20.0 in /usr/local/lib/python3.10/dist-packages (from pandera) (23.1)\n",
            "Requirement already satisfied: pandas>=1.2.0 in /usr/local/lib/python3.10/dist-packages (from pandera) (1.5.3)\n",
            "Requirement already satisfied: pydantic<2.0.0 in /usr/local/lib/python3.10/dist-packages (from pandera) (1.10.9)\n",
            "Requirement already satisfied: typeguard>=3.0.2 in /usr/local/lib/python3.10/dist-packages (from pandera) (4.0.0)\n",
            "Requirement already satisfied: typing-inspect>=0.6.0 in /usr/local/lib/python3.10/dist-packages (from pandera) (0.9.0)\n",
            "Requirement already satisfied: wrapt in /usr/local/lib/python3.10/dist-packages (from pandera) (1.14.1)\n",
            "Requirement already satisfied: python-dateutil>=2.8.1 in /usr/local/lib/python3.10/dist-packages (from pandas>=1.2.0->pandera) (2.8.2)\n",
            "Requirement already satisfied: pytz>=2020.1 in /usr/local/lib/python3.10/dist-packages (from pandas>=1.2.0->pandera) (2022.7.1)\n",
            "Requirement already satisfied: typing-extensions>=4.2.0 in /usr/local/lib/python3.10/dist-packages (from pydantic<2.0.0->pandera) (4.6.3)\n",
            "Requirement already satisfied: mypy-extensions>=0.3.0 in /usr/local/lib/python3.10/dist-packages (from typing-inspect>=0.6.0->pandera) (1.0.0)\n",
            "Requirement already satisfied: six>=1.5 in /usr/local/lib/python3.10/dist-packages (from python-dateutil>=2.8.1->pandas>=1.2.0->pandera) (1.16.0)\n"
          ]
        }
      ]
    },
    {
      "cell_type": "code",
      "source": [
        "# Abertura de bibliotecas\n",
        "import os                           # Importar a biblioteca \"os\" para interagir com o sistema operacional\n",
        "import pandas as pd                 # Importar a biblioteca \"pandas\" e atribuir um apelido \"pd\"\n",
        "import numpy as np                  # O numpy é uma biblioteca popular para computação numérica em Python, fornecendo suporte para matrizes multidimensionais, funções matemáticas avançadas e manipulação eficiente de dados numéricos\n",
        "import pandera as pa                # O pandera é uma biblioteca que adiciona recursos de validação de dados ao pandas, permitindo a definição de esquemas e regras para verificar a qualidade e integridade dos dados.\n",
        "from google.cloud import storage    # Esse módulo fornece funcionalidades para interagir com o serviço de armazenamento em nuvem do Google Cloud Platform (GCP)\n",
        "from google.colab import drive      # Comando de abertura para Google Drive\n",
        "import matplotlib.pyplot as plt     # Abertura de biblioteca de visualização"
      ],
      "metadata": {
        "id": "rNI5mjb5XxQ-"
      },
      "execution_count": null,
      "outputs": []
    },
    {
      "cell_type": "code",
      "source": [
        "# Ignorar avisos\n",
        "import warnings\n",
        "warnings.filterwarnings(\"ignore\")"
      ],
      "metadata": {
        "id": "LsqwlybYX4_y"
      },
      "execution_count": null,
      "outputs": []
    },
    {
      "cell_type": "markdown",
      "source": [
        "# **Extração**"
      ],
      "metadata": {
        "id": "Hh-eT2bDV2vs"
      }
    },
    {
      "cell_type": "code",
      "source": [
        "# Configuração da quantidade de colunas para aparecer em um Datraframe\n",
        "# O método set_option() é um método do pandas que permite definir opções de exibição. Ele é usado para definir opções como o número máximo de linhas e colunas que o pandas deve exibir ao imprimir um DataFrame.\n",
        "pd.set_option('display.max_columns',20)"
      ],
      "metadata": {
        "id": "nLADetMcYOIF"
      },
      "execution_count": null,
      "outputs": []
    },
    {
      "cell_type": "markdown",
      "source": [
        "## Extração pelo Google Drive"
      ],
      "metadata": {
        "id": "oidAtO8zygVe"
      }
    },
    {
      "cell_type": "code",
      "source": [
        "# Comando de conexão com o google drive\n",
        "#drive.mount('/content/drive')"
      ],
      "metadata": {
        "id": "M_DkJdhPYrlt"
      },
      "execution_count": null,
      "outputs": []
    },
    {
      "cell_type": "code",
      "source": [
        "# Caminho do dataset\n",
        "#path = '/content/drive/MyDrive/Bootcamp de Analista de Dados/Python/airbnb.csv'\n",
        "#df = pd.read_csv(path,\n",
        "#                sep=',',\n",
        "#               encoding='UTF-8'\n",
        "#                )"
      ],
      "metadata": {
        "id": "NwfJEXMTW_ba"
      },
      "execution_count": null,
      "outputs": []
    },
    {
      "cell_type": "markdown",
      "source": [
        "## Extração pelo Google Cloud"
      ],
      "metadata": {
        "id": "F7LynI74yjUn"
      }
    },
    {
      "cell_type": "code",
      "source": [
        "# CONFIGURANDO DA CHAVE DE SEGURANCA - ACESSO O PROJETO\n",
        "serviceAccount = '/content/atividade-gc-251504cb2860.json'\n",
        "os.environ['GOOGLE_APPLICATION_CREDENTIALS'] = serviceAccount"
      ],
      "metadata": {
        "id": "it0W_4Yyyl4A"
      },
      "execution_count": null,
      "outputs": []
    },
    {
      "cell_type": "code",
      "source": [
        "# Configurações Google Cloud Storage - ACESSO AO BUCKET\n",
        "client = storage.Client()\n",
        "bucket = client.get_bucket('projetos-aula-soulcode')\n",
        "bucket.blob('airbnb.csv')\n",
        "path = 'gs://projetos-aula-soulcode/Projeto Airbnb/Dados Bruto/airbnb.csv'"
      ],
      "metadata": {
        "id": "KaJSSaNDywbG"
      },
      "execution_count": null,
      "outputs": []
    },
    {
      "cell_type": "code",
      "source": [
        "# Abertura da base de dados e cópia de segurança (bucket)\n",
        "df = pd.read_csv(path,\n",
        "                 sep=',',\n",
        "                 encoding='UTF-8',\n",
        "                 dayfirst = True)\n",
        "dfback = df.copy()"
      ],
      "metadata": {
        "id": "fre0xP_rzooE"
      },
      "execution_count": null,
      "outputs": []
    },
    {
      "cell_type": "markdown",
      "source": [
        "# **Pré - Visualização**"
      ],
      "metadata": {
        "id": "JpD-FWtVez0v"
      }
    },
    {
      "cell_type": "code",
      "source": [
        "# Visualização do dataframe\n",
        "df"
      ],
      "metadata": {
        "id": "qrGEKBilZKCO",
        "colab": {
          "base_uri": "https://localhost:8080/"
        },
        "outputId": "29aada0e-bbf4-4974-fc79-995801fb4d78"
      },
      "execution_count": null,
      "outputs": [
        {
          "output_type": "execute_result",
          "data": {
            "text/plain": [
              "      Unnamed: 0      realSum        room_type  room_shared  room_private  \\\n",
              "0              0   194.033698     Private room        False          True   \n",
              "1              1   344.245776     Private room        False          True   \n",
              "2              2   264.101422     Private room        False          True   \n",
              "3              3   433.529398     Private room        False          True   \n",
              "4              4   485.552926     Private room        False          True   \n",
              "...          ...          ...              ...          ...           ...   \n",
              "1098        1098  2486.115342  Entire home/apt        False         False   \n",
              "1099        1099   233.637194     Private room        False          True   \n",
              "1100        1100   317.062311     Private room        False          True   \n",
              "1101        1101  1812.855904  Entire home/apt        False         False   \n",
              "1102        1102   258.008577      Shared room         True         False   \n",
              "\n",
              "      person_capacity  host_is_superhost  multi  biz  cleanliness_rating  \\\n",
              "0                 2.0              False      1    0                10.0   \n",
              "1                 4.0              False      0    0                 8.0   \n",
              "2                 2.0              False      0    1                 9.0   \n",
              "3                 4.0              False      0    1                 9.0   \n",
              "4                 2.0               True      0    0                10.0   \n",
              "...               ...                ...    ...  ...                 ...   \n",
              "1098              2.0              False      0    0                10.0   \n",
              "1099              2.0              False      1    0                10.0   \n",
              "1100              2.0              False      1    0                10.0   \n",
              "1101              4.0              False      0    0                 8.0   \n",
              "1102              2.0              False      0    0                 8.0   \n",
              "\n",
              "      guest_satisfaction_overall  bedrooms      dist  metro_dist  attr_index  \\\n",
              "0                           93.0         1  5.022964    2.539380   78.690379   \n",
              "1                           85.0         1  0.488389    0.239404  631.176378   \n",
              "2                           87.0         1  5.748312    3.651621   75.275877   \n",
              "3                           90.0         2  0.384862    0.439876  493.272534   \n",
              "4                           98.0         1  0.544738    0.318693  552.830324   \n",
              "...                          ...       ...       ...         ...         ...   \n",
              "1098                       100.0         1  2.375833    1.436054  181.198355   \n",
              "1099                        90.0         1  4.719736    0.322263  108.024880   \n",
              "1100                        92.0         1  0.598355    0.751993  440.476515   \n",
              "1101                        84.0         5  1.943020    0.388532  257.948105   \n",
              "1102                        90.0         1  0.280204    0.516217  533.962653   \n",
              "\n",
              "      attr_index_norm  rest_index  rest_index_norm      lng       lat  \n",
              "0            4.166708   98.253896         6.846473  4.90569  52.41772  \n",
              "1           33.421209  837.280757        58.342928  4.90005  52.37432  \n",
              "2            3.985908   95.386955         6.646700  4.97512  52.36103  \n",
              "3           26.119108  875.033098        60.973565  4.89417  52.37663  \n",
              "4           29.272733  815.305740        56.811677  4.90051  52.37508  \n",
              "...               ...         ...              ...      ...       ...  \n",
              "1098         9.594573  225.304203        15.699521  4.85869  52.37677  \n",
              "1099         5.719989  134.775277         9.391335  4.83611  52.34910  \n",
              "1100        23.323524  625.947562        43.616927  4.88897  52.37798  \n",
              "1101        13.658524  336.589237        23.454022  4.90688  52.35794  \n",
              "1102        28.273677  807.492307        56.267226  4.89295  52.37575  \n",
              "\n",
              "[1103 rows x 20 columns]"
            ],
            "text/html": [
              "\n",
              "  <div id=\"df-2fe61e73-5438-4f78-b3c6-9820b22b90db\">\n",
              "    <div class=\"colab-df-container\">\n",
              "      <div>\n",
              "<style scoped>\n",
              "    .dataframe tbody tr th:only-of-type {\n",
              "        vertical-align: middle;\n",
              "    }\n",
              "\n",
              "    .dataframe tbody tr th {\n",
              "        vertical-align: top;\n",
              "    }\n",
              "\n",
              "    .dataframe thead th {\n",
              "        text-align: right;\n",
              "    }\n",
              "</style>\n",
              "<table border=\"1\" class=\"dataframe\">\n",
              "  <thead>\n",
              "    <tr style=\"text-align: right;\">\n",
              "      <th></th>\n",
              "      <th>Unnamed: 0</th>\n",
              "      <th>realSum</th>\n",
              "      <th>room_type</th>\n",
              "      <th>room_shared</th>\n",
              "      <th>room_private</th>\n",
              "      <th>person_capacity</th>\n",
              "      <th>host_is_superhost</th>\n",
              "      <th>multi</th>\n",
              "      <th>biz</th>\n",
              "      <th>cleanliness_rating</th>\n",
              "      <th>guest_satisfaction_overall</th>\n",
              "      <th>bedrooms</th>\n",
              "      <th>dist</th>\n",
              "      <th>metro_dist</th>\n",
              "      <th>attr_index</th>\n",
              "      <th>attr_index_norm</th>\n",
              "      <th>rest_index</th>\n",
              "      <th>rest_index_norm</th>\n",
              "      <th>lng</th>\n",
              "      <th>lat</th>\n",
              "    </tr>\n",
              "  </thead>\n",
              "  <tbody>\n",
              "    <tr>\n",
              "      <th>0</th>\n",
              "      <td>0</td>\n",
              "      <td>194.033698</td>\n",
              "      <td>Private room</td>\n",
              "      <td>False</td>\n",
              "      <td>True</td>\n",
              "      <td>2.0</td>\n",
              "      <td>False</td>\n",
              "      <td>1</td>\n",
              "      <td>0</td>\n",
              "      <td>10.0</td>\n",
              "      <td>93.0</td>\n",
              "      <td>1</td>\n",
              "      <td>5.022964</td>\n",
              "      <td>2.539380</td>\n",
              "      <td>78.690379</td>\n",
              "      <td>4.166708</td>\n",
              "      <td>98.253896</td>\n",
              "      <td>6.846473</td>\n",
              "      <td>4.90569</td>\n",
              "      <td>52.41772</td>\n",
              "    </tr>\n",
              "    <tr>\n",
              "      <th>1</th>\n",
              "      <td>1</td>\n",
              "      <td>344.245776</td>\n",
              "      <td>Private room</td>\n",
              "      <td>False</td>\n",
              "      <td>True</td>\n",
              "      <td>4.0</td>\n",
              "      <td>False</td>\n",
              "      <td>0</td>\n",
              "      <td>0</td>\n",
              "      <td>8.0</td>\n",
              "      <td>85.0</td>\n",
              "      <td>1</td>\n",
              "      <td>0.488389</td>\n",
              "      <td>0.239404</td>\n",
              "      <td>631.176378</td>\n",
              "      <td>33.421209</td>\n",
              "      <td>837.280757</td>\n",
              "      <td>58.342928</td>\n",
              "      <td>4.90005</td>\n",
              "      <td>52.37432</td>\n",
              "    </tr>\n",
              "    <tr>\n",
              "      <th>2</th>\n",
              "      <td>2</td>\n",
              "      <td>264.101422</td>\n",
              "      <td>Private room</td>\n",
              "      <td>False</td>\n",
              "      <td>True</td>\n",
              "      <td>2.0</td>\n",
              "      <td>False</td>\n",
              "      <td>0</td>\n",
              "      <td>1</td>\n",
              "      <td>9.0</td>\n",
              "      <td>87.0</td>\n",
              "      <td>1</td>\n",
              "      <td>5.748312</td>\n",
              "      <td>3.651621</td>\n",
              "      <td>75.275877</td>\n",
              "      <td>3.985908</td>\n",
              "      <td>95.386955</td>\n",
              "      <td>6.646700</td>\n",
              "      <td>4.97512</td>\n",
              "      <td>52.36103</td>\n",
              "    </tr>\n",
              "    <tr>\n",
              "      <th>3</th>\n",
              "      <td>3</td>\n",
              "      <td>433.529398</td>\n",
              "      <td>Private room</td>\n",
              "      <td>False</td>\n",
              "      <td>True</td>\n",
              "      <td>4.0</td>\n",
              "      <td>False</td>\n",
              "      <td>0</td>\n",
              "      <td>1</td>\n",
              "      <td>9.0</td>\n",
              "      <td>90.0</td>\n",
              "      <td>2</td>\n",
              "      <td>0.384862</td>\n",
              "      <td>0.439876</td>\n",
              "      <td>493.272534</td>\n",
              "      <td>26.119108</td>\n",
              "      <td>875.033098</td>\n",
              "      <td>60.973565</td>\n",
              "      <td>4.89417</td>\n",
              "      <td>52.37663</td>\n",
              "    </tr>\n",
              "    <tr>\n",
              "      <th>4</th>\n",
              "      <td>4</td>\n",
              "      <td>485.552926</td>\n",
              "      <td>Private room</td>\n",
              "      <td>False</td>\n",
              "      <td>True</td>\n",
              "      <td>2.0</td>\n",
              "      <td>True</td>\n",
              "      <td>0</td>\n",
              "      <td>0</td>\n",
              "      <td>10.0</td>\n",
              "      <td>98.0</td>\n",
              "      <td>1</td>\n",
              "      <td>0.544738</td>\n",
              "      <td>0.318693</td>\n",
              "      <td>552.830324</td>\n",
              "      <td>29.272733</td>\n",
              "      <td>815.305740</td>\n",
              "      <td>56.811677</td>\n",
              "      <td>4.90051</td>\n",
              "      <td>52.37508</td>\n",
              "    </tr>\n",
              "    <tr>\n",
              "      <th>...</th>\n",
              "      <td>...</td>\n",
              "      <td>...</td>\n",
              "      <td>...</td>\n",
              "      <td>...</td>\n",
              "      <td>...</td>\n",
              "      <td>...</td>\n",
              "      <td>...</td>\n",
              "      <td>...</td>\n",
              "      <td>...</td>\n",
              "      <td>...</td>\n",
              "      <td>...</td>\n",
              "      <td>...</td>\n",
              "      <td>...</td>\n",
              "      <td>...</td>\n",
              "      <td>...</td>\n",
              "      <td>...</td>\n",
              "      <td>...</td>\n",
              "      <td>...</td>\n",
              "      <td>...</td>\n",
              "      <td>...</td>\n",
              "    </tr>\n",
              "    <tr>\n",
              "      <th>1098</th>\n",
              "      <td>1098</td>\n",
              "      <td>2486.115342</td>\n",
              "      <td>Entire home/apt</td>\n",
              "      <td>False</td>\n",
              "      <td>False</td>\n",
              "      <td>2.0</td>\n",
              "      <td>False</td>\n",
              "      <td>0</td>\n",
              "      <td>0</td>\n",
              "      <td>10.0</td>\n",
              "      <td>100.0</td>\n",
              "      <td>1</td>\n",
              "      <td>2.375833</td>\n",
              "      <td>1.436054</td>\n",
              "      <td>181.198355</td>\n",
              "      <td>9.594573</td>\n",
              "      <td>225.304203</td>\n",
              "      <td>15.699521</td>\n",
              "      <td>4.85869</td>\n",
              "      <td>52.37677</td>\n",
              "    </tr>\n",
              "    <tr>\n",
              "      <th>1099</th>\n",
              "      <td>1099</td>\n",
              "      <td>233.637194</td>\n",
              "      <td>Private room</td>\n",
              "      <td>False</td>\n",
              "      <td>True</td>\n",
              "      <td>2.0</td>\n",
              "      <td>False</td>\n",
              "      <td>1</td>\n",
              "      <td>0</td>\n",
              "      <td>10.0</td>\n",
              "      <td>90.0</td>\n",
              "      <td>1</td>\n",
              "      <td>4.719736</td>\n",
              "      <td>0.322263</td>\n",
              "      <td>108.024880</td>\n",
              "      <td>5.719989</td>\n",
              "      <td>134.775277</td>\n",
              "      <td>9.391335</td>\n",
              "      <td>4.83611</td>\n",
              "      <td>52.34910</td>\n",
              "    </tr>\n",
              "    <tr>\n",
              "      <th>1100</th>\n",
              "      <td>1100</td>\n",
              "      <td>317.062311</td>\n",
              "      <td>Private room</td>\n",
              "      <td>False</td>\n",
              "      <td>True</td>\n",
              "      <td>2.0</td>\n",
              "      <td>False</td>\n",
              "      <td>1</td>\n",
              "      <td>0</td>\n",
              "      <td>10.0</td>\n",
              "      <td>92.0</td>\n",
              "      <td>1</td>\n",
              "      <td>0.598355</td>\n",
              "      <td>0.751993</td>\n",
              "      <td>440.476515</td>\n",
              "      <td>23.323524</td>\n",
              "      <td>625.947562</td>\n",
              "      <td>43.616927</td>\n",
              "      <td>4.88897</td>\n",
              "      <td>52.37798</td>\n",
              "    </tr>\n",
              "    <tr>\n",
              "      <th>1101</th>\n",
              "      <td>1101</td>\n",
              "      <td>1812.855904</td>\n",
              "      <td>Entire home/apt</td>\n",
              "      <td>False</td>\n",
              "      <td>False</td>\n",
              "      <td>4.0</td>\n",
              "      <td>False</td>\n",
              "      <td>0</td>\n",
              "      <td>0</td>\n",
              "      <td>8.0</td>\n",
              "      <td>84.0</td>\n",
              "      <td>5</td>\n",
              "      <td>1.943020</td>\n",
              "      <td>0.388532</td>\n",
              "      <td>257.948105</td>\n",
              "      <td>13.658524</td>\n",
              "      <td>336.589237</td>\n",
              "      <td>23.454022</td>\n",
              "      <td>4.90688</td>\n",
              "      <td>52.35794</td>\n",
              "    </tr>\n",
              "    <tr>\n",
              "      <th>1102</th>\n",
              "      <td>1102</td>\n",
              "      <td>258.008577</td>\n",
              "      <td>Shared room</td>\n",
              "      <td>True</td>\n",
              "      <td>False</td>\n",
              "      <td>2.0</td>\n",
              "      <td>False</td>\n",
              "      <td>0</td>\n",
              "      <td>0</td>\n",
              "      <td>8.0</td>\n",
              "      <td>90.0</td>\n",
              "      <td>1</td>\n",
              "      <td>0.280204</td>\n",
              "      <td>0.516217</td>\n",
              "      <td>533.962653</td>\n",
              "      <td>28.273677</td>\n",
              "      <td>807.492307</td>\n",
              "      <td>56.267226</td>\n",
              "      <td>4.89295</td>\n",
              "      <td>52.37575</td>\n",
              "    </tr>\n",
              "  </tbody>\n",
              "</table>\n",
              "<p>1103 rows × 20 columns</p>\n",
              "</div>\n",
              "      <button class=\"colab-df-convert\" onclick=\"convertToInteractive('df-2fe61e73-5438-4f78-b3c6-9820b22b90db')\"\n",
              "              title=\"Convert this dataframe to an interactive table.\"\n",
              "              style=\"display:none;\">\n",
              "        \n",
              "  <svg xmlns=\"http://www.w3.org/2000/svg\" height=\"24px\"viewBox=\"0 0 24 24\"\n",
              "       width=\"24px\">\n",
              "    <path d=\"M0 0h24v24H0V0z\" fill=\"none\"/>\n",
              "    <path d=\"M18.56 5.44l.94 2.06.94-2.06 2.06-.94-2.06-.94-.94-2.06-.94 2.06-2.06.94zm-11 1L8.5 8.5l.94-2.06 2.06-.94-2.06-.94L8.5 2.5l-.94 2.06-2.06.94zm10 10l.94 2.06.94-2.06 2.06-.94-2.06-.94-.94-2.06-.94 2.06-2.06.94z\"/><path d=\"M17.41 7.96l-1.37-1.37c-.4-.4-.92-.59-1.43-.59-.52 0-1.04.2-1.43.59L10.3 9.45l-7.72 7.72c-.78.78-.78 2.05 0 2.83L4 21.41c.39.39.9.59 1.41.59.51 0 1.02-.2 1.41-.59l7.78-7.78 2.81-2.81c.8-.78.8-2.07 0-2.86zM5.41 20L4 18.59l7.72-7.72 1.47 1.35L5.41 20z\"/>\n",
              "  </svg>\n",
              "      </button>\n",
              "      \n",
              "  <style>\n",
              "    .colab-df-container {\n",
              "      display:flex;\n",
              "      flex-wrap:wrap;\n",
              "      gap: 12px;\n",
              "    }\n",
              "\n",
              "    .colab-df-convert {\n",
              "      background-color: #E8F0FE;\n",
              "      border: none;\n",
              "      border-radius: 50%;\n",
              "      cursor: pointer;\n",
              "      display: none;\n",
              "      fill: #1967D2;\n",
              "      height: 32px;\n",
              "      padding: 0 0 0 0;\n",
              "      width: 32px;\n",
              "    }\n",
              "\n",
              "    .colab-df-convert:hover {\n",
              "      background-color: #E2EBFA;\n",
              "      box-shadow: 0px 1px 2px rgba(60, 64, 67, 0.3), 0px 1px 3px 1px rgba(60, 64, 67, 0.15);\n",
              "      fill: #174EA6;\n",
              "    }\n",
              "\n",
              "    [theme=dark] .colab-df-convert {\n",
              "      background-color: #3B4455;\n",
              "      fill: #D2E3FC;\n",
              "    }\n",
              "\n",
              "    [theme=dark] .colab-df-convert:hover {\n",
              "      background-color: #434B5C;\n",
              "      box-shadow: 0px 1px 3px 1px rgba(0, 0, 0, 0.15);\n",
              "      filter: drop-shadow(0px 1px 2px rgba(0, 0, 0, 0.3));\n",
              "      fill: #FFFFFF;\n",
              "    }\n",
              "  </style>\n",
              "\n",
              "      <script>\n",
              "        const buttonEl =\n",
              "          document.querySelector('#df-2fe61e73-5438-4f78-b3c6-9820b22b90db button.colab-df-convert');\n",
              "        buttonEl.style.display =\n",
              "          google.colab.kernel.accessAllowed ? 'block' : 'none';\n",
              "\n",
              "        async function convertToInteractive(key) {\n",
              "          const element = document.querySelector('#df-2fe61e73-5438-4f78-b3c6-9820b22b90db');\n",
              "          const dataTable =\n",
              "            await google.colab.kernel.invokeFunction('convertToInteractive',\n",
              "                                                     [key], {});\n",
              "          if (!dataTable) return;\n",
              "\n",
              "          const docLinkHtml = 'Like what you see? Visit the ' +\n",
              "            '<a target=\"_blank\" href=https://colab.research.google.com/notebooks/data_table.ipynb>data table notebook</a>'\n",
              "            + ' to learn more about interactive tables.';\n",
              "          element.innerHTML = '';\n",
              "          dataTable['output_type'] = 'display_data';\n",
              "          await google.colab.output.renderOutput(dataTable, element);\n",
              "          const docLink = document.createElement('div');\n",
              "          docLink.innerHTML = docLinkHtml;\n",
              "          element.appendChild(docLink);\n",
              "        }\n",
              "      </script>\n",
              "    </div>\n",
              "  </div>\n",
              "  "
            ]
          },
          "metadata": {},
          "execution_count": 10
        }
      ]
    },
    {
      "cell_type": "code",
      "source": [
        "# Verificar o tipo de dado em cada coluna\n",
        "df.dtypes"
      ],
      "metadata": {
        "id": "P4ZIhfwBmhht",
        "colab": {
          "base_uri": "https://localhost:8080/"
        },
        "outputId": "d83bcc3e-f7f2-450e-de17-a2172f4b5ee7"
      },
      "execution_count": null,
      "outputs": [
        {
          "output_type": "execute_result",
          "data": {
            "text/plain": [
              "Unnamed: 0                      int64\n",
              "realSum                       float64\n",
              "room_type                      object\n",
              "room_shared                      bool\n",
              "room_private                     bool\n",
              "person_capacity               float64\n",
              "host_is_superhost                bool\n",
              "multi                           int64\n",
              "biz                             int64\n",
              "cleanliness_rating            float64\n",
              "guest_satisfaction_overall    float64\n",
              "bedrooms                        int64\n",
              "dist                          float64\n",
              "metro_dist                    float64\n",
              "attr_index                    float64\n",
              "attr_index_norm               float64\n",
              "rest_index                    float64\n",
              "rest_index_norm               float64\n",
              "lng                           float64\n",
              "lat                           float64\n",
              "dtype: object"
            ]
          },
          "metadata": {},
          "execution_count": 11
        }
      ]
    },
    {
      "cell_type": "code",
      "source": [
        "# Tamanho ( linhas e colunas) do df\n",
        "df.shape"
      ],
      "metadata": {
        "id": "zrj_25FVmrDj",
        "colab": {
          "base_uri": "https://localhost:8080/"
        },
        "outputId": "a30a866c-6b58-45e8-9b3d-8347145d0b10"
      },
      "execution_count": null,
      "outputs": [
        {
          "output_type": "execute_result",
          "data": {
            "text/plain": [
              "(1103, 20)"
            ]
          },
          "metadata": {},
          "execution_count": 12
        }
      ]
    },
    {
      "cell_type": "code",
      "source": [
        "# Contar a quantidade de valores não nulos no dataframe\n",
        "df.count()"
      ],
      "metadata": {
        "id": "Me1tTnB4my8P",
        "colab": {
          "base_uri": "https://localhost:8080/"
        },
        "outputId": "64ab2895-9622-4b06-dd35-aaabe8067df6"
      },
      "execution_count": null,
      "outputs": [
        {
          "output_type": "execute_result",
          "data": {
            "text/plain": [
              "Unnamed: 0                    1103\n",
              "realSum                       1103\n",
              "room_type                     1103\n",
              "room_shared                   1103\n",
              "room_private                  1103\n",
              "person_capacity               1103\n",
              "host_is_superhost             1103\n",
              "multi                         1103\n",
              "biz                           1103\n",
              "cleanliness_rating            1103\n",
              "guest_satisfaction_overall    1103\n",
              "bedrooms                      1103\n",
              "dist                          1103\n",
              "metro_dist                    1103\n",
              "attr_index                    1103\n",
              "attr_index_norm               1103\n",
              "rest_index                    1103\n",
              "rest_index_norm               1103\n",
              "lng                           1103\n",
              "lat                           1103\n",
              "dtype: int64"
            ]
          },
          "metadata": {},
          "execution_count": 13
        }
      ]
    },
    {
      "cell_type": "code",
      "source": [
        "# Informações detalhadas do DF\n",
        "df.info()"
      ],
      "metadata": {
        "id": "iPjZ7qUfm2rg",
        "colab": {
          "base_uri": "https://localhost:8080/"
        },
        "outputId": "dbe7a0e1-32fe-4747-8bc7-c8c3f2fce0be"
      },
      "execution_count": null,
      "outputs": [
        {
          "output_type": "stream",
          "name": "stdout",
          "text": [
            "<class 'pandas.core.frame.DataFrame'>\n",
            "RangeIndex: 1103 entries, 0 to 1102\n",
            "Data columns (total 20 columns):\n",
            " #   Column                      Non-Null Count  Dtype  \n",
            "---  ------                      --------------  -----  \n",
            " 0   Unnamed: 0                  1103 non-null   int64  \n",
            " 1   realSum                     1103 non-null   float64\n",
            " 2   room_type                   1103 non-null   object \n",
            " 3   room_shared                 1103 non-null   bool   \n",
            " 4   room_private                1103 non-null   bool   \n",
            " 5   person_capacity             1103 non-null   float64\n",
            " 6   host_is_superhost           1103 non-null   bool   \n",
            " 7   multi                       1103 non-null   int64  \n",
            " 8   biz                         1103 non-null   int64  \n",
            " 9   cleanliness_rating          1103 non-null   float64\n",
            " 10  guest_satisfaction_overall  1103 non-null   float64\n",
            " 11  bedrooms                    1103 non-null   int64  \n",
            " 12  dist                        1103 non-null   float64\n",
            " 13  metro_dist                  1103 non-null   float64\n",
            " 14  attr_index                  1103 non-null   float64\n",
            " 15  attr_index_norm             1103 non-null   float64\n",
            " 16  rest_index                  1103 non-null   float64\n",
            " 17  rest_index_norm             1103 non-null   float64\n",
            " 18  lng                         1103 non-null   float64\n",
            " 19  lat                         1103 non-null   float64\n",
            "dtypes: bool(3), float64(12), int64(4), object(1)\n",
            "memory usage: 149.8+ KB\n"
          ]
        }
      ]
    },
    {
      "cell_type": "markdown",
      "source": [
        "## Backup"
      ],
      "metadata": {
        "id": "gEKphqHjnFDZ"
      }
    },
    {
      "cell_type": "code",
      "source": [
        "# Backup local do df\n",
        "dfback1 = df.copy()"
      ],
      "metadata": {
        "id": "_cDwYhoJnGzy"
      },
      "execution_count": null,
      "outputs": []
    },
    {
      "cell_type": "markdown",
      "source": [
        "# **Transformação**"
      ],
      "metadata": {
        "id": "-stpig9RV6TN"
      }
    },
    {
      "cell_type": "markdown",
      "source": [
        "**Verificações gerais e básicas de qualquer base de dados, se houver os casos abaixo:**\n",
        "\n",
        "*  Escolher as possíveis colunas importantes para a análise;\n",
        "*  Verificar se há colunas iguais;\n",
        "*  Verificação e tratamento de valores (ou observações) únicos;\n",
        "*  Verificação e tratamento de duplicadas\n",
        "*  Verificação e tratamento de inconsistência\n",
        "*  Verificação e tratamento de valores nulos\n",
        "*  Tradução/Renomeação\n",
        "*  Transformação de tipos adequados dos dados\n",
        "*  Garantia de qualidade e integridade dos dados"
      ],
      "metadata": {
        "id": "WeX-T75jnOIN"
      }
    },
    {
      "cell_type": "markdown",
      "source": [
        "## Colunas escolhidas\n",
        "\n",
        "* realSum\n",
        "* room_type\n",
        "* host_is_superhost\n",
        "* dist\n",
        "* metro_dist\n",
        "* lng\n",
        "* lat\n",
        "* guest_satisfaction_overall\n",
        "* clean_rating\n",
        "* attr_index_norm\n",
        "* rest_index_norm\n",
        "* metro_dist\n",
        "* person_capacity\n",
        "* bedrooms"
      ],
      "metadata": {
        "id": "_jTBuX21nPfO"
      }
    },
    {
      "cell_type": "markdown",
      "source": [
        "## Tradução/Renomeação"
      ],
      "metadata": {
        "id": "OnwV4RyfyTrD"
      }
    },
    {
      "cell_type": "code",
      "source": [
        "# trduzindo as colunas\n",
        "df.rename(columns = { 'realSum': 'valor_total',\n",
        "                     'room_type' : 'tipo_quarto',\n",
        "                      'host_is_superhost': 'bom_anfitriao',\n",
        "                      'dist' : 'distancia',\n",
        "                      'metro_dist': 'dist_metro',\n",
        "                      'lng': 'longitude',\n",
        "                      'lat': 'latitude',\n",
        "                      'guest_satisfaction_overall': 'nivel_satisfacao',\n",
        "                      'cleanliness_rating': 'nivel_limpeza',\n",
        "                      'attr_index_norm': 'indice_atracao',\n",
        "                      'rest_index_norm': 'indice_restaurante',\n",
        "                      'person_capacity' : 'capacidade',\n",
        "\n",
        "                      'bedrooms': 'quartos'\n",
        "                        }, inplace = True)"
      ],
      "metadata": {
        "id": "Aue8w-8ZyS9b"
      },
      "execution_count": null,
      "outputs": []
    },
    {
      "cell_type": "code",
      "source": [
        "# verificando os registros\n",
        "print(sorted(pd.unique(df['tipo_quarto'])))"
      ],
      "metadata": {
        "colab": {
          "base_uri": "https://localhost:8080/"
        },
        "id": "I5Vx8z0_3024",
        "outputId": "32dc8059-9e61-4dcb-d366-a6f62e3c9129"
      },
      "execution_count": null,
      "outputs": [
        {
          "output_type": "stream",
          "name": "stdout",
          "text": [
            "['Entire home/apt', 'Private room', 'Shared room']\n"
          ]
        }
      ]
    },
    {
      "cell_type": "code",
      "source": [
        "# verificando os registros\n",
        "print(sorted(pd.unique(df['bom_anfitriao'])))"
      ],
      "metadata": {
        "colab": {
          "base_uri": "https://localhost:8080/"
        },
        "id": "JGdYHwiA4P9Y",
        "outputId": "62c6c07a-856f-43eb-9b04-031fc890d654"
      },
      "execution_count": null,
      "outputs": [
        {
          "output_type": "stream",
          "name": "stdout",
          "text": [
            "[False, True]\n"
          ]
        }
      ]
    },
    {
      "cell_type": "code",
      "source": [
        "# traduzindo os registro da coluna tipo_quarto\n",
        "df.replace(['Private room'], 'QUARTO PRIVADO',inplace=True)\n",
        "df.replace(['Entire home/apt'], 'CASA/APARTAMENTO INTEIRO',inplace=True)\n",
        "df.replace(['Shared room'], 'QUARTO COMPARTILHADO',inplace=True)"
      ],
      "metadata": {
        "id": "04P3t0ZR2Yg2"
      },
      "execution_count": null,
      "outputs": []
    },
    {
      "cell_type": "code",
      "source": [
        "df"
      ],
      "metadata": {
        "id": "9miTUCGF0W0S",
        "colab": {
          "base_uri": "https://localhost:8080/"
        },
        "outputId": "41226ecd-dab8-4f3c-bef9-55f1dd8f3081"
      },
      "execution_count": null,
      "outputs": [
        {
          "output_type": "execute_result",
          "data": {
            "text/plain": [
              "      Unnamed: 0  valor_total               tipo_quarto  room_shared  \\\n",
              "0              0   194.033698            QUARTO PRIVADO        False   \n",
              "1              1   344.245776            QUARTO PRIVADO        False   \n",
              "2              2   264.101422            QUARTO PRIVADO        False   \n",
              "3              3   433.529398            QUARTO PRIVADO        False   \n",
              "4              4   485.552926            QUARTO PRIVADO        False   \n",
              "...          ...          ...                       ...          ...   \n",
              "1098        1098  2486.115342  CASA/APARTAMENTO INTEIRO        False   \n",
              "1099        1099   233.637194            QUARTO PRIVADO        False   \n",
              "1100        1100   317.062311            QUARTO PRIVADO        False   \n",
              "1101        1101  1812.855904  CASA/APARTAMENTO INTEIRO        False   \n",
              "1102        1102   258.008577      QUARTO COMPARTILHADO         True   \n",
              "\n",
              "      room_private  capacidade  bom_anfitriao  multi  biz  nivel_limpeza  \\\n",
              "0             True         2.0          False      1    0           10.0   \n",
              "1             True         4.0          False      0    0            8.0   \n",
              "2             True         2.0          False      0    1            9.0   \n",
              "3             True         4.0          False      0    1            9.0   \n",
              "4             True         2.0           True      0    0           10.0   \n",
              "...            ...         ...            ...    ...  ...            ...   \n",
              "1098         False         2.0          False      0    0           10.0   \n",
              "1099          True         2.0          False      1    0           10.0   \n",
              "1100          True         2.0          False      1    0           10.0   \n",
              "1101         False         4.0          False      0    0            8.0   \n",
              "1102         False         2.0          False      0    0            8.0   \n",
              "\n",
              "      nivel_satisfacao  quartos  distancia  dist_metro  attr_index  \\\n",
              "0                 93.0        1   5.022964    2.539380   78.690379   \n",
              "1                 85.0        1   0.488389    0.239404  631.176378   \n",
              "2                 87.0        1   5.748312    3.651621   75.275877   \n",
              "3                 90.0        2   0.384862    0.439876  493.272534   \n",
              "4                 98.0        1   0.544738    0.318693  552.830324   \n",
              "...                ...      ...        ...         ...         ...   \n",
              "1098             100.0        1   2.375833    1.436054  181.198355   \n",
              "1099              90.0        1   4.719736    0.322263  108.024880   \n",
              "1100              92.0        1   0.598355    0.751993  440.476515   \n",
              "1101              84.0        5   1.943020    0.388532  257.948105   \n",
              "1102              90.0        1   0.280204    0.516217  533.962653   \n",
              "\n",
              "      indice_atracao  rest_index  indice_restaurante  longitude  latitude  \n",
              "0           4.166708   98.253896            6.846473    4.90569  52.41772  \n",
              "1          33.421209  837.280757           58.342928    4.90005  52.37432  \n",
              "2           3.985908   95.386955            6.646700    4.97512  52.36103  \n",
              "3          26.119108  875.033098           60.973565    4.89417  52.37663  \n",
              "4          29.272733  815.305740           56.811677    4.90051  52.37508  \n",
              "...              ...         ...                 ...        ...       ...  \n",
              "1098        9.594573  225.304203           15.699521    4.85869  52.37677  \n",
              "1099        5.719989  134.775277            9.391335    4.83611  52.34910  \n",
              "1100       23.323524  625.947562           43.616927    4.88897  52.37798  \n",
              "1101       13.658524  336.589237           23.454022    4.90688  52.35794  \n",
              "1102       28.273677  807.492307           56.267226    4.89295  52.37575  \n",
              "\n",
              "[1103 rows x 20 columns]"
            ],
            "text/html": [
              "\n",
              "  <div id=\"df-6cd104ac-df0b-4609-8548-696824debbd0\">\n",
              "    <div class=\"colab-df-container\">\n",
              "      <div>\n",
              "<style scoped>\n",
              "    .dataframe tbody tr th:only-of-type {\n",
              "        vertical-align: middle;\n",
              "    }\n",
              "\n",
              "    .dataframe tbody tr th {\n",
              "        vertical-align: top;\n",
              "    }\n",
              "\n",
              "    .dataframe thead th {\n",
              "        text-align: right;\n",
              "    }\n",
              "</style>\n",
              "<table border=\"1\" class=\"dataframe\">\n",
              "  <thead>\n",
              "    <tr style=\"text-align: right;\">\n",
              "      <th></th>\n",
              "      <th>Unnamed: 0</th>\n",
              "      <th>valor_total</th>\n",
              "      <th>tipo_quarto</th>\n",
              "      <th>room_shared</th>\n",
              "      <th>room_private</th>\n",
              "      <th>capacidade</th>\n",
              "      <th>bom_anfitriao</th>\n",
              "      <th>multi</th>\n",
              "      <th>biz</th>\n",
              "      <th>nivel_limpeza</th>\n",
              "      <th>nivel_satisfacao</th>\n",
              "      <th>quartos</th>\n",
              "      <th>distancia</th>\n",
              "      <th>dist_metro</th>\n",
              "      <th>attr_index</th>\n",
              "      <th>indice_atracao</th>\n",
              "      <th>rest_index</th>\n",
              "      <th>indice_restaurante</th>\n",
              "      <th>longitude</th>\n",
              "      <th>latitude</th>\n",
              "    </tr>\n",
              "  </thead>\n",
              "  <tbody>\n",
              "    <tr>\n",
              "      <th>0</th>\n",
              "      <td>0</td>\n",
              "      <td>194.033698</td>\n",
              "      <td>QUARTO PRIVADO</td>\n",
              "      <td>False</td>\n",
              "      <td>True</td>\n",
              "      <td>2.0</td>\n",
              "      <td>False</td>\n",
              "      <td>1</td>\n",
              "      <td>0</td>\n",
              "      <td>10.0</td>\n",
              "      <td>93.0</td>\n",
              "      <td>1</td>\n",
              "      <td>5.022964</td>\n",
              "      <td>2.539380</td>\n",
              "      <td>78.690379</td>\n",
              "      <td>4.166708</td>\n",
              "      <td>98.253896</td>\n",
              "      <td>6.846473</td>\n",
              "      <td>4.90569</td>\n",
              "      <td>52.41772</td>\n",
              "    </tr>\n",
              "    <tr>\n",
              "      <th>1</th>\n",
              "      <td>1</td>\n",
              "      <td>344.245776</td>\n",
              "      <td>QUARTO PRIVADO</td>\n",
              "      <td>False</td>\n",
              "      <td>True</td>\n",
              "      <td>4.0</td>\n",
              "      <td>False</td>\n",
              "      <td>0</td>\n",
              "      <td>0</td>\n",
              "      <td>8.0</td>\n",
              "      <td>85.0</td>\n",
              "      <td>1</td>\n",
              "      <td>0.488389</td>\n",
              "      <td>0.239404</td>\n",
              "      <td>631.176378</td>\n",
              "      <td>33.421209</td>\n",
              "      <td>837.280757</td>\n",
              "      <td>58.342928</td>\n",
              "      <td>4.90005</td>\n",
              "      <td>52.37432</td>\n",
              "    </tr>\n",
              "    <tr>\n",
              "      <th>2</th>\n",
              "      <td>2</td>\n",
              "      <td>264.101422</td>\n",
              "      <td>QUARTO PRIVADO</td>\n",
              "      <td>False</td>\n",
              "      <td>True</td>\n",
              "      <td>2.0</td>\n",
              "      <td>False</td>\n",
              "      <td>0</td>\n",
              "      <td>1</td>\n",
              "      <td>9.0</td>\n",
              "      <td>87.0</td>\n",
              "      <td>1</td>\n",
              "      <td>5.748312</td>\n",
              "      <td>3.651621</td>\n",
              "      <td>75.275877</td>\n",
              "      <td>3.985908</td>\n",
              "      <td>95.386955</td>\n",
              "      <td>6.646700</td>\n",
              "      <td>4.97512</td>\n",
              "      <td>52.36103</td>\n",
              "    </tr>\n",
              "    <tr>\n",
              "      <th>3</th>\n",
              "      <td>3</td>\n",
              "      <td>433.529398</td>\n",
              "      <td>QUARTO PRIVADO</td>\n",
              "      <td>False</td>\n",
              "      <td>True</td>\n",
              "      <td>4.0</td>\n",
              "      <td>False</td>\n",
              "      <td>0</td>\n",
              "      <td>1</td>\n",
              "      <td>9.0</td>\n",
              "      <td>90.0</td>\n",
              "      <td>2</td>\n",
              "      <td>0.384862</td>\n",
              "      <td>0.439876</td>\n",
              "      <td>493.272534</td>\n",
              "      <td>26.119108</td>\n",
              "      <td>875.033098</td>\n",
              "      <td>60.973565</td>\n",
              "      <td>4.89417</td>\n",
              "      <td>52.37663</td>\n",
              "    </tr>\n",
              "    <tr>\n",
              "      <th>4</th>\n",
              "      <td>4</td>\n",
              "      <td>485.552926</td>\n",
              "      <td>QUARTO PRIVADO</td>\n",
              "      <td>False</td>\n",
              "      <td>True</td>\n",
              "      <td>2.0</td>\n",
              "      <td>True</td>\n",
              "      <td>0</td>\n",
              "      <td>0</td>\n",
              "      <td>10.0</td>\n",
              "      <td>98.0</td>\n",
              "      <td>1</td>\n",
              "      <td>0.544738</td>\n",
              "      <td>0.318693</td>\n",
              "      <td>552.830324</td>\n",
              "      <td>29.272733</td>\n",
              "      <td>815.305740</td>\n",
              "      <td>56.811677</td>\n",
              "      <td>4.90051</td>\n",
              "      <td>52.37508</td>\n",
              "    </tr>\n",
              "    <tr>\n",
              "      <th>...</th>\n",
              "      <td>...</td>\n",
              "      <td>...</td>\n",
              "      <td>...</td>\n",
              "      <td>...</td>\n",
              "      <td>...</td>\n",
              "      <td>...</td>\n",
              "      <td>...</td>\n",
              "      <td>...</td>\n",
              "      <td>...</td>\n",
              "      <td>...</td>\n",
              "      <td>...</td>\n",
              "      <td>...</td>\n",
              "      <td>...</td>\n",
              "      <td>...</td>\n",
              "      <td>...</td>\n",
              "      <td>...</td>\n",
              "      <td>...</td>\n",
              "      <td>...</td>\n",
              "      <td>...</td>\n",
              "      <td>...</td>\n",
              "    </tr>\n",
              "    <tr>\n",
              "      <th>1098</th>\n",
              "      <td>1098</td>\n",
              "      <td>2486.115342</td>\n",
              "      <td>CASA/APARTAMENTO INTEIRO</td>\n",
              "      <td>False</td>\n",
              "      <td>False</td>\n",
              "      <td>2.0</td>\n",
              "      <td>False</td>\n",
              "      <td>0</td>\n",
              "      <td>0</td>\n",
              "      <td>10.0</td>\n",
              "      <td>100.0</td>\n",
              "      <td>1</td>\n",
              "      <td>2.375833</td>\n",
              "      <td>1.436054</td>\n",
              "      <td>181.198355</td>\n",
              "      <td>9.594573</td>\n",
              "      <td>225.304203</td>\n",
              "      <td>15.699521</td>\n",
              "      <td>4.85869</td>\n",
              "      <td>52.37677</td>\n",
              "    </tr>\n",
              "    <tr>\n",
              "      <th>1099</th>\n",
              "      <td>1099</td>\n",
              "      <td>233.637194</td>\n",
              "      <td>QUARTO PRIVADO</td>\n",
              "      <td>False</td>\n",
              "      <td>True</td>\n",
              "      <td>2.0</td>\n",
              "      <td>False</td>\n",
              "      <td>1</td>\n",
              "      <td>0</td>\n",
              "      <td>10.0</td>\n",
              "      <td>90.0</td>\n",
              "      <td>1</td>\n",
              "      <td>4.719736</td>\n",
              "      <td>0.322263</td>\n",
              "      <td>108.024880</td>\n",
              "      <td>5.719989</td>\n",
              "      <td>134.775277</td>\n",
              "      <td>9.391335</td>\n",
              "      <td>4.83611</td>\n",
              "      <td>52.34910</td>\n",
              "    </tr>\n",
              "    <tr>\n",
              "      <th>1100</th>\n",
              "      <td>1100</td>\n",
              "      <td>317.062311</td>\n",
              "      <td>QUARTO PRIVADO</td>\n",
              "      <td>False</td>\n",
              "      <td>True</td>\n",
              "      <td>2.0</td>\n",
              "      <td>False</td>\n",
              "      <td>1</td>\n",
              "      <td>0</td>\n",
              "      <td>10.0</td>\n",
              "      <td>92.0</td>\n",
              "      <td>1</td>\n",
              "      <td>0.598355</td>\n",
              "      <td>0.751993</td>\n",
              "      <td>440.476515</td>\n",
              "      <td>23.323524</td>\n",
              "      <td>625.947562</td>\n",
              "      <td>43.616927</td>\n",
              "      <td>4.88897</td>\n",
              "      <td>52.37798</td>\n",
              "    </tr>\n",
              "    <tr>\n",
              "      <th>1101</th>\n",
              "      <td>1101</td>\n",
              "      <td>1812.855904</td>\n",
              "      <td>CASA/APARTAMENTO INTEIRO</td>\n",
              "      <td>False</td>\n",
              "      <td>False</td>\n",
              "      <td>4.0</td>\n",
              "      <td>False</td>\n",
              "      <td>0</td>\n",
              "      <td>0</td>\n",
              "      <td>8.0</td>\n",
              "      <td>84.0</td>\n",
              "      <td>5</td>\n",
              "      <td>1.943020</td>\n",
              "      <td>0.388532</td>\n",
              "      <td>257.948105</td>\n",
              "      <td>13.658524</td>\n",
              "      <td>336.589237</td>\n",
              "      <td>23.454022</td>\n",
              "      <td>4.90688</td>\n",
              "      <td>52.35794</td>\n",
              "    </tr>\n",
              "    <tr>\n",
              "      <th>1102</th>\n",
              "      <td>1102</td>\n",
              "      <td>258.008577</td>\n",
              "      <td>QUARTO COMPARTILHADO</td>\n",
              "      <td>True</td>\n",
              "      <td>False</td>\n",
              "      <td>2.0</td>\n",
              "      <td>False</td>\n",
              "      <td>0</td>\n",
              "      <td>0</td>\n",
              "      <td>8.0</td>\n",
              "      <td>90.0</td>\n",
              "      <td>1</td>\n",
              "      <td>0.280204</td>\n",
              "      <td>0.516217</td>\n",
              "      <td>533.962653</td>\n",
              "      <td>28.273677</td>\n",
              "      <td>807.492307</td>\n",
              "      <td>56.267226</td>\n",
              "      <td>4.89295</td>\n",
              "      <td>52.37575</td>\n",
              "    </tr>\n",
              "  </tbody>\n",
              "</table>\n",
              "<p>1103 rows × 20 columns</p>\n",
              "</div>\n",
              "      <button class=\"colab-df-convert\" onclick=\"convertToInteractive('df-6cd104ac-df0b-4609-8548-696824debbd0')\"\n",
              "              title=\"Convert this dataframe to an interactive table.\"\n",
              "              style=\"display:none;\">\n",
              "        \n",
              "  <svg xmlns=\"http://www.w3.org/2000/svg\" height=\"24px\"viewBox=\"0 0 24 24\"\n",
              "       width=\"24px\">\n",
              "    <path d=\"M0 0h24v24H0V0z\" fill=\"none\"/>\n",
              "    <path d=\"M18.56 5.44l.94 2.06.94-2.06 2.06-.94-2.06-.94-.94-2.06-.94 2.06-2.06.94zm-11 1L8.5 8.5l.94-2.06 2.06-.94-2.06-.94L8.5 2.5l-.94 2.06-2.06.94zm10 10l.94 2.06.94-2.06 2.06-.94-2.06-.94-.94-2.06-.94 2.06-2.06.94z\"/><path d=\"M17.41 7.96l-1.37-1.37c-.4-.4-.92-.59-1.43-.59-.52 0-1.04.2-1.43.59L10.3 9.45l-7.72 7.72c-.78.78-.78 2.05 0 2.83L4 21.41c.39.39.9.59 1.41.59.51 0 1.02-.2 1.41-.59l7.78-7.78 2.81-2.81c.8-.78.8-2.07 0-2.86zM5.41 20L4 18.59l7.72-7.72 1.47 1.35L5.41 20z\"/>\n",
              "  </svg>\n",
              "      </button>\n",
              "      \n",
              "  <style>\n",
              "    .colab-df-container {\n",
              "      display:flex;\n",
              "      flex-wrap:wrap;\n",
              "      gap: 12px;\n",
              "    }\n",
              "\n",
              "    .colab-df-convert {\n",
              "      background-color: #E8F0FE;\n",
              "      border: none;\n",
              "      border-radius: 50%;\n",
              "      cursor: pointer;\n",
              "      display: none;\n",
              "      fill: #1967D2;\n",
              "      height: 32px;\n",
              "      padding: 0 0 0 0;\n",
              "      width: 32px;\n",
              "    }\n",
              "\n",
              "    .colab-df-convert:hover {\n",
              "      background-color: #E2EBFA;\n",
              "      box-shadow: 0px 1px 2px rgba(60, 64, 67, 0.3), 0px 1px 3px 1px rgba(60, 64, 67, 0.15);\n",
              "      fill: #174EA6;\n",
              "    }\n",
              "\n",
              "    [theme=dark] .colab-df-convert {\n",
              "      background-color: #3B4455;\n",
              "      fill: #D2E3FC;\n",
              "    }\n",
              "\n",
              "    [theme=dark] .colab-df-convert:hover {\n",
              "      background-color: #434B5C;\n",
              "      box-shadow: 0px 1px 3px 1px rgba(0, 0, 0, 0.15);\n",
              "      filter: drop-shadow(0px 1px 2px rgba(0, 0, 0, 0.3));\n",
              "      fill: #FFFFFF;\n",
              "    }\n",
              "  </style>\n",
              "\n",
              "      <script>\n",
              "        const buttonEl =\n",
              "          document.querySelector('#df-6cd104ac-df0b-4609-8548-696824debbd0 button.colab-df-convert');\n",
              "        buttonEl.style.display =\n",
              "          google.colab.kernel.accessAllowed ? 'block' : 'none';\n",
              "\n",
              "        async function convertToInteractive(key) {\n",
              "          const element = document.querySelector('#df-6cd104ac-df0b-4609-8548-696824debbd0');\n",
              "          const dataTable =\n",
              "            await google.colab.kernel.invokeFunction('convertToInteractive',\n",
              "                                                     [key], {});\n",
              "          if (!dataTable) return;\n",
              "\n",
              "          const docLinkHtml = 'Like what you see? Visit the ' +\n",
              "            '<a target=\"_blank\" href=https://colab.research.google.com/notebooks/data_table.ipynb>data table notebook</a>'\n",
              "            + ' to learn more about interactive tables.';\n",
              "          element.innerHTML = '';\n",
              "          dataTable['output_type'] = 'display_data';\n",
              "          await google.colab.output.renderOutput(dataTable, element);\n",
              "          const docLink = document.createElement('div');\n",
              "          docLink.innerHTML = docLinkHtml;\n",
              "          element.appendChild(docLink);\n",
              "        }\n",
              "      </script>\n",
              "    </div>\n",
              "  </div>\n",
              "  "
            ]
          },
          "metadata": {},
          "execution_count": 20
        }
      ]
    },
    {
      "cell_type": "markdown",
      "source": [
        "## Transformação de tipos adequados dos dados"
      ],
      "metadata": {
        "id": "1msLifp4xna8"
      }
    },
    {
      "cell_type": "code",
      "source": [
        "df.dtypes"
      ],
      "metadata": {
        "colab": {
          "base_uri": "https://localhost:8080/"
        },
        "id": "N44cMohRxqM9",
        "outputId": "c204b06c-607e-4fcc-82ae-478a0ac8c358"
      },
      "execution_count": null,
      "outputs": [
        {
          "output_type": "execute_result",
          "data": {
            "text/plain": [
              "Unnamed: 0              int64\n",
              "valor_total           float64\n",
              "tipo_quarto            object\n",
              "room_shared              bool\n",
              "room_private             bool\n",
              "capacidade            float64\n",
              "bom_anfitriao            bool\n",
              "multi                   int64\n",
              "biz                     int64\n",
              "nivel_limpeza         float64\n",
              "nivel_satisfacao      float64\n",
              "quartos                 int64\n",
              "distancia             float64\n",
              "dist_metro            float64\n",
              "attr_index            float64\n",
              "indice_atracao        float64\n",
              "rest_index            float64\n",
              "indice_restaurante    float64\n",
              "longitude             float64\n",
              "latitude              float64\n",
              "dtype: object"
            ]
          },
          "metadata": {},
          "execution_count": 21
        }
      ]
    },
    {
      "cell_type": "code",
      "source": [
        "# Transformação do tipo de dados da coluna capacidade\n",
        "df['capacidade'] = df['capacidade'].astype(int)"
      ],
      "metadata": {
        "id": "t-cyx2HuyA4K"
      },
      "execution_count": null,
      "outputs": []
    },
    {
      "cell_type": "code",
      "source": [
        "df"
      ],
      "metadata": {
        "id": "E9zTZB1K4S6r",
        "colab": {
          "base_uri": "https://localhost:8080/"
        },
        "outputId": "af932637-ec8e-4f12-d9f8-c8883733c6a7"
      },
      "execution_count": null,
      "outputs": [
        {
          "output_type": "execute_result",
          "data": {
            "text/plain": [
              "      Unnamed: 0  valor_total               tipo_quarto  room_shared  \\\n",
              "0              0   194.033698            QUARTO PRIVADO        False   \n",
              "1              1   344.245776            QUARTO PRIVADO        False   \n",
              "2              2   264.101422            QUARTO PRIVADO        False   \n",
              "3              3   433.529398            QUARTO PRIVADO        False   \n",
              "4              4   485.552926            QUARTO PRIVADO        False   \n",
              "...          ...          ...                       ...          ...   \n",
              "1098        1098  2486.115342  CASA/APARTAMENTO INTEIRO        False   \n",
              "1099        1099   233.637194            QUARTO PRIVADO        False   \n",
              "1100        1100   317.062311            QUARTO PRIVADO        False   \n",
              "1101        1101  1812.855904  CASA/APARTAMENTO INTEIRO        False   \n",
              "1102        1102   258.008577      QUARTO COMPARTILHADO         True   \n",
              "\n",
              "      room_private  capacidade  bom_anfitriao  multi  biz  nivel_limpeza  \\\n",
              "0             True           2          False      1    0           10.0   \n",
              "1             True           4          False      0    0            8.0   \n",
              "2             True           2          False      0    1            9.0   \n",
              "3             True           4          False      0    1            9.0   \n",
              "4             True           2           True      0    0           10.0   \n",
              "...            ...         ...            ...    ...  ...            ...   \n",
              "1098         False           2          False      0    0           10.0   \n",
              "1099          True           2          False      1    0           10.0   \n",
              "1100          True           2          False      1    0           10.0   \n",
              "1101         False           4          False      0    0            8.0   \n",
              "1102         False           2          False      0    0            8.0   \n",
              "\n",
              "      nivel_satisfacao  quartos  distancia  dist_metro  attr_index  \\\n",
              "0                 93.0        1   5.022964    2.539380   78.690379   \n",
              "1                 85.0        1   0.488389    0.239404  631.176378   \n",
              "2                 87.0        1   5.748312    3.651621   75.275877   \n",
              "3                 90.0        2   0.384862    0.439876  493.272534   \n",
              "4                 98.0        1   0.544738    0.318693  552.830324   \n",
              "...                ...      ...        ...         ...         ...   \n",
              "1098             100.0        1   2.375833    1.436054  181.198355   \n",
              "1099              90.0        1   4.719736    0.322263  108.024880   \n",
              "1100              92.0        1   0.598355    0.751993  440.476515   \n",
              "1101              84.0        5   1.943020    0.388532  257.948105   \n",
              "1102              90.0        1   0.280204    0.516217  533.962653   \n",
              "\n",
              "      indice_atracao  rest_index  indice_restaurante  longitude  latitude  \n",
              "0           4.166708   98.253896            6.846473    4.90569  52.41772  \n",
              "1          33.421209  837.280757           58.342928    4.90005  52.37432  \n",
              "2           3.985908   95.386955            6.646700    4.97512  52.36103  \n",
              "3          26.119108  875.033098           60.973565    4.89417  52.37663  \n",
              "4          29.272733  815.305740           56.811677    4.90051  52.37508  \n",
              "...              ...         ...                 ...        ...       ...  \n",
              "1098        9.594573  225.304203           15.699521    4.85869  52.37677  \n",
              "1099        5.719989  134.775277            9.391335    4.83611  52.34910  \n",
              "1100       23.323524  625.947562           43.616927    4.88897  52.37798  \n",
              "1101       13.658524  336.589237           23.454022    4.90688  52.35794  \n",
              "1102       28.273677  807.492307           56.267226    4.89295  52.37575  \n",
              "\n",
              "[1103 rows x 20 columns]"
            ],
            "text/html": [
              "\n",
              "  <div id=\"df-b020fed0-d748-4edc-8c94-b221065ab11c\">\n",
              "    <div class=\"colab-df-container\">\n",
              "      <div>\n",
              "<style scoped>\n",
              "    .dataframe tbody tr th:only-of-type {\n",
              "        vertical-align: middle;\n",
              "    }\n",
              "\n",
              "    .dataframe tbody tr th {\n",
              "        vertical-align: top;\n",
              "    }\n",
              "\n",
              "    .dataframe thead th {\n",
              "        text-align: right;\n",
              "    }\n",
              "</style>\n",
              "<table border=\"1\" class=\"dataframe\">\n",
              "  <thead>\n",
              "    <tr style=\"text-align: right;\">\n",
              "      <th></th>\n",
              "      <th>Unnamed: 0</th>\n",
              "      <th>valor_total</th>\n",
              "      <th>tipo_quarto</th>\n",
              "      <th>room_shared</th>\n",
              "      <th>room_private</th>\n",
              "      <th>capacidade</th>\n",
              "      <th>bom_anfitriao</th>\n",
              "      <th>multi</th>\n",
              "      <th>biz</th>\n",
              "      <th>nivel_limpeza</th>\n",
              "      <th>nivel_satisfacao</th>\n",
              "      <th>quartos</th>\n",
              "      <th>distancia</th>\n",
              "      <th>dist_metro</th>\n",
              "      <th>attr_index</th>\n",
              "      <th>indice_atracao</th>\n",
              "      <th>rest_index</th>\n",
              "      <th>indice_restaurante</th>\n",
              "      <th>longitude</th>\n",
              "      <th>latitude</th>\n",
              "    </tr>\n",
              "  </thead>\n",
              "  <tbody>\n",
              "    <tr>\n",
              "      <th>0</th>\n",
              "      <td>0</td>\n",
              "      <td>194.033698</td>\n",
              "      <td>QUARTO PRIVADO</td>\n",
              "      <td>False</td>\n",
              "      <td>True</td>\n",
              "      <td>2</td>\n",
              "      <td>False</td>\n",
              "      <td>1</td>\n",
              "      <td>0</td>\n",
              "      <td>10.0</td>\n",
              "      <td>93.0</td>\n",
              "      <td>1</td>\n",
              "      <td>5.022964</td>\n",
              "      <td>2.539380</td>\n",
              "      <td>78.690379</td>\n",
              "      <td>4.166708</td>\n",
              "      <td>98.253896</td>\n",
              "      <td>6.846473</td>\n",
              "      <td>4.90569</td>\n",
              "      <td>52.41772</td>\n",
              "    </tr>\n",
              "    <tr>\n",
              "      <th>1</th>\n",
              "      <td>1</td>\n",
              "      <td>344.245776</td>\n",
              "      <td>QUARTO PRIVADO</td>\n",
              "      <td>False</td>\n",
              "      <td>True</td>\n",
              "      <td>4</td>\n",
              "      <td>False</td>\n",
              "      <td>0</td>\n",
              "      <td>0</td>\n",
              "      <td>8.0</td>\n",
              "      <td>85.0</td>\n",
              "      <td>1</td>\n",
              "      <td>0.488389</td>\n",
              "      <td>0.239404</td>\n",
              "      <td>631.176378</td>\n",
              "      <td>33.421209</td>\n",
              "      <td>837.280757</td>\n",
              "      <td>58.342928</td>\n",
              "      <td>4.90005</td>\n",
              "      <td>52.37432</td>\n",
              "    </tr>\n",
              "    <tr>\n",
              "      <th>2</th>\n",
              "      <td>2</td>\n",
              "      <td>264.101422</td>\n",
              "      <td>QUARTO PRIVADO</td>\n",
              "      <td>False</td>\n",
              "      <td>True</td>\n",
              "      <td>2</td>\n",
              "      <td>False</td>\n",
              "      <td>0</td>\n",
              "      <td>1</td>\n",
              "      <td>9.0</td>\n",
              "      <td>87.0</td>\n",
              "      <td>1</td>\n",
              "      <td>5.748312</td>\n",
              "      <td>3.651621</td>\n",
              "      <td>75.275877</td>\n",
              "      <td>3.985908</td>\n",
              "      <td>95.386955</td>\n",
              "      <td>6.646700</td>\n",
              "      <td>4.97512</td>\n",
              "      <td>52.36103</td>\n",
              "    </tr>\n",
              "    <tr>\n",
              "      <th>3</th>\n",
              "      <td>3</td>\n",
              "      <td>433.529398</td>\n",
              "      <td>QUARTO PRIVADO</td>\n",
              "      <td>False</td>\n",
              "      <td>True</td>\n",
              "      <td>4</td>\n",
              "      <td>False</td>\n",
              "      <td>0</td>\n",
              "      <td>1</td>\n",
              "      <td>9.0</td>\n",
              "      <td>90.0</td>\n",
              "      <td>2</td>\n",
              "      <td>0.384862</td>\n",
              "      <td>0.439876</td>\n",
              "      <td>493.272534</td>\n",
              "      <td>26.119108</td>\n",
              "      <td>875.033098</td>\n",
              "      <td>60.973565</td>\n",
              "      <td>4.89417</td>\n",
              "      <td>52.37663</td>\n",
              "    </tr>\n",
              "    <tr>\n",
              "      <th>4</th>\n",
              "      <td>4</td>\n",
              "      <td>485.552926</td>\n",
              "      <td>QUARTO PRIVADO</td>\n",
              "      <td>False</td>\n",
              "      <td>True</td>\n",
              "      <td>2</td>\n",
              "      <td>True</td>\n",
              "      <td>0</td>\n",
              "      <td>0</td>\n",
              "      <td>10.0</td>\n",
              "      <td>98.0</td>\n",
              "      <td>1</td>\n",
              "      <td>0.544738</td>\n",
              "      <td>0.318693</td>\n",
              "      <td>552.830324</td>\n",
              "      <td>29.272733</td>\n",
              "      <td>815.305740</td>\n",
              "      <td>56.811677</td>\n",
              "      <td>4.90051</td>\n",
              "      <td>52.37508</td>\n",
              "    </tr>\n",
              "    <tr>\n",
              "      <th>...</th>\n",
              "      <td>...</td>\n",
              "      <td>...</td>\n",
              "      <td>...</td>\n",
              "      <td>...</td>\n",
              "      <td>...</td>\n",
              "      <td>...</td>\n",
              "      <td>...</td>\n",
              "      <td>...</td>\n",
              "      <td>...</td>\n",
              "      <td>...</td>\n",
              "      <td>...</td>\n",
              "      <td>...</td>\n",
              "      <td>...</td>\n",
              "      <td>...</td>\n",
              "      <td>...</td>\n",
              "      <td>...</td>\n",
              "      <td>...</td>\n",
              "      <td>...</td>\n",
              "      <td>...</td>\n",
              "      <td>...</td>\n",
              "    </tr>\n",
              "    <tr>\n",
              "      <th>1098</th>\n",
              "      <td>1098</td>\n",
              "      <td>2486.115342</td>\n",
              "      <td>CASA/APARTAMENTO INTEIRO</td>\n",
              "      <td>False</td>\n",
              "      <td>False</td>\n",
              "      <td>2</td>\n",
              "      <td>False</td>\n",
              "      <td>0</td>\n",
              "      <td>0</td>\n",
              "      <td>10.0</td>\n",
              "      <td>100.0</td>\n",
              "      <td>1</td>\n",
              "      <td>2.375833</td>\n",
              "      <td>1.436054</td>\n",
              "      <td>181.198355</td>\n",
              "      <td>9.594573</td>\n",
              "      <td>225.304203</td>\n",
              "      <td>15.699521</td>\n",
              "      <td>4.85869</td>\n",
              "      <td>52.37677</td>\n",
              "    </tr>\n",
              "    <tr>\n",
              "      <th>1099</th>\n",
              "      <td>1099</td>\n",
              "      <td>233.637194</td>\n",
              "      <td>QUARTO PRIVADO</td>\n",
              "      <td>False</td>\n",
              "      <td>True</td>\n",
              "      <td>2</td>\n",
              "      <td>False</td>\n",
              "      <td>1</td>\n",
              "      <td>0</td>\n",
              "      <td>10.0</td>\n",
              "      <td>90.0</td>\n",
              "      <td>1</td>\n",
              "      <td>4.719736</td>\n",
              "      <td>0.322263</td>\n",
              "      <td>108.024880</td>\n",
              "      <td>5.719989</td>\n",
              "      <td>134.775277</td>\n",
              "      <td>9.391335</td>\n",
              "      <td>4.83611</td>\n",
              "      <td>52.34910</td>\n",
              "    </tr>\n",
              "    <tr>\n",
              "      <th>1100</th>\n",
              "      <td>1100</td>\n",
              "      <td>317.062311</td>\n",
              "      <td>QUARTO PRIVADO</td>\n",
              "      <td>False</td>\n",
              "      <td>True</td>\n",
              "      <td>2</td>\n",
              "      <td>False</td>\n",
              "      <td>1</td>\n",
              "      <td>0</td>\n",
              "      <td>10.0</td>\n",
              "      <td>92.0</td>\n",
              "      <td>1</td>\n",
              "      <td>0.598355</td>\n",
              "      <td>0.751993</td>\n",
              "      <td>440.476515</td>\n",
              "      <td>23.323524</td>\n",
              "      <td>625.947562</td>\n",
              "      <td>43.616927</td>\n",
              "      <td>4.88897</td>\n",
              "      <td>52.37798</td>\n",
              "    </tr>\n",
              "    <tr>\n",
              "      <th>1101</th>\n",
              "      <td>1101</td>\n",
              "      <td>1812.855904</td>\n",
              "      <td>CASA/APARTAMENTO INTEIRO</td>\n",
              "      <td>False</td>\n",
              "      <td>False</td>\n",
              "      <td>4</td>\n",
              "      <td>False</td>\n",
              "      <td>0</td>\n",
              "      <td>0</td>\n",
              "      <td>8.0</td>\n",
              "      <td>84.0</td>\n",
              "      <td>5</td>\n",
              "      <td>1.943020</td>\n",
              "      <td>0.388532</td>\n",
              "      <td>257.948105</td>\n",
              "      <td>13.658524</td>\n",
              "      <td>336.589237</td>\n",
              "      <td>23.454022</td>\n",
              "      <td>4.90688</td>\n",
              "      <td>52.35794</td>\n",
              "    </tr>\n",
              "    <tr>\n",
              "      <th>1102</th>\n",
              "      <td>1102</td>\n",
              "      <td>258.008577</td>\n",
              "      <td>QUARTO COMPARTILHADO</td>\n",
              "      <td>True</td>\n",
              "      <td>False</td>\n",
              "      <td>2</td>\n",
              "      <td>False</td>\n",
              "      <td>0</td>\n",
              "      <td>0</td>\n",
              "      <td>8.0</td>\n",
              "      <td>90.0</td>\n",
              "      <td>1</td>\n",
              "      <td>0.280204</td>\n",
              "      <td>0.516217</td>\n",
              "      <td>533.962653</td>\n",
              "      <td>28.273677</td>\n",
              "      <td>807.492307</td>\n",
              "      <td>56.267226</td>\n",
              "      <td>4.89295</td>\n",
              "      <td>52.37575</td>\n",
              "    </tr>\n",
              "  </tbody>\n",
              "</table>\n",
              "<p>1103 rows × 20 columns</p>\n",
              "</div>\n",
              "      <button class=\"colab-df-convert\" onclick=\"convertToInteractive('df-b020fed0-d748-4edc-8c94-b221065ab11c')\"\n",
              "              title=\"Convert this dataframe to an interactive table.\"\n",
              "              style=\"display:none;\">\n",
              "        \n",
              "  <svg xmlns=\"http://www.w3.org/2000/svg\" height=\"24px\"viewBox=\"0 0 24 24\"\n",
              "       width=\"24px\">\n",
              "    <path d=\"M0 0h24v24H0V0z\" fill=\"none\"/>\n",
              "    <path d=\"M18.56 5.44l.94 2.06.94-2.06 2.06-.94-2.06-.94-.94-2.06-.94 2.06-2.06.94zm-11 1L8.5 8.5l.94-2.06 2.06-.94-2.06-.94L8.5 2.5l-.94 2.06-2.06.94zm10 10l.94 2.06.94-2.06 2.06-.94-2.06-.94-.94-2.06-.94 2.06-2.06.94z\"/><path d=\"M17.41 7.96l-1.37-1.37c-.4-.4-.92-.59-1.43-.59-.52 0-1.04.2-1.43.59L10.3 9.45l-7.72 7.72c-.78.78-.78 2.05 0 2.83L4 21.41c.39.39.9.59 1.41.59.51 0 1.02-.2 1.41-.59l7.78-7.78 2.81-2.81c.8-.78.8-2.07 0-2.86zM5.41 20L4 18.59l7.72-7.72 1.47 1.35L5.41 20z\"/>\n",
              "  </svg>\n",
              "      </button>\n",
              "      \n",
              "  <style>\n",
              "    .colab-df-container {\n",
              "      display:flex;\n",
              "      flex-wrap:wrap;\n",
              "      gap: 12px;\n",
              "    }\n",
              "\n",
              "    .colab-df-convert {\n",
              "      background-color: #E8F0FE;\n",
              "      border: none;\n",
              "      border-radius: 50%;\n",
              "      cursor: pointer;\n",
              "      display: none;\n",
              "      fill: #1967D2;\n",
              "      height: 32px;\n",
              "      padding: 0 0 0 0;\n",
              "      width: 32px;\n",
              "    }\n",
              "\n",
              "    .colab-df-convert:hover {\n",
              "      background-color: #E2EBFA;\n",
              "      box-shadow: 0px 1px 2px rgba(60, 64, 67, 0.3), 0px 1px 3px 1px rgba(60, 64, 67, 0.15);\n",
              "      fill: #174EA6;\n",
              "    }\n",
              "\n",
              "    [theme=dark] .colab-df-convert {\n",
              "      background-color: #3B4455;\n",
              "      fill: #D2E3FC;\n",
              "    }\n",
              "\n",
              "    [theme=dark] .colab-df-convert:hover {\n",
              "      background-color: #434B5C;\n",
              "      box-shadow: 0px 1px 3px 1px rgba(0, 0, 0, 0.15);\n",
              "      filter: drop-shadow(0px 1px 2px rgba(0, 0, 0, 0.3));\n",
              "      fill: #FFFFFF;\n",
              "    }\n",
              "  </style>\n",
              "\n",
              "      <script>\n",
              "        const buttonEl =\n",
              "          document.querySelector('#df-b020fed0-d748-4edc-8c94-b221065ab11c button.colab-df-convert');\n",
              "        buttonEl.style.display =\n",
              "          google.colab.kernel.accessAllowed ? 'block' : 'none';\n",
              "\n",
              "        async function convertToInteractive(key) {\n",
              "          const element = document.querySelector('#df-b020fed0-d748-4edc-8c94-b221065ab11c');\n",
              "          const dataTable =\n",
              "            await google.colab.kernel.invokeFunction('convertToInteractive',\n",
              "                                                     [key], {});\n",
              "          if (!dataTable) return;\n",
              "\n",
              "          const docLinkHtml = 'Like what you see? Visit the ' +\n",
              "            '<a target=\"_blank\" href=https://colab.research.google.com/notebooks/data_table.ipynb>data table notebook</a>'\n",
              "            + ' to learn more about interactive tables.';\n",
              "          element.innerHTML = '';\n",
              "          dataTable['output_type'] = 'display_data';\n",
              "          await google.colab.output.renderOutput(dataTable, element);\n",
              "          const docLink = document.createElement('div');\n",
              "          docLink.innerHTML = docLinkHtml;\n",
              "          element.appendChild(docLink);\n",
              "        }\n",
              "      </script>\n",
              "    </div>\n",
              "  </div>\n",
              "  "
            ]
          },
          "metadata": {},
          "execution_count": 23
        }
      ]
    },
    {
      "cell_type": "code",
      "source": [
        "df.dtypes"
      ],
      "metadata": {
        "id": "tjy00TdM1AST",
        "colab": {
          "base_uri": "https://localhost:8080/"
        },
        "outputId": "42cd159c-76d6-46f8-8d03-87b868359415"
      },
      "execution_count": null,
      "outputs": [
        {
          "output_type": "execute_result",
          "data": {
            "text/plain": [
              "Unnamed: 0              int64\n",
              "valor_total           float64\n",
              "tipo_quarto            object\n",
              "room_shared              bool\n",
              "room_private             bool\n",
              "capacidade              int64\n",
              "bom_anfitriao            bool\n",
              "multi                   int64\n",
              "biz                     int64\n",
              "nivel_limpeza         float64\n",
              "nivel_satisfacao      float64\n",
              "quartos                 int64\n",
              "distancia             float64\n",
              "dist_metro            float64\n",
              "attr_index            float64\n",
              "indice_atracao        float64\n",
              "rest_index            float64\n",
              "indice_restaurante    float64\n",
              "longitude             float64\n",
              "latitude              float64\n",
              "dtype: object"
            ]
          },
          "metadata": {},
          "execution_count": 24
        }
      ]
    },
    {
      "cell_type": "markdown",
      "source": [
        "## Backup"
      ],
      "metadata": {
        "id": "gQGlnk0T3l2C"
      }
    },
    {
      "cell_type": "code",
      "source": [
        "# Backup local do df com todas as colunas\n",
        "dfback2 = df.copy()"
      ],
      "metadata": {
        "id": "pyLpBrbD3oVs"
      },
      "execution_count": null,
      "outputs": []
    },
    {
      "cell_type": "markdown",
      "source": [
        "## Retirada de colunas não analisadas"
      ],
      "metadata": {
        "id": "39oKQbhu2Gd1"
      }
    },
    {
      "cell_type": "code",
      "source": [
        "# retirada de colunas\n",
        "df.drop(['multi',\n",
        "        'room_shared',\n",
        "        'room_private',\n",
        "        'attr_index',\n",
        "        'rest_index',\n",
        "        'Unnamed: 0',\n",
        "         'biz'\n",
        "        ], axis = 1, inplace = True)"
      ],
      "metadata": {
        "id": "ZHEEb9HH2K_g"
      },
      "execution_count": null,
      "outputs": []
    },
    {
      "cell_type": "code",
      "source": [
        "df"
      ],
      "metadata": {
        "id": "XeWyoN0P4Cih",
        "colab": {
          "base_uri": "https://localhost:8080/"
        },
        "outputId": "92bf9235-0431-478a-c33e-50064e4eced0"
      },
      "execution_count": null,
      "outputs": [
        {
          "output_type": "execute_result",
          "data": {
            "text/plain": [
              "      valor_total               tipo_quarto  capacidade  bom_anfitriao  \\\n",
              "0      194.033698            QUARTO PRIVADO           2          False   \n",
              "1      344.245776            QUARTO PRIVADO           4          False   \n",
              "2      264.101422            QUARTO PRIVADO           2          False   \n",
              "3      433.529398            QUARTO PRIVADO           4          False   \n",
              "4      485.552926            QUARTO PRIVADO           2           True   \n",
              "...           ...                       ...         ...            ...   \n",
              "1098  2486.115342  CASA/APARTAMENTO INTEIRO           2          False   \n",
              "1099   233.637194            QUARTO PRIVADO           2          False   \n",
              "1100   317.062311            QUARTO PRIVADO           2          False   \n",
              "1101  1812.855904  CASA/APARTAMENTO INTEIRO           4          False   \n",
              "1102   258.008577      QUARTO COMPARTILHADO           2          False   \n",
              "\n",
              "      nivel_limpeza  nivel_satisfacao  quartos  distancia  dist_metro  \\\n",
              "0              10.0              93.0        1   5.022964    2.539380   \n",
              "1               8.0              85.0        1   0.488389    0.239404   \n",
              "2               9.0              87.0        1   5.748312    3.651621   \n",
              "3               9.0              90.0        2   0.384862    0.439876   \n",
              "4              10.0              98.0        1   0.544738    0.318693   \n",
              "...             ...               ...      ...        ...         ...   \n",
              "1098           10.0             100.0        1   2.375833    1.436054   \n",
              "1099           10.0              90.0        1   4.719736    0.322263   \n",
              "1100           10.0              92.0        1   0.598355    0.751993   \n",
              "1101            8.0              84.0        5   1.943020    0.388532   \n",
              "1102            8.0              90.0        1   0.280204    0.516217   \n",
              "\n",
              "      indice_atracao  indice_restaurante  longitude  latitude  \n",
              "0           4.166708            6.846473    4.90569  52.41772  \n",
              "1          33.421209           58.342928    4.90005  52.37432  \n",
              "2           3.985908            6.646700    4.97512  52.36103  \n",
              "3          26.119108           60.973565    4.89417  52.37663  \n",
              "4          29.272733           56.811677    4.90051  52.37508  \n",
              "...              ...                 ...        ...       ...  \n",
              "1098        9.594573           15.699521    4.85869  52.37677  \n",
              "1099        5.719989            9.391335    4.83611  52.34910  \n",
              "1100       23.323524           43.616927    4.88897  52.37798  \n",
              "1101       13.658524           23.454022    4.90688  52.35794  \n",
              "1102       28.273677           56.267226    4.89295  52.37575  \n",
              "\n",
              "[1103 rows x 13 columns]"
            ],
            "text/html": [
              "\n",
              "  <div id=\"df-e59018e9-ac90-47dc-a2ae-ff8e4d6a214f\">\n",
              "    <div class=\"colab-df-container\">\n",
              "      <div>\n",
              "<style scoped>\n",
              "    .dataframe tbody tr th:only-of-type {\n",
              "        vertical-align: middle;\n",
              "    }\n",
              "\n",
              "    .dataframe tbody tr th {\n",
              "        vertical-align: top;\n",
              "    }\n",
              "\n",
              "    .dataframe thead th {\n",
              "        text-align: right;\n",
              "    }\n",
              "</style>\n",
              "<table border=\"1\" class=\"dataframe\">\n",
              "  <thead>\n",
              "    <tr style=\"text-align: right;\">\n",
              "      <th></th>\n",
              "      <th>valor_total</th>\n",
              "      <th>tipo_quarto</th>\n",
              "      <th>capacidade</th>\n",
              "      <th>bom_anfitriao</th>\n",
              "      <th>nivel_limpeza</th>\n",
              "      <th>nivel_satisfacao</th>\n",
              "      <th>quartos</th>\n",
              "      <th>distancia</th>\n",
              "      <th>dist_metro</th>\n",
              "      <th>indice_atracao</th>\n",
              "      <th>indice_restaurante</th>\n",
              "      <th>longitude</th>\n",
              "      <th>latitude</th>\n",
              "    </tr>\n",
              "  </thead>\n",
              "  <tbody>\n",
              "    <tr>\n",
              "      <th>0</th>\n",
              "      <td>194.033698</td>\n",
              "      <td>QUARTO PRIVADO</td>\n",
              "      <td>2</td>\n",
              "      <td>False</td>\n",
              "      <td>10.0</td>\n",
              "      <td>93.0</td>\n",
              "      <td>1</td>\n",
              "      <td>5.022964</td>\n",
              "      <td>2.539380</td>\n",
              "      <td>4.166708</td>\n",
              "      <td>6.846473</td>\n",
              "      <td>4.90569</td>\n",
              "      <td>52.41772</td>\n",
              "    </tr>\n",
              "    <tr>\n",
              "      <th>1</th>\n",
              "      <td>344.245776</td>\n",
              "      <td>QUARTO PRIVADO</td>\n",
              "      <td>4</td>\n",
              "      <td>False</td>\n",
              "      <td>8.0</td>\n",
              "      <td>85.0</td>\n",
              "      <td>1</td>\n",
              "      <td>0.488389</td>\n",
              "      <td>0.239404</td>\n",
              "      <td>33.421209</td>\n",
              "      <td>58.342928</td>\n",
              "      <td>4.90005</td>\n",
              "      <td>52.37432</td>\n",
              "    </tr>\n",
              "    <tr>\n",
              "      <th>2</th>\n",
              "      <td>264.101422</td>\n",
              "      <td>QUARTO PRIVADO</td>\n",
              "      <td>2</td>\n",
              "      <td>False</td>\n",
              "      <td>9.0</td>\n",
              "      <td>87.0</td>\n",
              "      <td>1</td>\n",
              "      <td>5.748312</td>\n",
              "      <td>3.651621</td>\n",
              "      <td>3.985908</td>\n",
              "      <td>6.646700</td>\n",
              "      <td>4.97512</td>\n",
              "      <td>52.36103</td>\n",
              "    </tr>\n",
              "    <tr>\n",
              "      <th>3</th>\n",
              "      <td>433.529398</td>\n",
              "      <td>QUARTO PRIVADO</td>\n",
              "      <td>4</td>\n",
              "      <td>False</td>\n",
              "      <td>9.0</td>\n",
              "      <td>90.0</td>\n",
              "      <td>2</td>\n",
              "      <td>0.384862</td>\n",
              "      <td>0.439876</td>\n",
              "      <td>26.119108</td>\n",
              "      <td>60.973565</td>\n",
              "      <td>4.89417</td>\n",
              "      <td>52.37663</td>\n",
              "    </tr>\n",
              "    <tr>\n",
              "      <th>4</th>\n",
              "      <td>485.552926</td>\n",
              "      <td>QUARTO PRIVADO</td>\n",
              "      <td>2</td>\n",
              "      <td>True</td>\n",
              "      <td>10.0</td>\n",
              "      <td>98.0</td>\n",
              "      <td>1</td>\n",
              "      <td>0.544738</td>\n",
              "      <td>0.318693</td>\n",
              "      <td>29.272733</td>\n",
              "      <td>56.811677</td>\n",
              "      <td>4.90051</td>\n",
              "      <td>52.37508</td>\n",
              "    </tr>\n",
              "    <tr>\n",
              "      <th>...</th>\n",
              "      <td>...</td>\n",
              "      <td>...</td>\n",
              "      <td>...</td>\n",
              "      <td>...</td>\n",
              "      <td>...</td>\n",
              "      <td>...</td>\n",
              "      <td>...</td>\n",
              "      <td>...</td>\n",
              "      <td>...</td>\n",
              "      <td>...</td>\n",
              "      <td>...</td>\n",
              "      <td>...</td>\n",
              "      <td>...</td>\n",
              "    </tr>\n",
              "    <tr>\n",
              "      <th>1098</th>\n",
              "      <td>2486.115342</td>\n",
              "      <td>CASA/APARTAMENTO INTEIRO</td>\n",
              "      <td>2</td>\n",
              "      <td>False</td>\n",
              "      <td>10.0</td>\n",
              "      <td>100.0</td>\n",
              "      <td>1</td>\n",
              "      <td>2.375833</td>\n",
              "      <td>1.436054</td>\n",
              "      <td>9.594573</td>\n",
              "      <td>15.699521</td>\n",
              "      <td>4.85869</td>\n",
              "      <td>52.37677</td>\n",
              "    </tr>\n",
              "    <tr>\n",
              "      <th>1099</th>\n",
              "      <td>233.637194</td>\n",
              "      <td>QUARTO PRIVADO</td>\n",
              "      <td>2</td>\n",
              "      <td>False</td>\n",
              "      <td>10.0</td>\n",
              "      <td>90.0</td>\n",
              "      <td>1</td>\n",
              "      <td>4.719736</td>\n",
              "      <td>0.322263</td>\n",
              "      <td>5.719989</td>\n",
              "      <td>9.391335</td>\n",
              "      <td>4.83611</td>\n",
              "      <td>52.34910</td>\n",
              "    </tr>\n",
              "    <tr>\n",
              "      <th>1100</th>\n",
              "      <td>317.062311</td>\n",
              "      <td>QUARTO PRIVADO</td>\n",
              "      <td>2</td>\n",
              "      <td>False</td>\n",
              "      <td>10.0</td>\n",
              "      <td>92.0</td>\n",
              "      <td>1</td>\n",
              "      <td>0.598355</td>\n",
              "      <td>0.751993</td>\n",
              "      <td>23.323524</td>\n",
              "      <td>43.616927</td>\n",
              "      <td>4.88897</td>\n",
              "      <td>52.37798</td>\n",
              "    </tr>\n",
              "    <tr>\n",
              "      <th>1101</th>\n",
              "      <td>1812.855904</td>\n",
              "      <td>CASA/APARTAMENTO INTEIRO</td>\n",
              "      <td>4</td>\n",
              "      <td>False</td>\n",
              "      <td>8.0</td>\n",
              "      <td>84.0</td>\n",
              "      <td>5</td>\n",
              "      <td>1.943020</td>\n",
              "      <td>0.388532</td>\n",
              "      <td>13.658524</td>\n",
              "      <td>23.454022</td>\n",
              "      <td>4.90688</td>\n",
              "      <td>52.35794</td>\n",
              "    </tr>\n",
              "    <tr>\n",
              "      <th>1102</th>\n",
              "      <td>258.008577</td>\n",
              "      <td>QUARTO COMPARTILHADO</td>\n",
              "      <td>2</td>\n",
              "      <td>False</td>\n",
              "      <td>8.0</td>\n",
              "      <td>90.0</td>\n",
              "      <td>1</td>\n",
              "      <td>0.280204</td>\n",
              "      <td>0.516217</td>\n",
              "      <td>28.273677</td>\n",
              "      <td>56.267226</td>\n",
              "      <td>4.89295</td>\n",
              "      <td>52.37575</td>\n",
              "    </tr>\n",
              "  </tbody>\n",
              "</table>\n",
              "<p>1103 rows × 13 columns</p>\n",
              "</div>\n",
              "      <button class=\"colab-df-convert\" onclick=\"convertToInteractive('df-e59018e9-ac90-47dc-a2ae-ff8e4d6a214f')\"\n",
              "              title=\"Convert this dataframe to an interactive table.\"\n",
              "              style=\"display:none;\">\n",
              "        \n",
              "  <svg xmlns=\"http://www.w3.org/2000/svg\" height=\"24px\"viewBox=\"0 0 24 24\"\n",
              "       width=\"24px\">\n",
              "    <path d=\"M0 0h24v24H0V0z\" fill=\"none\"/>\n",
              "    <path d=\"M18.56 5.44l.94 2.06.94-2.06 2.06-.94-2.06-.94-.94-2.06-.94 2.06-2.06.94zm-11 1L8.5 8.5l.94-2.06 2.06-.94-2.06-.94L8.5 2.5l-.94 2.06-2.06.94zm10 10l.94 2.06.94-2.06 2.06-.94-2.06-.94-.94-2.06-.94 2.06-2.06.94z\"/><path d=\"M17.41 7.96l-1.37-1.37c-.4-.4-.92-.59-1.43-.59-.52 0-1.04.2-1.43.59L10.3 9.45l-7.72 7.72c-.78.78-.78 2.05 0 2.83L4 21.41c.39.39.9.59 1.41.59.51 0 1.02-.2 1.41-.59l7.78-7.78 2.81-2.81c.8-.78.8-2.07 0-2.86zM5.41 20L4 18.59l7.72-7.72 1.47 1.35L5.41 20z\"/>\n",
              "  </svg>\n",
              "      </button>\n",
              "      \n",
              "  <style>\n",
              "    .colab-df-container {\n",
              "      display:flex;\n",
              "      flex-wrap:wrap;\n",
              "      gap: 12px;\n",
              "    }\n",
              "\n",
              "    .colab-df-convert {\n",
              "      background-color: #E8F0FE;\n",
              "      border: none;\n",
              "      border-radius: 50%;\n",
              "      cursor: pointer;\n",
              "      display: none;\n",
              "      fill: #1967D2;\n",
              "      height: 32px;\n",
              "      padding: 0 0 0 0;\n",
              "      width: 32px;\n",
              "    }\n",
              "\n",
              "    .colab-df-convert:hover {\n",
              "      background-color: #E2EBFA;\n",
              "      box-shadow: 0px 1px 2px rgba(60, 64, 67, 0.3), 0px 1px 3px 1px rgba(60, 64, 67, 0.15);\n",
              "      fill: #174EA6;\n",
              "    }\n",
              "\n",
              "    [theme=dark] .colab-df-convert {\n",
              "      background-color: #3B4455;\n",
              "      fill: #D2E3FC;\n",
              "    }\n",
              "\n",
              "    [theme=dark] .colab-df-convert:hover {\n",
              "      background-color: #434B5C;\n",
              "      box-shadow: 0px 1px 3px 1px rgba(0, 0, 0, 0.15);\n",
              "      filter: drop-shadow(0px 1px 2px rgba(0, 0, 0, 0.3));\n",
              "      fill: #FFFFFF;\n",
              "    }\n",
              "  </style>\n",
              "\n",
              "      <script>\n",
              "        const buttonEl =\n",
              "          document.querySelector('#df-e59018e9-ac90-47dc-a2ae-ff8e4d6a214f button.colab-df-convert');\n",
              "        buttonEl.style.display =\n",
              "          google.colab.kernel.accessAllowed ? 'block' : 'none';\n",
              "\n",
              "        async function convertToInteractive(key) {\n",
              "          const element = document.querySelector('#df-e59018e9-ac90-47dc-a2ae-ff8e4d6a214f');\n",
              "          const dataTable =\n",
              "            await google.colab.kernel.invokeFunction('convertToInteractive',\n",
              "                                                     [key], {});\n",
              "          if (!dataTable) return;\n",
              "\n",
              "          const docLinkHtml = 'Like what you see? Visit the ' +\n",
              "            '<a target=\"_blank\" href=https://colab.research.google.com/notebooks/data_table.ipynb>data table notebook</a>'\n",
              "            + ' to learn more about interactive tables.';\n",
              "          element.innerHTML = '';\n",
              "          dataTable['output_type'] = 'display_data';\n",
              "          await google.colab.output.renderOutput(dataTable, element);\n",
              "          const docLink = document.createElement('div');\n",
              "          docLink.innerHTML = docLinkHtml;\n",
              "          element.appendChild(docLink);\n",
              "        }\n",
              "      </script>\n",
              "    </div>\n",
              "  </div>\n",
              "  "
            ]
          },
          "metadata": {},
          "execution_count": 27
        }
      ]
    },
    {
      "cell_type": "markdown",
      "source": [
        "## Verificação e Tratamento de inconsistências"
      ],
      "metadata": {
        "id": "urQ-CIYM6XVz"
      }
    },
    {
      "cell_type": "markdown",
      "source": [
        "O método select_dtypes() é usado para identificar as colunas numéricas, filtrando apenas as colunas do tipo float. Em seguida, o método applymap() é aplicado apenas nas colunas numéricas, arredondando cada valor para duas casas decimais."
      ],
      "metadata": {
        "id": "LOrqrwo8OC6d"
      }
    },
    {
      "cell_type": "code",
      "source": [
        "colunas_numericas = df.select_dtypes(include=[float]).columns\n",
        "df[colunas_numericas] = df[colunas_numericas].applymap(lambda x: round(x, 2))"
      ],
      "metadata": {
        "id": "_jkgEb346cJW"
      },
      "execution_count": null,
      "outputs": []
    },
    {
      "cell_type": "code",
      "source": [
        "df"
      ],
      "metadata": {
        "id": "qztbcGAH7y-N",
        "colab": {
          "base_uri": "https://localhost:8080/"
        },
        "outputId": "45bbe627-c846-4878-bf00-45f7e36713a9"
      },
      "execution_count": null,
      "outputs": [
        {
          "output_type": "execute_result",
          "data": {
            "text/plain": [
              "      valor_total               tipo_quarto  capacidade  bom_anfitriao  \\\n",
              "0          194.03            QUARTO PRIVADO           2          False   \n",
              "1          344.25            QUARTO PRIVADO           4          False   \n",
              "2          264.10            QUARTO PRIVADO           2          False   \n",
              "3          433.53            QUARTO PRIVADO           4          False   \n",
              "4          485.55            QUARTO PRIVADO           2           True   \n",
              "...           ...                       ...         ...            ...   \n",
              "1098      2486.12  CASA/APARTAMENTO INTEIRO           2          False   \n",
              "1099       233.64            QUARTO PRIVADO           2          False   \n",
              "1100       317.06            QUARTO PRIVADO           2          False   \n",
              "1101      1812.86  CASA/APARTAMENTO INTEIRO           4          False   \n",
              "1102       258.01      QUARTO COMPARTILHADO           2          False   \n",
              "\n",
              "      nivel_limpeza  nivel_satisfacao  quartos  distancia  dist_metro  \\\n",
              "0              10.0              93.0        1       5.02        2.54   \n",
              "1               8.0              85.0        1       0.49        0.24   \n",
              "2               9.0              87.0        1       5.75        3.65   \n",
              "3               9.0              90.0        2       0.38        0.44   \n",
              "4              10.0              98.0        1       0.54        0.32   \n",
              "...             ...               ...      ...        ...         ...   \n",
              "1098           10.0             100.0        1       2.38        1.44   \n",
              "1099           10.0              90.0        1       4.72        0.32   \n",
              "1100           10.0              92.0        1       0.60        0.75   \n",
              "1101            8.0              84.0        5       1.94        0.39   \n",
              "1102            8.0              90.0        1       0.28        0.52   \n",
              "\n",
              "      indice_atracao  indice_restaurante  longitude  latitude  \n",
              "0               4.17                6.85       4.91     52.42  \n",
              "1              33.42               58.34       4.90     52.37  \n",
              "2               3.99                6.65       4.98     52.36  \n",
              "3              26.12               60.97       4.89     52.38  \n",
              "4              29.27               56.81       4.90     52.38  \n",
              "...              ...                 ...        ...       ...  \n",
              "1098            9.59               15.70       4.86     52.38  \n",
              "1099            5.72                9.39       4.84     52.35  \n",
              "1100           23.32               43.62       4.89     52.38  \n",
              "1101           13.66               23.45       4.91     52.36  \n",
              "1102           28.27               56.27       4.89     52.38  \n",
              "\n",
              "[1103 rows x 13 columns]"
            ],
            "text/html": [
              "\n",
              "  <div id=\"df-11e27d82-8872-4374-9a89-d40019c2248f\">\n",
              "    <div class=\"colab-df-container\">\n",
              "      <div>\n",
              "<style scoped>\n",
              "    .dataframe tbody tr th:only-of-type {\n",
              "        vertical-align: middle;\n",
              "    }\n",
              "\n",
              "    .dataframe tbody tr th {\n",
              "        vertical-align: top;\n",
              "    }\n",
              "\n",
              "    .dataframe thead th {\n",
              "        text-align: right;\n",
              "    }\n",
              "</style>\n",
              "<table border=\"1\" class=\"dataframe\">\n",
              "  <thead>\n",
              "    <tr style=\"text-align: right;\">\n",
              "      <th></th>\n",
              "      <th>valor_total</th>\n",
              "      <th>tipo_quarto</th>\n",
              "      <th>capacidade</th>\n",
              "      <th>bom_anfitriao</th>\n",
              "      <th>nivel_limpeza</th>\n",
              "      <th>nivel_satisfacao</th>\n",
              "      <th>quartos</th>\n",
              "      <th>distancia</th>\n",
              "      <th>dist_metro</th>\n",
              "      <th>indice_atracao</th>\n",
              "      <th>indice_restaurante</th>\n",
              "      <th>longitude</th>\n",
              "      <th>latitude</th>\n",
              "    </tr>\n",
              "  </thead>\n",
              "  <tbody>\n",
              "    <tr>\n",
              "      <th>0</th>\n",
              "      <td>194.03</td>\n",
              "      <td>QUARTO PRIVADO</td>\n",
              "      <td>2</td>\n",
              "      <td>False</td>\n",
              "      <td>10.0</td>\n",
              "      <td>93.0</td>\n",
              "      <td>1</td>\n",
              "      <td>5.02</td>\n",
              "      <td>2.54</td>\n",
              "      <td>4.17</td>\n",
              "      <td>6.85</td>\n",
              "      <td>4.91</td>\n",
              "      <td>52.42</td>\n",
              "    </tr>\n",
              "    <tr>\n",
              "      <th>1</th>\n",
              "      <td>344.25</td>\n",
              "      <td>QUARTO PRIVADO</td>\n",
              "      <td>4</td>\n",
              "      <td>False</td>\n",
              "      <td>8.0</td>\n",
              "      <td>85.0</td>\n",
              "      <td>1</td>\n",
              "      <td>0.49</td>\n",
              "      <td>0.24</td>\n",
              "      <td>33.42</td>\n",
              "      <td>58.34</td>\n",
              "      <td>4.90</td>\n",
              "      <td>52.37</td>\n",
              "    </tr>\n",
              "    <tr>\n",
              "      <th>2</th>\n",
              "      <td>264.10</td>\n",
              "      <td>QUARTO PRIVADO</td>\n",
              "      <td>2</td>\n",
              "      <td>False</td>\n",
              "      <td>9.0</td>\n",
              "      <td>87.0</td>\n",
              "      <td>1</td>\n",
              "      <td>5.75</td>\n",
              "      <td>3.65</td>\n",
              "      <td>3.99</td>\n",
              "      <td>6.65</td>\n",
              "      <td>4.98</td>\n",
              "      <td>52.36</td>\n",
              "    </tr>\n",
              "    <tr>\n",
              "      <th>3</th>\n",
              "      <td>433.53</td>\n",
              "      <td>QUARTO PRIVADO</td>\n",
              "      <td>4</td>\n",
              "      <td>False</td>\n",
              "      <td>9.0</td>\n",
              "      <td>90.0</td>\n",
              "      <td>2</td>\n",
              "      <td>0.38</td>\n",
              "      <td>0.44</td>\n",
              "      <td>26.12</td>\n",
              "      <td>60.97</td>\n",
              "      <td>4.89</td>\n",
              "      <td>52.38</td>\n",
              "    </tr>\n",
              "    <tr>\n",
              "      <th>4</th>\n",
              "      <td>485.55</td>\n",
              "      <td>QUARTO PRIVADO</td>\n",
              "      <td>2</td>\n",
              "      <td>True</td>\n",
              "      <td>10.0</td>\n",
              "      <td>98.0</td>\n",
              "      <td>1</td>\n",
              "      <td>0.54</td>\n",
              "      <td>0.32</td>\n",
              "      <td>29.27</td>\n",
              "      <td>56.81</td>\n",
              "      <td>4.90</td>\n",
              "      <td>52.38</td>\n",
              "    </tr>\n",
              "    <tr>\n",
              "      <th>...</th>\n",
              "      <td>...</td>\n",
              "      <td>...</td>\n",
              "      <td>...</td>\n",
              "      <td>...</td>\n",
              "      <td>...</td>\n",
              "      <td>...</td>\n",
              "      <td>...</td>\n",
              "      <td>...</td>\n",
              "      <td>...</td>\n",
              "      <td>...</td>\n",
              "      <td>...</td>\n",
              "      <td>...</td>\n",
              "      <td>...</td>\n",
              "    </tr>\n",
              "    <tr>\n",
              "      <th>1098</th>\n",
              "      <td>2486.12</td>\n",
              "      <td>CASA/APARTAMENTO INTEIRO</td>\n",
              "      <td>2</td>\n",
              "      <td>False</td>\n",
              "      <td>10.0</td>\n",
              "      <td>100.0</td>\n",
              "      <td>1</td>\n",
              "      <td>2.38</td>\n",
              "      <td>1.44</td>\n",
              "      <td>9.59</td>\n",
              "      <td>15.70</td>\n",
              "      <td>4.86</td>\n",
              "      <td>52.38</td>\n",
              "    </tr>\n",
              "    <tr>\n",
              "      <th>1099</th>\n",
              "      <td>233.64</td>\n",
              "      <td>QUARTO PRIVADO</td>\n",
              "      <td>2</td>\n",
              "      <td>False</td>\n",
              "      <td>10.0</td>\n",
              "      <td>90.0</td>\n",
              "      <td>1</td>\n",
              "      <td>4.72</td>\n",
              "      <td>0.32</td>\n",
              "      <td>5.72</td>\n",
              "      <td>9.39</td>\n",
              "      <td>4.84</td>\n",
              "      <td>52.35</td>\n",
              "    </tr>\n",
              "    <tr>\n",
              "      <th>1100</th>\n",
              "      <td>317.06</td>\n",
              "      <td>QUARTO PRIVADO</td>\n",
              "      <td>2</td>\n",
              "      <td>False</td>\n",
              "      <td>10.0</td>\n",
              "      <td>92.0</td>\n",
              "      <td>1</td>\n",
              "      <td>0.60</td>\n",
              "      <td>0.75</td>\n",
              "      <td>23.32</td>\n",
              "      <td>43.62</td>\n",
              "      <td>4.89</td>\n",
              "      <td>52.38</td>\n",
              "    </tr>\n",
              "    <tr>\n",
              "      <th>1101</th>\n",
              "      <td>1812.86</td>\n",
              "      <td>CASA/APARTAMENTO INTEIRO</td>\n",
              "      <td>4</td>\n",
              "      <td>False</td>\n",
              "      <td>8.0</td>\n",
              "      <td>84.0</td>\n",
              "      <td>5</td>\n",
              "      <td>1.94</td>\n",
              "      <td>0.39</td>\n",
              "      <td>13.66</td>\n",
              "      <td>23.45</td>\n",
              "      <td>4.91</td>\n",
              "      <td>52.36</td>\n",
              "    </tr>\n",
              "    <tr>\n",
              "      <th>1102</th>\n",
              "      <td>258.01</td>\n",
              "      <td>QUARTO COMPARTILHADO</td>\n",
              "      <td>2</td>\n",
              "      <td>False</td>\n",
              "      <td>8.0</td>\n",
              "      <td>90.0</td>\n",
              "      <td>1</td>\n",
              "      <td>0.28</td>\n",
              "      <td>0.52</td>\n",
              "      <td>28.27</td>\n",
              "      <td>56.27</td>\n",
              "      <td>4.89</td>\n",
              "      <td>52.38</td>\n",
              "    </tr>\n",
              "  </tbody>\n",
              "</table>\n",
              "<p>1103 rows × 13 columns</p>\n",
              "</div>\n",
              "      <button class=\"colab-df-convert\" onclick=\"convertToInteractive('df-11e27d82-8872-4374-9a89-d40019c2248f')\"\n",
              "              title=\"Convert this dataframe to an interactive table.\"\n",
              "              style=\"display:none;\">\n",
              "        \n",
              "  <svg xmlns=\"http://www.w3.org/2000/svg\" height=\"24px\"viewBox=\"0 0 24 24\"\n",
              "       width=\"24px\">\n",
              "    <path d=\"M0 0h24v24H0V0z\" fill=\"none\"/>\n",
              "    <path d=\"M18.56 5.44l.94 2.06.94-2.06 2.06-.94-2.06-.94-.94-2.06-.94 2.06-2.06.94zm-11 1L8.5 8.5l.94-2.06 2.06-.94-2.06-.94L8.5 2.5l-.94 2.06-2.06.94zm10 10l.94 2.06.94-2.06 2.06-.94-2.06-.94-.94-2.06-.94 2.06-2.06.94z\"/><path d=\"M17.41 7.96l-1.37-1.37c-.4-.4-.92-.59-1.43-.59-.52 0-1.04.2-1.43.59L10.3 9.45l-7.72 7.72c-.78.78-.78 2.05 0 2.83L4 21.41c.39.39.9.59 1.41.59.51 0 1.02-.2 1.41-.59l7.78-7.78 2.81-2.81c.8-.78.8-2.07 0-2.86zM5.41 20L4 18.59l7.72-7.72 1.47 1.35L5.41 20z\"/>\n",
              "  </svg>\n",
              "      </button>\n",
              "      \n",
              "  <style>\n",
              "    .colab-df-container {\n",
              "      display:flex;\n",
              "      flex-wrap:wrap;\n",
              "      gap: 12px;\n",
              "    }\n",
              "\n",
              "    .colab-df-convert {\n",
              "      background-color: #E8F0FE;\n",
              "      border: none;\n",
              "      border-radius: 50%;\n",
              "      cursor: pointer;\n",
              "      display: none;\n",
              "      fill: #1967D2;\n",
              "      height: 32px;\n",
              "      padding: 0 0 0 0;\n",
              "      width: 32px;\n",
              "    }\n",
              "\n",
              "    .colab-df-convert:hover {\n",
              "      background-color: #E2EBFA;\n",
              "      box-shadow: 0px 1px 2px rgba(60, 64, 67, 0.3), 0px 1px 3px 1px rgba(60, 64, 67, 0.15);\n",
              "      fill: #174EA6;\n",
              "    }\n",
              "\n",
              "    [theme=dark] .colab-df-convert {\n",
              "      background-color: #3B4455;\n",
              "      fill: #D2E3FC;\n",
              "    }\n",
              "\n",
              "    [theme=dark] .colab-df-convert:hover {\n",
              "      background-color: #434B5C;\n",
              "      box-shadow: 0px 1px 3px 1px rgba(0, 0, 0, 0.15);\n",
              "      filter: drop-shadow(0px 1px 2px rgba(0, 0, 0, 0.3));\n",
              "      fill: #FFFFFF;\n",
              "    }\n",
              "  </style>\n",
              "\n",
              "      <script>\n",
              "        const buttonEl =\n",
              "          document.querySelector('#df-11e27d82-8872-4374-9a89-d40019c2248f button.colab-df-convert');\n",
              "        buttonEl.style.display =\n",
              "          google.colab.kernel.accessAllowed ? 'block' : 'none';\n",
              "\n",
              "        async function convertToInteractive(key) {\n",
              "          const element = document.querySelector('#df-11e27d82-8872-4374-9a89-d40019c2248f');\n",
              "          const dataTable =\n",
              "            await google.colab.kernel.invokeFunction('convertToInteractive',\n",
              "                                                     [key], {});\n",
              "          if (!dataTable) return;\n",
              "\n",
              "          const docLinkHtml = 'Like what you see? Visit the ' +\n",
              "            '<a target=\"_blank\" href=https://colab.research.google.com/notebooks/data_table.ipynb>data table notebook</a>'\n",
              "            + ' to learn more about interactive tables.';\n",
              "          element.innerHTML = '';\n",
              "          dataTable['output_type'] = 'display_data';\n",
              "          await google.colab.output.renderOutput(dataTable, element);\n",
              "          const docLink = document.createElement('div');\n",
              "          docLink.innerHTML = docLinkHtml;\n",
              "          element.appendChild(docLink);\n",
              "        }\n",
              "      </script>\n",
              "    </div>\n",
              "  </div>\n",
              "  "
            ]
          },
          "metadata": {},
          "execution_count": 29
        }
      ]
    },
    {
      "cell_type": "code",
      "source": [
        "df.dtypes"
      ],
      "metadata": {
        "id": "k43YODp1Y6hr",
        "colab": {
          "base_uri": "https://localhost:8080/"
        },
        "outputId": "47f3d355-e735-4a24-dc6b-6e5fa62517f6"
      },
      "execution_count": null,
      "outputs": [
        {
          "output_type": "execute_result",
          "data": {
            "text/plain": [
              "valor_total           float64\n",
              "tipo_quarto            object\n",
              "capacidade              int64\n",
              "bom_anfitriao            bool\n",
              "nivel_limpeza         float64\n",
              "nivel_satisfacao      float64\n",
              "quartos                 int64\n",
              "distancia             float64\n",
              "dist_metro            float64\n",
              "indice_atracao        float64\n",
              "indice_restaurante    float64\n",
              "longitude             float64\n",
              "latitude              float64\n",
              "dtype: object"
            ]
          },
          "metadata": {},
          "execution_count": 30
        }
      ]
    },
    {
      "cell_type": "code",
      "source": [
        "# Verificação de inconsistências de todas as colunas\n",
        "# laço for percorre todas as colunas\n",
        "\n",
        "for coluna in df.columns:\n",
        "    valores_unicos = sorted(df[coluna].unique())\n",
        "    print(f\"Valores únicos da coluna {coluna}:\")\n",
        "    print(valores_unicos)\n",
        "    print()"
      ],
      "metadata": {
        "id": "Q9tRKahGeaYw",
        "colab": {
          "base_uri": "https://localhost:8080/"
        },
        "outputId": "088676ae-0247-4d22-b4f8-49dfa8ca612e"
      },
      "execution_count": null,
      "outputs": [
        {
          "output_type": "stream",
          "name": "stdout",
          "text": [
            "Valores únicos da coluna valor_total:\n",
            "[128.89, 143.65, 144.82, 161.93, 165.68, 167.32, 175.76, 177.16, 178.1, 180.21, 181.85, 184.43, 188.18, 191.69, 192.86, 194.03, 196.61, 198.95, 199.89, 201.53, 202.7, 204.11, 205.28, 206.45, 208.8, 209.03, 210.2, 213.95, 215.12, 217.7, 218.64, 218.87, 221.22, 221.45, 225.67, 227.31, 228.72, 230.83, 232.23, 233.64, 234.57, 237.86, 238.32, 239.5, 239.73, 241.14, 241.84, 242.07, 243.25, 244.42, 245.59, 245.82, 250.51, 250.74, 251.92, 253.32, 254.26, 254.49, 255.43, 255.67, 256.84, 258.01, 258.24, 259.18, 259.41, 261.76, 262.93, 264.1, 264.34, 268.09, 270.43, 271.6, 271.83, 272.54, 274.18, 275.35, 276.29, 276.52, 277.46, 277.69, 277.93, 279.1, 280.04, 281.44, 282.61, 282.85, 283.79, 284.96, 287.77, 288.71, 289.64, 290.11, 291.05, 292.46, 293.63, 295.03, 295.27, 297.61, 298.78, 299.72, 300.89, 301.13, 303.0, 303.47, 304.64, 304.88, 305.81, 306.05, 307.22, 308.39, 309.56, 309.8, 310.74, 310.97, 312.14, 313.31, 313.55, 314.48, 315.89, 316.83, 317.06, 318.23, 319.41, 319.64, 320.81, 321.75, 325.5, 326.67, 329.48, 330.42, 331.83, 332.06, 333.23, 334.17, 335.58, 337.68, 337.92, 339.09, 340.5, 342.61, 342.84, 344.25, 345.18, 345.42, 346.59, 348.0, 348.93, 350.1, 350.34, 351.04, 351.51, 352.68, 354.32, 355.03, 355.26, 356.2, 356.43, 358.77, 359.95, 360.18, 361.12, 361.35, 362.52, 363.46, 363.7, 366.27, 366.51, 367.45, 368.62, 368.85, 370.02, 371.19, 372.37, 373.54, 373.77, 374.94, 375.88, 377.29, 378.46, 378.69, 380.57, 381.04, 384.79, 385.49, 385.96, 386.19, 386.9, 387.13, 388.07, 388.3, 390.65, 390.88, 391.82, 392.05, 393.46, 393.93, 394.39, 397.21, 398.14, 399.32, 399.55, 400.49, 403.07, 405.41, 405.64, 407.99, 409.39, 410.33, 410.56, 411.5, 411.74, 415.25, 415.49, 417.83, 418.06, 420.41, 421.34, 422.75, 423.92, 424.16, 425.09, 426.03, 428.14, 430.25, 431.42, 432.36, 433.53, 435.17, 436.11, 436.34, 438.92, 439.86, 441.26, 442.43, 442.67, 443.61, 447.36, 447.59, 448.53, 449.46, 449.7, 452.28, 453.45, 454.85, 458.37, 459.78, 460.71, 460.95, 462.12, 464.46, 465.63, 467.04, 468.21, 468.45, 470.79, 473.13, 474.07, 475.48, 476.88, 479.23, 479.46, 482.98, 485.55, 489.3, 491.65, 491.88, 496.57, 497.5, 497.74, 498.91, 501.25, 501.49, 504.07, 507.58, 509.92, 510.16, 511.56, 513.67, 515.55, 515.78, 516.02, 517.42, 521.17, 522.34, 524.69, 526.09, 528.2, 528.44, 531.95, 534.53, 534.76, 535.7, 538.28, 538.51, 539.22, 539.45, 539.69, 540.62, 544.14, 546.72, 548.12, 549.53, 550.47, 551.64, 552.81, 553.04, 555.39, 556.56, 556.79, 562.89, 564.06, 565.23, 566.63, 568.98, 571.32, 571.56, 572.73, 576.24, 577.41, 583.74, 583.98, 584.91, 589.83, 596.16, 599.68, 602.02, 602.25, 604.6, 606.0, 607.18, 613.03, 613.27, 613.74, 614.44, 618.19, 620.77, 622.88, 624.28, 626.39, 626.63, 632.95, 636.7, 638.81, 639.05, 639.98, 640.45, 642.56, 645.37, 647.48, 648.89, 649.12, 651.23, 653.57, 653.81, 654.98, 657.32, 658.73, 661.31, 663.65, 669.74, 673.49, 675.6, 675.84, 678.41, 682.16, 682.87, 685.91, 688.02, 691.54, 694.58, 699.04, 700.44, 702.08, 702.79, 704.19, 706.54, 712.63, 712.86, 713.8, 716.38, 718.96, 721.53, 722.24, 722.71, 725.05, 728.8, 734.89, 737.23, 743.56, 744.5, 749.42, 755.98, 761.84, 762.07, 764.42, 765.59, 767.93, 768.17, 768.64, 771.68, 773.09, 774.26, 774.73, 780.35, 780.59, 782.46, 784.1, 786.45, 789.96, 792.77, 796.29, 797.69, 798.63, 798.87, 811.05, 814.57, 814.8, 817.14, 823.47, 833.31, 835.89, 841.75, 841.98, 847.84, 854.4, 855.34, 860.26, 870.11, 878.78, 884.87, 890.96, 894.71, 899.63, 907.13, 909.47, 917.91, 919.08, 920.49, 921.66, 933.85, 934.08, 935.02, 937.6, 940.17, 943.69, 946.03, 950.02, 952.36, 952.59, 953.76, 958.45, 965.01, 968.29, 970.87, 974.62, 983.29, 985.63, 988.21, 995.48, 1001.8, 1002.98, 1005.09, 1007.66, 1013.99, 1019.85, 1020.08, 1029.93, 1032.5, 1032.97, 1038.36, 1041.17, 1044.69, 1049.38, 1062.97, 1066.48, 1072.81, 1075.39, 1106.32, 1112.18, 1118.27, 1126.94, 1130.69, 1136.55, 1148.74, 1155.3, 1161.16, 1166.31, 1167.25, 1179.67, 1192.09, 1198.18, 1199.59, 1210.37, 1214.12, 1228.88, 1259.58, 1290.28, 1296.6, 1301.29, 1348.63, 1351.91, 1376.51, 1388.7, 1413.31, 1425.73, 1429.24, 1437.91, 1450.1, 1450.33, 1474.94, 1542.43, 1557.19, 1567.03, 1572.89, 1576.64, 1609.92, 1651.86, 1714.43, 1739.04, 1804.19, 1812.86, 1892.53, 1941.51, 1997.28, 2058.21, 2061.96, 2458.23, 2486.12, 2500.88, 2556.18, 2771.31, 3004.94, 3637.66, 7782.91]\n",
            "\n",
            "Valores únicos da coluna tipo_quarto:\n",
            "['CASA/APARTAMENTO INTEIRO', 'QUARTO COMPARTILHADO', 'QUARTO PRIVADO']\n",
            "\n",
            "Valores únicos da coluna capacidade:\n",
            "[2, 3, 4, 5, 6]\n",
            "\n",
            "Valores únicos da coluna bom_anfitriao:\n",
            "[False, True]\n",
            "\n",
            "Valores únicos da coluna nivel_limpeza:\n",
            "[4.0, 5.0, 6.0, 7.0, 8.0, 9.0, 10.0]\n",
            "\n",
            "Valores únicos da coluna nivel_satisfacao:\n",
            "[20.0, 47.0, 60.0, 65.0, 70.0, 73.0, 74.0, 75.0, 76.0, 77.0, 78.0, 80.0, 81.0, 82.0, 83.0, 84.0, 85.0, 86.0, 87.0, 88.0, 89.0, 90.0, 91.0, 92.0, 93.0, 94.0, 95.0, 96.0, 97.0, 98.0, 99.0, 100.0]\n",
            "\n",
            "Valores únicos da coluna quartos:\n",
            "[0, 1, 2, 3, 4, 5]\n",
            "\n",
            "Valores únicos da coluna distancia:\n",
            "[0.02, 0.1, 0.11, 0.12, 0.14, 0.16, 0.17, 0.18, 0.19, 0.2, 0.22, 0.23, 0.24, 0.26, 0.27, 0.28, 0.29, 0.3, 0.33, 0.34, 0.35, 0.36, 0.37, 0.38, 0.39, 0.4, 0.41, 0.42, 0.43, 0.44, 0.45, 0.47, 0.48, 0.49, 0.5, 0.51, 0.52, 0.53, 0.54, 0.55, 0.56, 0.57, 0.59, 0.6, 0.61, 0.62, 0.63, 0.64, 0.65, 0.67, 0.68, 0.69, 0.71, 0.72, 0.73, 0.74, 0.75, 0.76, 0.78, 0.79, 0.8, 0.81, 0.82, 0.83, 0.84, 0.86, 0.87, 0.88, 0.89, 0.9, 0.91, 0.92, 0.94, 0.95, 0.96, 0.97, 0.98, 0.99, 1.0, 1.01, 1.02, 1.03, 1.05, 1.06, 1.07, 1.08, 1.09, 1.1, 1.11, 1.12, 1.13, 1.14, 1.15, 1.16, 1.17, 1.18, 1.19, 1.2, 1.21, 1.22, 1.23, 1.24, 1.25, 1.26, 1.27, 1.28, 1.29, 1.3, 1.31, 1.32, 1.33, 1.34, 1.35, 1.36, 1.37, 1.38, 1.39, 1.4, 1.41, 1.42, 1.43, 1.44, 1.45, 1.47, 1.48, 1.49, 1.5, 1.51, 1.52, 1.53, 1.54, 1.55, 1.56, 1.57, 1.58, 1.59, 1.6, 1.61, 1.62, 1.63, 1.65, 1.66, 1.67, 1.68, 1.69, 1.7, 1.71, 1.72, 1.73, 1.74, 1.75, 1.76, 1.77, 1.78, 1.79, 1.81, 1.82, 1.84, 1.85, 1.86, 1.87, 1.88, 1.89, 1.9, 1.91, 1.93, 1.94, 1.95, 1.96, 1.97, 1.98, 1.99, 2.0, 2.01, 2.02, 2.03, 2.04, 2.05, 2.06, 2.07, 2.08, 2.09, 2.1, 2.11, 2.12, 2.13, 2.14, 2.15, 2.16, 2.17, 2.18, 2.19, 2.2, 2.21, 2.22, 2.23, 2.24, 2.25, 2.26, 2.27, 2.28, 2.29, 2.3, 2.31, 2.32, 2.33, 2.34, 2.37, 2.38, 2.39, 2.4, 2.41, 2.42, 2.43, 2.44, 2.45, 2.46, 2.47, 2.48, 2.49, 2.5, 2.52, 2.53, 2.56, 2.57, 2.58, 2.59, 2.6, 2.61, 2.62, 2.63, 2.64, 2.66, 2.67, 2.68, 2.7, 2.71, 2.72, 2.73, 2.75, 2.76, 2.77, 2.78, 2.79, 2.81, 2.82, 2.83, 2.85, 2.86, 2.87, 2.88, 2.89, 2.9, 2.91, 2.92, 2.93, 2.94, 2.95, 2.96, 2.97, 2.98, 2.99, 3.0, 3.01, 3.02, 3.03, 3.04, 3.05, 3.06, 3.07, 3.08, 3.09, 3.11, 3.12, 3.13, 3.14, 3.15, 3.16, 3.17, 3.18, 3.2, 3.21, 3.22, 3.24, 3.25, 3.26, 3.29, 3.3, 3.31, 3.32, 3.33, 3.34, 3.35, 3.36, 3.37, 3.38, 3.39, 3.4, 3.41, 3.42, 3.43, 3.44, 3.46, 3.47, 3.48, 3.49, 3.5, 3.51, 3.53, 3.54, 3.55, 3.56, 3.57, 3.58, 3.59, 3.6, 3.61, 3.62, 3.63, 3.64, 3.65, 3.66, 3.67, 3.68, 3.69, 3.7, 3.71, 3.72, 3.73, 3.74, 3.75, 3.76, 3.77, 3.78, 3.79, 3.8, 3.81, 3.82, 3.83, 3.84, 3.85, 3.86, 3.87, 3.88, 3.89, 3.91, 3.92, 3.93, 3.96, 3.99, 4.0, 4.02, 4.03, 4.04, 4.05, 4.06, 4.08, 4.09, 4.13, 4.14, 4.15, 4.16, 4.17, 4.18, 4.19, 4.2, 4.22, 4.23, 4.25, 4.29, 4.3, 4.32, 4.4, 4.42, 4.45, 4.46, 4.49, 4.55, 4.57, 4.59, 4.6, 4.61, 4.63, 4.67, 4.68, 4.69, 4.7, 4.72, 4.73, 4.75, 4.76, 4.77, 4.78, 4.83, 4.84, 4.86, 4.87, 4.88, 4.89, 4.92, 4.93, 4.94, 5.02, 5.04, 5.07, 5.13, 5.15, 5.18, 5.19, 5.21, 5.24, 5.27, 5.3, 5.31, 5.42, 5.43, 5.5, 5.51, 5.53, 5.59, 5.6, 5.61, 5.62, 5.63, 5.73, 5.75, 5.84, 5.9, 5.91, 5.92, 5.97, 6.0, 6.03, 6.05, 6.06, 6.2, 6.27, 6.29, 6.32, 6.33, 6.35, 6.38, 6.41, 6.45, 6.48, 6.5, 6.53, 6.61, 6.64, 6.65, 6.71, 6.76, 6.79, 6.8, 6.81, 6.84, 6.93, 6.96, 6.98, 7.02, 7.07, 7.08, 7.1, 7.15, 7.17, 7.21, 7.26, 7.3, 7.33, 7.39, 7.4, 7.45, 7.49, 7.54, 7.55, 7.59, 7.61, 7.63, 7.69, 7.72, 7.73, 7.76, 7.9, 7.97, 8.0, 8.07, 8.15, 8.16, 8.23, 8.25, 8.28, 8.33, 8.38, 8.4, 8.44, 8.57, 8.79, 8.89, 9.19, 9.23, 9.34, 9.35, 9.4, 9.46, 9.74, 9.82, 9.97, 10.07, 10.13, 10.15, 10.19, 10.41, 10.45, 10.49, 10.72, 10.73, 10.85, 10.9, 10.97, 11.04, 11.19]\n",
            "\n",
            "Valores únicos da coluna dist_metro:\n",
            "[0.04, 0.05, 0.06, 0.07, 0.08, 0.1, 0.11, 0.12, 0.13, 0.14, 0.15, 0.16, 0.17, 0.18, 0.19, 0.2, 0.21, 0.22, 0.23, 0.24, 0.25, 0.26, 0.27, 0.28, 0.29, 0.3, 0.31, 0.32, 0.33, 0.34, 0.35, 0.36, 0.37, 0.38, 0.39, 0.4, 0.41, 0.42, 0.43, 0.44, 0.45, 0.46, 0.47, 0.48, 0.49, 0.5, 0.51, 0.52, 0.53, 0.54, 0.55, 0.56, 0.57, 0.58, 0.59, 0.6, 0.61, 0.62, 0.63, 0.64, 0.65, 0.66, 0.67, 0.68, 0.69, 0.7, 0.71, 0.72, 0.73, 0.74, 0.75, 0.76, 0.77, 0.78, 0.79, 0.8, 0.81, 0.82, 0.83, 0.84, 0.85, 0.86, 0.87, 0.88, 0.89, 0.9, 0.91, 0.92, 0.93, 0.94, 0.95, 0.96, 0.97, 0.98, 0.99, 1.0, 1.01, 1.02, 1.03, 1.04, 1.05, 1.06, 1.07, 1.08, 1.09, 1.1, 1.11, 1.12, 1.13, 1.14, 1.15, 1.16, 1.17, 1.18, 1.19, 1.2, 1.21, 1.22, 1.23, 1.24, 1.25, 1.26, 1.27, 1.28, 1.29, 1.3, 1.31, 1.32, 1.33, 1.34, 1.35, 1.36, 1.37, 1.38, 1.39, 1.4, 1.41, 1.42, 1.43, 1.44, 1.45, 1.46, 1.47, 1.48, 1.49, 1.5, 1.51, 1.52, 1.53, 1.54, 1.55, 1.56, 1.57, 1.58, 1.59, 1.6, 1.61, 1.62, 1.63, 1.64, 1.65, 1.66, 1.67, 1.68, 1.69, 1.7, 1.71, 1.72, 1.73, 1.75, 1.76, 1.77, 1.79, 1.8, 1.81, 1.82, 1.83, 1.84, 1.85, 1.86, 1.87, 1.88, 1.89, 1.9, 1.91, 1.92, 1.93, 1.94, 1.95, 1.96, 1.97, 1.98, 2.0, 2.01, 2.03, 2.04, 2.06, 2.1, 2.11, 2.12, 2.14, 2.16, 2.19, 2.22, 2.23, 2.25, 2.27, 2.28, 2.29, 2.32, 2.34, 2.37, 2.38, 2.39, 2.4, 2.42, 2.43, 2.44, 2.45, 2.46, 2.48, 2.49, 2.5, 2.53, 2.54, 2.6, 2.62, 2.63, 2.64, 2.66, 2.69, 2.71, 2.75, 2.76, 2.81, 2.82, 2.84, 2.89, 2.91, 2.93, 2.94, 2.97, 2.98, 3.01, 3.03, 3.1, 3.15, 3.2, 3.24, 3.25, 3.27, 3.28, 3.31, 3.32, 3.35, 3.4, 3.41, 3.45, 3.49, 3.51, 3.56, 3.6, 3.63, 3.65, 3.7, 3.72, 3.75, 3.78, 3.8, 3.83, 3.88, 3.91, 3.93, 3.95, 4.03, 4.1, 4.14, 4.41]\n",
            "\n",
            "Valores únicos da coluna indice_atracao:\n",
            "[2.17, 2.19, 2.2, 2.22, 2.23, 2.26, 2.27, 2.32, 2.33, 2.35, 2.37, 2.38, 2.39, 2.4, 2.41, 2.51, 2.52, 2.58, 2.6, 2.61, 2.62, 2.64, 2.66, 2.72, 2.78, 2.79, 2.81, 2.84, 2.87, 2.91, 2.92, 2.93, 2.96, 3.01, 3.02, 3.03, 3.05, 3.06, 3.07, 3.08, 3.09, 3.13, 3.17, 3.21, 3.22, 3.23, 3.24, 3.25, 3.26, 3.27, 3.29, 3.31, 3.35, 3.37, 3.41, 3.42, 3.44, 3.46, 3.48, 3.53, 3.54, 3.56, 3.59, 3.6, 3.61, 3.65, 3.66, 3.67, 3.68, 3.69, 3.7, 3.71, 3.72, 3.75, 3.78, 3.79, 3.84, 3.85, 3.86, 3.87, 3.88, 3.91, 3.96, 3.98, 3.99, 4.0, 4.03, 4.06, 4.07, 4.09, 4.13, 4.16, 4.17, 4.25, 4.26, 4.28, 4.29, 4.3, 4.32, 4.33, 4.35, 4.38, 4.41, 4.47, 4.5, 4.52, 4.54, 4.55, 4.57, 4.62, 4.65, 4.71, 4.72, 4.78, 4.79, 4.81, 4.85, 4.86, 4.87, 4.88, 4.89, 4.92, 4.93, 4.94, 4.96, 4.98, 4.99, 5.01, 5.07, 5.08, 5.09, 5.11, 5.19, 5.22, 5.28, 5.29, 5.32, 5.36, 5.37, 5.38, 5.4, 5.45, 5.46, 5.49, 5.51, 5.53, 5.54, 5.62, 5.64, 5.65, 5.67, 5.68, 5.71, 5.72, 5.75, 5.76, 5.77, 5.78, 5.81, 5.82, 5.83, 5.84, 5.85, 5.86, 5.87, 5.93, 5.95, 5.96, 5.97, 6.01, 6.03, 6.04, 6.06, 6.08, 6.09, 6.11, 6.12, 6.13, 6.14, 6.17, 6.18, 6.19, 6.2, 6.21, 6.23, 6.25, 6.27, 6.28, 6.29, 6.32, 6.33, 6.36, 6.38, 6.4, 6.41, 6.43, 6.44, 6.45, 6.46, 6.47, 6.48, 6.51, 6.52, 6.53, 6.54, 6.56, 6.57, 6.58, 6.59, 6.65, 6.66, 6.68, 6.71, 6.72, 6.74, 6.77, 6.79, 6.81, 6.82, 6.83, 6.84, 6.89, 6.92, 6.93, 6.94, 6.95, 6.96, 6.97, 7.03, 7.04, 7.05, 7.06, 7.09, 7.11, 7.15, 7.16, 7.18, 7.2, 7.22, 7.23, 7.29, 7.3, 7.32, 7.33, 7.37, 7.38, 7.39, 7.41, 7.42, 7.43, 7.46, 7.48, 7.49, 7.51, 7.52, 7.53, 7.54, 7.55, 7.57, 7.58, 7.59, 7.61, 7.62, 7.64, 7.65, 7.68, 7.7, 7.71, 7.75, 7.76, 7.77, 7.8, 7.81, 7.83, 7.86, 7.88, 7.89, 7.9, 7.92, 7.93, 7.95, 7.96, 7.98, 7.99, 8.0, 8.01, 8.04, 8.06, 8.07, 8.08, 8.1, 8.15, 8.19, 8.2, 8.23, 8.25, 8.27, 8.28, 8.29, 8.3, 8.31, 8.33, 8.35, 8.36, 8.38, 8.39, 8.4, 8.42, 8.45, 8.47, 8.51, 8.58, 8.59, 8.6, 8.61, 8.63, 8.65, 8.67, 8.68, 8.69, 8.7, 8.76, 8.78, 8.79, 8.81, 8.83, 8.85, 8.87, 8.89, 8.91, 8.99, 9.0, 9.01, 9.03, 9.07, 9.08, 9.09, 9.13, 9.15, 9.16, 9.19, 9.21, 9.23, 9.26, 9.27, 9.28, 9.29, 9.32, 9.33, 9.35, 9.41, 9.42, 9.44, 9.5, 9.54, 9.58, 9.59, 9.6, 9.61, 9.62, 9.66, 9.67, 9.68, 9.71, 9.72, 9.73, 9.75, 9.76, 9.8, 9.81, 9.82, 9.83, 9.92, 9.95, 9.97, 9.98, 9.99, 10.01, 10.02, 10.06, 10.09, 10.13, 10.14, 10.17, 10.21, 10.22, 10.23, 10.26, 10.27, 10.28, 10.3, 10.32, 10.35, 10.37, 10.38, 10.4, 10.41, 10.45, 10.49, 10.5, 10.56, 10.58, 10.59, 10.6, 10.62, 10.63, 10.7, 10.71, 10.73, 10.74, 10.78, 10.79, 10.81, 10.82, 10.85, 10.92, 10.96, 11.01, 11.02, 11.03, 11.04, 11.06, 11.12, 11.19, 11.2, 11.22, 11.23, 11.26, 11.28, 11.3, 11.32, 11.35, 11.36, 11.37, 11.38, 11.39, 11.4, 11.42, 11.47, 11.54, 11.56, 11.58, 11.62, 11.66, 11.68, 11.69, 11.77, 11.79, 11.83, 11.87, 11.88, 11.93, 11.94, 11.95, 12.0, 12.04, 12.06, 12.12, 12.21, 12.22, 12.23, 12.26, 12.27, 12.29, 12.33, 12.34, 12.39, 12.54, 12.61, 12.63, 12.68, 12.73, 12.77, 12.8, 12.86, 12.87, 12.99, 13.07, 13.08, 13.09, 13.12, 13.19, 13.24, 13.31, 13.35, 13.41, 13.42, 13.48, 13.57, 13.64, 13.66, 13.7, 13.71, 13.76, 13.78, 13.83, 13.86, 13.87, 13.95, 13.96, 14.06, 14.1, 14.13, 14.14, 14.15, 14.16, 14.23, 14.24, 14.28, 14.29, 14.35, 14.41, 14.42, 14.44, 14.48, 14.52, 14.53, 14.58, 14.6, 14.62, 14.68, 14.69, 14.76, 14.78, 14.79, 14.83, 14.91, 15.03, 15.05, 15.06, 15.15, 15.22, 15.28, 15.3, 15.31, 15.39, 15.4, 15.43, 15.44, 15.52, 15.57, 15.59, 15.6, 15.65, 15.68, 15.69, 15.7, 15.72, 15.73, 15.78, 15.79, 15.81, 15.89, 15.9, 15.97, 16.08, 16.1, 16.11, 16.25, 16.27, 16.28, 16.37, 16.38, 16.39, 16.42, 16.47, 16.49, 16.5, 16.56, 16.6, 16.61, 16.63, 16.66, 16.72, 16.73, 16.77, 16.79, 16.81, 16.85, 16.9, 16.91, 16.96, 17.02, 17.05, 17.07, 17.16, 17.2, 17.22, 17.23, 17.32, 17.35, 17.38, 17.45, 17.47, 17.53, 17.55, 17.56, 17.72, 17.73, 17.74, 17.76, 17.87, 17.89, 17.97, 17.99, 18.05, 18.13, 18.18, 18.21, 18.22, 18.29, 18.54, 18.6, 18.61, 18.67, 18.69, 18.72, 18.83, 18.85, 18.9, 18.98, 19.0, 19.06, 19.08, 19.09, 19.15, 19.19, 19.21, 19.27, 19.36, 19.39, 19.42, 19.47, 19.57, 19.59, 19.6, 19.74, 19.76, 19.77, 19.83, 19.9, 19.92, 19.94, 19.99, 20.01, 20.02, 20.05, 20.13, 20.15, 20.18, 20.27, 20.31, 20.32, 20.39, 20.44, 20.46, 20.47, 20.51, 20.59, 20.64, 20.67, 20.68, 20.81, 20.93, 21.01, 21.06, 21.1, 21.16, 21.19, 21.21, 21.23, 21.44, 21.47, 21.52, 21.54, 21.56, 21.57, 21.62, 21.65, 21.69, 21.7, 21.72, 21.9, 21.98, 22.05, 22.07, 22.08, 22.09, 22.14, 22.15, 22.17, 22.2, 22.28, 22.39, 22.44, 22.52, 22.56, 22.66, 22.69, 22.7, 22.71, 22.77, 22.79, 22.82, 22.86, 22.88, 22.9, 22.95, 23.02, 23.05, 23.3, 23.32, 23.33, 23.35, 23.37, 23.44, 23.45, 23.71, 23.74, 23.76, 23.86, 23.89, 23.93, 23.97, 24.04, 24.17, 24.18, 24.32, 24.33, 24.38, 24.51, 24.56, 24.58, 24.64, 24.67, 24.71, 24.75, 24.76, 24.77, 24.79, 24.8, 24.82, 24.9, 24.93, 25.01, 25.11, 25.13, 25.14, 25.17, 25.18, 25.2, 25.23, 25.3, 25.32, 25.34, 25.46, 25.48, 25.52, 25.53, 25.55, 25.57, 25.58, 25.61, 25.62, 25.63, 25.65, 25.7, 25.73, 25.75, 25.77, 25.8, 25.81, 25.83, 25.85, 25.86, 25.96, 26.06, 26.07, 26.12, 26.19, 26.23, 26.27, 26.37, 26.44, 26.5, 26.54, 26.55, 26.61, 26.72, 26.82, 27.04, 27.17, 27.26, 27.3, 27.41, 27.43, 27.45, 27.46, 27.56, 27.65, 27.66, 27.67, 27.72, 27.85, 27.86, 27.97, 28.01, 28.17, 28.18, 28.22, 28.24, 28.26, 28.27, 28.28, 28.35, 28.5, 28.54, 28.69, 28.74, 28.87, 29.07, 29.09, 29.1, 29.18, 29.19, 29.27, 29.31, 29.46, 29.55, 29.58, 29.62, 29.69, 29.76, 29.77, 30.14, 30.39, 30.44, 30.5, 30.52, 30.58, 30.78, 30.84, 31.01, 31.2, 31.44, 31.5, 31.55, 31.59, 31.64, 31.65, 31.71, 31.76, 31.83, 31.87, 32.31, 32.44, 32.55, 32.6, 32.93, 33.05, 33.13, 33.14, 33.42, 33.57, 33.84, 33.87, 34.02, 34.2, 34.86, 34.91, 35.03, 35.17, 35.31, 35.73, 36.01, 36.14, 36.62, 36.65, 36.68, 36.79, 37.99, 38.12, 38.47, 38.69, 39.07, 39.83, 40.18, 40.52, 40.62, 40.74, 42.92, 43.07, 44.17, 44.34, 44.69, 52.75, 53.13, 54.52, 54.55, 62.04, 65.58, 79.56, 98.54, 100.0]\n",
            "\n",
            "Valores únicos da coluna indice_restaurante:\n",
            "[3.55, 3.57, 3.58, 3.61, 3.64, 3.7, 3.73, 3.81, 3.82, 3.84, 3.89, 3.92, 3.95, 4.12, 4.14, 4.24, 4.27, 4.29, 4.31, 4.34, 4.39, 4.46, 4.57, 4.6, 4.61, 4.66, 4.71, 4.72, 4.8, 4.84, 4.88, 4.94, 4.97, 5.01, 5.02, 5.03, 5.06, 5.13, 5.16, 5.17, 5.21, 5.25, 5.27, 5.28, 5.29, 5.31, 5.33, 5.34, 5.38, 5.41, 5.43, 5.45, 5.49, 5.51, 5.53, 5.54, 5.55, 5.56, 5.6, 5.64, 5.66, 5.67, 5.77, 5.8, 5.85, 5.88, 5.9, 5.95, 5.97, 5.98, 6.03, 6.05, 6.06, 6.07, 6.11, 6.12, 6.14, 6.17, 6.21, 6.22, 6.25, 6.3, 6.31, 6.33, 6.35, 6.36, 6.37, 6.43, 6.45, 6.46, 6.56, 6.58, 6.6, 6.64, 6.65, 6.67, 6.76, 6.8, 6.81, 6.85, 6.95, 6.99, 7.0, 7.01, 7.02, 7.05, 7.06, 7.08, 7.12, 7.14, 7.16, 7.2, 7.33, 7.36, 7.38, 7.41, 7.42, 7.45, 7.53, 7.57, 7.6, 7.77, 7.81, 7.86, 7.87, 7.96, 7.97, 7.99, 8.0, 8.02, 8.03, 8.04, 8.05, 8.1, 8.11, 8.19, 8.21, 8.22, 8.27, 8.3, 8.33, 8.36, 8.38, 8.47, 8.5, 8.51, 8.63, 8.67, 8.68, 8.73, 8.77, 8.79, 8.81, 8.88, 8.89, 8.9, 8.95, 8.96, 9.04, 9.08, 9.13, 9.18, 9.21, 9.25, 9.3, 9.31, 9.33, 9.36, 9.39, 9.4, 9.42, 9.44, 9.45, 9.48, 9.49, 9.5, 9.55, 9.56, 9.57, 9.58, 9.66, 9.67, 9.77, 9.79, 9.8, 9.85, 9.87, 9.98, 10.0, 10.01, 10.03, 10.1, 10.15, 10.17, 10.25, 10.26, 10.27, 10.29, 10.31, 10.33, 10.34, 10.36, 10.38, 10.41, 10.42, 10.47, 10.48, 10.53, 10.55, 10.56, 10.57, 10.61, 10.64, 10.65, 10.66, 10.71, 10.75, 10.79, 10.8, 10.83, 10.84, 10.85, 10.87, 10.88, 10.89, 10.9, 10.91, 10.94, 10.97, 11.08, 11.09, 11.1, 11.13, 11.14, 11.18, 11.2, 11.21, 11.28, 11.38, 11.4, 11.41, 11.46, 11.48, 11.5, 11.51, 11.54, 11.59, 11.62, 11.65, 11.66, 11.67, 11.68, 11.71, 11.77, 11.87, 11.89, 11.91, 11.93, 11.95, 11.98, 12.02, 12.09, 12.1, 12.12, 12.15, 12.16, 12.18, 12.21, 12.27, 12.31, 12.33, 12.35, 12.36, 12.37, 12.44, 12.47, 12.49, 12.5, 12.51, 12.53, 12.55, 12.58, 12.6, 12.62, 12.63, 12.65, 12.67, 12.74, 12.76, 12.83, 12.84, 12.85, 12.86, 12.94, 12.97, 13.0, 13.01, 13.02, 13.03, 13.04, 13.07, 13.09, 13.1, 13.11, 13.14, 13.17, 13.18, 13.19, 13.2, 13.26, 13.31, 13.34, 13.36, 13.39, 13.43, 13.45, 13.46, 13.49, 13.51, 13.56, 13.59, 13.69, 13.72, 13.76, 13.79, 13.81, 13.83, 13.84, 13.85, 13.86, 13.87, 13.88, 13.89, 13.9, 13.92, 13.93, 13.94, 13.95, 13.97, 14.0, 14.01, 14.02, 14.03, 14.21, 14.25, 14.26, 14.27, 14.36, 14.37, 14.42, 14.45, 14.58, 14.62, 14.64, 14.65, 14.66, 14.68, 14.73, 14.74, 14.75, 14.77, 14.79, 14.82, 14.84, 14.85, 14.89, 14.9, 14.94, 14.96, 14.98, 15.0, 15.01, 15.02, 15.04, 15.07, 15.09, 15.1, 15.13, 15.15, 15.19, 15.35, 15.38, 15.42, 15.44, 15.45, 15.5, 15.55, 15.58, 15.62, 15.65, 15.68, 15.69, 15.7, 15.71, 15.73, 15.74, 15.76, 15.77, 15.81, 15.84, 15.88, 15.89, 15.91, 15.98, 16.01, 16.02, 16.03, 16.05, 16.08, 16.09, 16.13, 16.14, 16.19, 16.2, 16.22, 16.27, 16.32, 16.35, 16.36, 16.39, 16.43, 16.46, 16.48, 16.54, 16.56, 16.6, 16.63, 16.64, 16.68, 16.72, 16.79, 16.8, 16.84, 16.85, 16.92, 16.94, 16.95, 16.96, 16.98, 17.02, 17.04, 17.09, 17.11, 17.15, 17.16, 17.19, 17.31, 17.34, 17.37, 17.42, 17.46, 17.53, 17.54, 17.56, 17.6, 17.63, 17.64, 17.66, 17.69, 17.72, 17.75, 17.77, 17.8, 17.96, 18.02, 18.09, 18.14, 18.23, 18.29, 18.31, 18.32, 18.34, 18.39, 18.4, 18.49, 18.52, 18.6, 18.63, 18.66, 18.67, 18.7, 18.71, 18.72, 18.74, 18.79, 18.91, 18.94, 18.98, 19.05, 19.12, 19.24, 19.27, 19.31, 19.32, 19.33, 19.38, 19.39, 19.43, 19.44, 19.45, 19.46, 19.47, 19.5, 19.58, 19.6, 19.64, 19.74, 19.76, 19.82, 19.86, 19.9, 20.03, 20.17, 20.33, 20.36, 20.43, 20.66, 20.69, 20.76, 20.86, 20.88, 20.89, 20.9, 20.91, 21.15, 21.16, 21.2, 21.23, 21.24, 21.51, 21.52, 21.59, 21.64, 21.71, 21.79, 21.84, 21.87, 21.89, 21.9, 21.92, 21.95, 22.05, 22.07, 22.11, 22.13, 22.23, 22.42, 22.53, 22.54, 22.7, 22.88, 22.93, 23.01, 23.04, 23.06, 23.07, 23.12, 23.18, 23.23, 23.24, 23.37, 23.39, 23.45, 23.51, 23.54, 23.56, 23.57, 23.63, 23.69, 23.72, 23.75, 23.77, 23.84, 23.93, 24.04, 24.19, 24.21, 24.26, 24.27, 24.37, 24.44, 24.45, 24.51, 24.54, 24.56, 24.6, 24.65, 24.7, 24.72, 24.79, 24.82, 24.83, 24.92, 25.01, 25.02, 25.2, 25.28, 25.29, 25.39, 25.42, 25.44, 25.54, 25.61, 25.65, 25.78, 25.83, 25.84, 25.89, 26.0, 26.2, 26.21, 26.22, 26.29, 26.31, 26.37, 26.38, 26.39, 26.51, 26.57, 26.62, 26.65, 26.69, 26.73, 26.81, 26.87, 26.88, 26.91, 27.1, 27.12, 27.24, 27.37, 27.44, 27.49, 27.5, 27.56, 27.6, 27.62, 27.63, 27.68, 27.73, 27.84, 27.88, 28.02, 28.06, 28.25, 28.38, 28.41, 28.5, 28.53, 28.63, 28.64, 28.77, 28.79, 28.84, 28.87, 28.89, 29.0, 29.03, 29.09, 29.21, 29.36, 29.39, 29.5, 29.52, 29.58, 29.6, 29.62, 29.63, 29.72, 30.02, 30.05, 30.12, 30.17, 30.2, 30.21, 30.22, 30.24, 30.26, 30.29, 30.35, 30.38, 30.41, 30.53, 30.65, 30.66, 30.8, 30.85, 30.86, 30.89, 31.02, 31.04, 31.15, 31.28, 31.33, 31.37, 31.41, 31.42, 31.7, 31.71, 31.76, 31.81, 31.85, 31.92, 31.93, 32.0, 32.1, 32.24, 32.25, 32.28, 32.29, 32.44, 32.59, 32.68, 32.72, 32.75, 32.81, 32.88, 32.96, 33.03, 33.09, 33.11, 33.12, 33.17, 33.22, 33.3, 33.33, 33.34, 33.36, 33.4, 33.46, 33.49, 33.74, 33.86, 33.9, 33.97, 34.05, 34.23, 34.29, 34.48, 34.55, 34.56, 34.61, 34.66, 34.69, 34.73, 35.03, 35.23, 35.24, 35.42, 35.61, 35.69, 35.78, 35.91, 36.16, 36.2, 36.22, 36.28, 36.34, 36.4, 36.61, 36.83, 36.92, 37.04, 37.09, 37.48, 37.67, 37.68, 37.72, 37.79, 37.83, 38.03, 38.1, 38.13, 38.26, 38.3, 38.33, 38.39, 38.5, 38.54, 38.68, 38.8, 38.9, 39.12, 39.16, 39.31, 39.48, 39.53, 39.55, 39.81, 39.84, 39.95, 39.99, 40.0, 40.11, 40.17, 40.28, 40.55, 40.66, 40.67, 40.77, 41.16, 41.64, 41.7, 41.75, 41.77, 41.96, 42.04, 42.06, 42.19, 42.3, 42.45, 42.61, 43.05, 43.08, 43.25, 43.3, 43.32, 43.62, 43.76, 43.81, 43.85, 44.43, 44.58, 44.74, 44.79, 44.9, 45.02, 45.32, 45.63, 45.65, 45.78, 45.87, 45.98, 46.2, 46.27, 46.33, 46.44, 46.62, 46.66, 47.04, 47.09, 47.14, 47.17, 47.42, 47.55, 47.61, 47.68, 47.69, 47.74, 47.95, 48.01, 48.07, 48.3, 48.41, 48.46, 48.52, 48.54, 48.57, 48.6, 48.73, 48.84, 48.87, 48.96, 48.98, 49.04, 49.67, 50.03, 50.2, 50.21, 50.31, 50.63, 50.75, 51.18, 51.19, 51.59, 51.65, 51.67, 51.96, 52.01, 52.11, 52.39, 52.41, 52.53, 52.57, 52.62, 52.65, 52.69, 52.73, 52.91, 52.94, 53.07, 53.1, 53.13, 53.19, 53.31, 53.4, 53.56, 53.79, 54.2, 54.29, 54.46, 54.49, 54.84, 54.85, 55.03, 55.3, 55.33, 55.36, 55.38, 55.6, 55.61, 55.63, 55.77, 55.88, 56.16, 56.27, 56.55, 56.62, 56.67, 56.73, 56.81, 56.84, 56.87, 56.92, 57.05, 57.22, 57.38, 57.48, 57.49, 57.57, 57.68, 57.8, 57.89, 58.04, 58.34, 58.36, 58.42, 58.46, 58.56, 58.57, 58.72, 58.8, 58.83, 58.86, 58.87, 58.89, 58.95, 58.98, 59.12, 59.52, 59.77, 59.78, 59.99, 60.77, 60.86, 60.94, 60.97, 61.43, 61.7, 61.74, 62.2, 62.99, 63.2, 64.01, 64.39, 65.94, 66.76, 66.87, 67.57, 69.32, 71.21, 71.35, 72.78, 75.05, 79.78, 79.93, 97.7, 100.0]\n",
            "\n",
            "Valores únicos da coluna longitude:\n",
            "[4.78, 4.79, 4.8, 4.81, 4.82, 4.83, 4.84, 4.85, 4.86, 4.87, 4.88, 4.89, 4.9, 4.91, 4.92, 4.93, 4.94, 4.95, 4.96, 4.97, 4.98, 4.99, 5.0, 5.01]\n",
            "\n",
            "Valores únicos da coluna latitude:\n",
            "[52.29, 52.3, 52.31, 52.32, 52.33, 52.34, 52.35, 52.36, 52.37, 52.38, 52.39, 52.4, 52.41, 52.42]\n",
            "\n"
          ]
        }
      ]
    },
    {
      "cell_type": "markdown",
      "source": [
        "## Verificar se há colunas iguais"
      ],
      "metadata": {
        "id": "SYfEWa_BukSM"
      }
    },
    {
      "cell_type": "code",
      "source": [
        "# Verificando se as colunas do tipo float são iguais\n",
        "# Nome das colunas a serem verificadas\n",
        "colunas_verificar = ['nivel_satisfacao', 'nivel_limpeza', 'distancia', 'dist_metro', 'longitude', 'latitude', 'indice_atracao', 'indice_restaurante']\n",
        "\n",
        "# Verificando se as colunas são iguais à coluna 'valor_total'\n",
        "for coluna in colunas_verificar:\n",
        "    if (df['valor_total']== df[coluna]).all():\n",
        "        print(f\"A coluna {coluna} é igual à coluna 'valor_total'.\")\n",
        "    else:\n",
        "        print(f\"A coluna {coluna} é diferente da coluna 'valor_total'.\")"
      ],
      "metadata": {
        "colab": {
          "base_uri": "https://localhost:8080/"
        },
        "id": "EgPdjdPDnPHt",
        "outputId": "5799ef20-e4c6-459f-b8bb-5236ec3e864a"
      },
      "execution_count": null,
      "outputs": [
        {
          "output_type": "stream",
          "name": "stdout",
          "text": [
            "A coluna nivel_satisfacao é diferente da coluna 'valor_total'.\n",
            "A coluna nivel_limpeza é diferente da coluna 'valor_total'.\n",
            "A coluna distancia é diferente da coluna 'valor_total'.\n",
            "A coluna dist_metro é diferente da coluna 'valor_total'.\n",
            "A coluna longitude é diferente da coluna 'valor_total'.\n",
            "A coluna latitude é diferente da coluna 'valor_total'.\n",
            "A coluna indice_atracao é diferente da coluna 'valor_total'.\n",
            "A coluna indice_restaurante é diferente da coluna 'valor_total'.\n"
          ]
        }
      ]
    },
    {
      "cell_type": "code",
      "source": [
        "# Verificando se as colunas do tipo int são iguais\n",
        "# Nome das colunas a serem verificadas\n",
        "if (df['capacidade']== df['quartos']).all():\n",
        "  print(\"A coluna capacidade é igual à coluna 'quartos'.\")\n",
        "else:\n",
        "  print(\"A coluna capacidade é diferente da coluna 'quartos'.\")"
      ],
      "metadata": {
        "colab": {
          "base_uri": "https://localhost:8080/"
        },
        "id": "VYaLCE8xaMAu",
        "outputId": "7a74e9dc-7c2d-47fd-e1a7-c5aa529f261e"
      },
      "execution_count": null,
      "outputs": [
        {
          "output_type": "stream",
          "name": "stdout",
          "text": [
            "A coluna capacidade é diferente da coluna 'quartos'.\n"
          ]
        }
      ]
    },
    {
      "cell_type": "markdown",
      "source": [
        "##  Verificação e tratamento de duplicadas"
      ],
      "metadata": {
        "id": "F04Wt15SatSX"
      }
    },
    {
      "cell_type": "code",
      "source": [
        "# Tamanho ( linhas e colunas) do df\n",
        "df.shape"
      ],
      "metadata": {
        "colab": {
          "base_uri": "https://localhost:8080/"
        },
        "id": "q35ALbZvbv-F",
        "outputId": "f11c6f48-2f2c-4427-9dc5-9b88a3eb382d"
      },
      "execution_count": null,
      "outputs": [
        {
          "output_type": "execute_result",
          "data": {
            "text/plain": [
              "(1103, 13)"
            ]
          },
          "metadata": {},
          "execution_count": 34
        }
      ]
    },
    {
      "cell_type": "code",
      "source": [
        "# podemos observar que a quantidade de registros é a mesma que a quantidade de colunas\n",
        "df.count()"
      ],
      "metadata": {
        "id": "rcaDrqTqa5Hv",
        "colab": {
          "base_uri": "https://localhost:8080/"
        },
        "outputId": "87edf4b8-4506-49b5-986f-1364e7872b80"
      },
      "execution_count": null,
      "outputs": [
        {
          "output_type": "execute_result",
          "data": {
            "text/plain": [
              "valor_total           1103\n",
              "tipo_quarto           1103\n",
              "capacidade            1103\n",
              "bom_anfitriao         1103\n",
              "nivel_limpeza         1103\n",
              "nivel_satisfacao      1103\n",
              "quartos               1103\n",
              "distancia             1103\n",
              "dist_metro            1103\n",
              "indice_atracao        1103\n",
              "indice_restaurante    1103\n",
              "longitude             1103\n",
              "latitude              1103\n",
              "dtype: int64"
            ]
          },
          "metadata": {},
          "execution_count": 35
        }
      ]
    },
    {
      "cell_type": "code",
      "source": [
        "# método duplicated verifica se há linhas duplicadas no dataframe\n",
        "df.duplicated()"
      ],
      "metadata": {
        "colab": {
          "base_uri": "https://localhost:8080/"
        },
        "id": "giqO3MfJb5-C",
        "outputId": "06079a65-4784-4e17-91a7-7821bf09e1de"
      },
      "execution_count": null,
      "outputs": [
        {
          "output_type": "execute_result",
          "data": {
            "text/plain": [
              "0       False\n",
              "1       False\n",
              "2       False\n",
              "3       False\n",
              "4       False\n",
              "        ...  \n",
              "1098    False\n",
              "1099    False\n",
              "1100    False\n",
              "1101    False\n",
              "1102    False\n",
              "Length: 1103, dtype: bool"
            ]
          },
          "metadata": {},
          "execution_count": 36
        }
      ]
    },
    {
      "cell_type": "markdown",
      "source": [
        "## Verificação e tratamento de valores nulos"
      ],
      "metadata": {
        "id": "3TbLTj6Caymr"
      }
    },
    {
      "cell_type": "code",
      "source": [
        "# Verificar dados Nulos , ausentes , etc - isnull()\n",
        "df.isna().sum()"
      ],
      "metadata": {
        "colab": {
          "base_uri": "https://localhost:8080/"
        },
        "id": "h39WZWdMdR4s",
        "outputId": "136b012c-ac0d-45bd-8c5c-bc24c8045d29"
      },
      "execution_count": null,
      "outputs": [
        {
          "output_type": "execute_result",
          "data": {
            "text/plain": [
              "valor_total           0\n",
              "tipo_quarto           0\n",
              "capacidade            0\n",
              "bom_anfitriao         0\n",
              "nivel_limpeza         0\n",
              "nivel_satisfacao      0\n",
              "quartos               0\n",
              "distancia             0\n",
              "dist_metro            0\n",
              "indice_atracao        0\n",
              "indice_restaurante    0\n",
              "longitude             0\n",
              "latitude              0\n",
              "dtype: int64"
            ]
          },
          "metadata": {},
          "execution_count": 37
        }
      ]
    },
    {
      "cell_type": "markdown",
      "source": [
        "## Qualidade e integridade dos Dados"
      ],
      "metadata": {
        "id": "21GuOirkUIOm"
      }
    },
    {
      "cell_type": "code",
      "source": [
        "# Nossas colunas do dataframe\n",
        "df.dtypes"
      ],
      "metadata": {
        "colab": {
          "base_uri": "https://localhost:8080/"
        },
        "id": "pzOC0zmdUqUp",
        "outputId": "a0416e90-f684-498a-9255-157b668f18de"
      },
      "execution_count": null,
      "outputs": [
        {
          "output_type": "execute_result",
          "data": {
            "text/plain": [
              "valor_total           float64\n",
              "tipo_quarto            object\n",
              "capacidade              int64\n",
              "bom_anfitriao            bool\n",
              "nivel_limpeza         float64\n",
              "nivel_satisfacao      float64\n",
              "quartos                 int64\n",
              "distancia             float64\n",
              "dist_metro            float64\n",
              "indice_atracao        float64\n",
              "indice_restaurante    float64\n",
              "longitude             float64\n",
              "latitude              float64\n",
              "dtype: object"
            ]
          },
          "metadata": {},
          "execution_count": 38
        }
      ]
    },
    {
      "cell_type": "code",
      "source": [
        "# Definir o esquema de validação\n",
        "schema = pa.DataFrameSchema({'valor_total': pa.Column(pa.Float64),\n",
        "                            'tipo_quarto': pa.Column(pa.String),\n",
        "                            'capacidade': pa.Column(pa.Int),\n",
        "                            'bom_anfitriao': pa.Column(pa.Bool),\n",
        "                            'nivel_limpeza': pa.Column(pa.Float64),\n",
        "                            'nivel_satisfacao': pa.Column(pa.Float64),\n",
        "                            'quartos': pa.Column(pa.Int),\n",
        "                            'distancia': pa.Column(pa.Float64),\n",
        "                            'dist_metro': pa.Column(pa.Float64),\n",
        "                            'indice_atracao': pa.Column(pa.Float64),\n",
        "                            'indice_restaurante': pa.Column(pa.Float64),\n",
        "                            'longitude': pa.Column(pa.Float64),\n",
        "                            'latitude': pa.Column(pa.Float64)\n",
        "                            })\n",
        "\n",
        "# Validar o DataFrame\n",
        "schema.validate(df)"
      ],
      "metadata": {
        "id": "VOHFkiICU4GR",
        "colab": {
          "base_uri": "https://localhost:8080/"
        },
        "outputId": "580a27c4-6928-4b33-a204-7b276172e07f"
      },
      "execution_count": null,
      "outputs": [
        {
          "output_type": "execute_result",
          "data": {
            "text/plain": [
              "      valor_total               tipo_quarto  capacidade  bom_anfitriao  \\\n",
              "0          194.03            QUARTO PRIVADO           2          False   \n",
              "1          344.25            QUARTO PRIVADO           4          False   \n",
              "2          264.10            QUARTO PRIVADO           2          False   \n",
              "3          433.53            QUARTO PRIVADO           4          False   \n",
              "4          485.55            QUARTO PRIVADO           2           True   \n",
              "...           ...                       ...         ...            ...   \n",
              "1098      2486.12  CASA/APARTAMENTO INTEIRO           2          False   \n",
              "1099       233.64            QUARTO PRIVADO           2          False   \n",
              "1100       317.06            QUARTO PRIVADO           2          False   \n",
              "1101      1812.86  CASA/APARTAMENTO INTEIRO           4          False   \n",
              "1102       258.01      QUARTO COMPARTILHADO           2          False   \n",
              "\n",
              "      nivel_limpeza  nivel_satisfacao  quartos  distancia  dist_metro  \\\n",
              "0              10.0              93.0        1       5.02        2.54   \n",
              "1               8.0              85.0        1       0.49        0.24   \n",
              "2               9.0              87.0        1       5.75        3.65   \n",
              "3               9.0              90.0        2       0.38        0.44   \n",
              "4              10.0              98.0        1       0.54        0.32   \n",
              "...             ...               ...      ...        ...         ...   \n",
              "1098           10.0             100.0        1       2.38        1.44   \n",
              "1099           10.0              90.0        1       4.72        0.32   \n",
              "1100           10.0              92.0        1       0.60        0.75   \n",
              "1101            8.0              84.0        5       1.94        0.39   \n",
              "1102            8.0              90.0        1       0.28        0.52   \n",
              "\n",
              "      indice_atracao  indice_restaurante  longitude  latitude  \n",
              "0               4.17                6.85       4.91     52.42  \n",
              "1              33.42               58.34       4.90     52.37  \n",
              "2               3.99                6.65       4.98     52.36  \n",
              "3              26.12               60.97       4.89     52.38  \n",
              "4              29.27               56.81       4.90     52.38  \n",
              "...              ...                 ...        ...       ...  \n",
              "1098            9.59               15.70       4.86     52.38  \n",
              "1099            5.72                9.39       4.84     52.35  \n",
              "1100           23.32               43.62       4.89     52.38  \n",
              "1101           13.66               23.45       4.91     52.36  \n",
              "1102           28.27               56.27       4.89     52.38  \n",
              "\n",
              "[1103 rows x 13 columns]"
            ],
            "text/html": [
              "\n",
              "  <div id=\"df-537cf1a4-d96b-4a8e-b8bb-95fcfc85ce6e\">\n",
              "    <div class=\"colab-df-container\">\n",
              "      <div>\n",
              "<style scoped>\n",
              "    .dataframe tbody tr th:only-of-type {\n",
              "        vertical-align: middle;\n",
              "    }\n",
              "\n",
              "    .dataframe tbody tr th {\n",
              "        vertical-align: top;\n",
              "    }\n",
              "\n",
              "    .dataframe thead th {\n",
              "        text-align: right;\n",
              "    }\n",
              "</style>\n",
              "<table border=\"1\" class=\"dataframe\">\n",
              "  <thead>\n",
              "    <tr style=\"text-align: right;\">\n",
              "      <th></th>\n",
              "      <th>valor_total</th>\n",
              "      <th>tipo_quarto</th>\n",
              "      <th>capacidade</th>\n",
              "      <th>bom_anfitriao</th>\n",
              "      <th>nivel_limpeza</th>\n",
              "      <th>nivel_satisfacao</th>\n",
              "      <th>quartos</th>\n",
              "      <th>distancia</th>\n",
              "      <th>dist_metro</th>\n",
              "      <th>indice_atracao</th>\n",
              "      <th>indice_restaurante</th>\n",
              "      <th>longitude</th>\n",
              "      <th>latitude</th>\n",
              "    </tr>\n",
              "  </thead>\n",
              "  <tbody>\n",
              "    <tr>\n",
              "      <th>0</th>\n",
              "      <td>194.03</td>\n",
              "      <td>QUARTO PRIVADO</td>\n",
              "      <td>2</td>\n",
              "      <td>False</td>\n",
              "      <td>10.0</td>\n",
              "      <td>93.0</td>\n",
              "      <td>1</td>\n",
              "      <td>5.02</td>\n",
              "      <td>2.54</td>\n",
              "      <td>4.17</td>\n",
              "      <td>6.85</td>\n",
              "      <td>4.91</td>\n",
              "      <td>52.42</td>\n",
              "    </tr>\n",
              "    <tr>\n",
              "      <th>1</th>\n",
              "      <td>344.25</td>\n",
              "      <td>QUARTO PRIVADO</td>\n",
              "      <td>4</td>\n",
              "      <td>False</td>\n",
              "      <td>8.0</td>\n",
              "      <td>85.0</td>\n",
              "      <td>1</td>\n",
              "      <td>0.49</td>\n",
              "      <td>0.24</td>\n",
              "      <td>33.42</td>\n",
              "      <td>58.34</td>\n",
              "      <td>4.90</td>\n",
              "      <td>52.37</td>\n",
              "    </tr>\n",
              "    <tr>\n",
              "      <th>2</th>\n",
              "      <td>264.10</td>\n",
              "      <td>QUARTO PRIVADO</td>\n",
              "      <td>2</td>\n",
              "      <td>False</td>\n",
              "      <td>9.0</td>\n",
              "      <td>87.0</td>\n",
              "      <td>1</td>\n",
              "      <td>5.75</td>\n",
              "      <td>3.65</td>\n",
              "      <td>3.99</td>\n",
              "      <td>6.65</td>\n",
              "      <td>4.98</td>\n",
              "      <td>52.36</td>\n",
              "    </tr>\n",
              "    <tr>\n",
              "      <th>3</th>\n",
              "      <td>433.53</td>\n",
              "      <td>QUARTO PRIVADO</td>\n",
              "      <td>4</td>\n",
              "      <td>False</td>\n",
              "      <td>9.0</td>\n",
              "      <td>90.0</td>\n",
              "      <td>2</td>\n",
              "      <td>0.38</td>\n",
              "      <td>0.44</td>\n",
              "      <td>26.12</td>\n",
              "      <td>60.97</td>\n",
              "      <td>4.89</td>\n",
              "      <td>52.38</td>\n",
              "    </tr>\n",
              "    <tr>\n",
              "      <th>4</th>\n",
              "      <td>485.55</td>\n",
              "      <td>QUARTO PRIVADO</td>\n",
              "      <td>2</td>\n",
              "      <td>True</td>\n",
              "      <td>10.0</td>\n",
              "      <td>98.0</td>\n",
              "      <td>1</td>\n",
              "      <td>0.54</td>\n",
              "      <td>0.32</td>\n",
              "      <td>29.27</td>\n",
              "      <td>56.81</td>\n",
              "      <td>4.90</td>\n",
              "      <td>52.38</td>\n",
              "    </tr>\n",
              "    <tr>\n",
              "      <th>...</th>\n",
              "      <td>...</td>\n",
              "      <td>...</td>\n",
              "      <td>...</td>\n",
              "      <td>...</td>\n",
              "      <td>...</td>\n",
              "      <td>...</td>\n",
              "      <td>...</td>\n",
              "      <td>...</td>\n",
              "      <td>...</td>\n",
              "      <td>...</td>\n",
              "      <td>...</td>\n",
              "      <td>...</td>\n",
              "      <td>...</td>\n",
              "    </tr>\n",
              "    <tr>\n",
              "      <th>1098</th>\n",
              "      <td>2486.12</td>\n",
              "      <td>CASA/APARTAMENTO INTEIRO</td>\n",
              "      <td>2</td>\n",
              "      <td>False</td>\n",
              "      <td>10.0</td>\n",
              "      <td>100.0</td>\n",
              "      <td>1</td>\n",
              "      <td>2.38</td>\n",
              "      <td>1.44</td>\n",
              "      <td>9.59</td>\n",
              "      <td>15.70</td>\n",
              "      <td>4.86</td>\n",
              "      <td>52.38</td>\n",
              "    </tr>\n",
              "    <tr>\n",
              "      <th>1099</th>\n",
              "      <td>233.64</td>\n",
              "      <td>QUARTO PRIVADO</td>\n",
              "      <td>2</td>\n",
              "      <td>False</td>\n",
              "      <td>10.0</td>\n",
              "      <td>90.0</td>\n",
              "      <td>1</td>\n",
              "      <td>4.72</td>\n",
              "      <td>0.32</td>\n",
              "      <td>5.72</td>\n",
              "      <td>9.39</td>\n",
              "      <td>4.84</td>\n",
              "      <td>52.35</td>\n",
              "    </tr>\n",
              "    <tr>\n",
              "      <th>1100</th>\n",
              "      <td>317.06</td>\n",
              "      <td>QUARTO PRIVADO</td>\n",
              "      <td>2</td>\n",
              "      <td>False</td>\n",
              "      <td>10.0</td>\n",
              "      <td>92.0</td>\n",
              "      <td>1</td>\n",
              "      <td>0.60</td>\n",
              "      <td>0.75</td>\n",
              "      <td>23.32</td>\n",
              "      <td>43.62</td>\n",
              "      <td>4.89</td>\n",
              "      <td>52.38</td>\n",
              "    </tr>\n",
              "    <tr>\n",
              "      <th>1101</th>\n",
              "      <td>1812.86</td>\n",
              "      <td>CASA/APARTAMENTO INTEIRO</td>\n",
              "      <td>4</td>\n",
              "      <td>False</td>\n",
              "      <td>8.0</td>\n",
              "      <td>84.0</td>\n",
              "      <td>5</td>\n",
              "      <td>1.94</td>\n",
              "      <td>0.39</td>\n",
              "      <td>13.66</td>\n",
              "      <td>23.45</td>\n",
              "      <td>4.91</td>\n",
              "      <td>52.36</td>\n",
              "    </tr>\n",
              "    <tr>\n",
              "      <th>1102</th>\n",
              "      <td>258.01</td>\n",
              "      <td>QUARTO COMPARTILHADO</td>\n",
              "      <td>2</td>\n",
              "      <td>False</td>\n",
              "      <td>8.0</td>\n",
              "      <td>90.0</td>\n",
              "      <td>1</td>\n",
              "      <td>0.28</td>\n",
              "      <td>0.52</td>\n",
              "      <td>28.27</td>\n",
              "      <td>56.27</td>\n",
              "      <td>4.89</td>\n",
              "      <td>52.38</td>\n",
              "    </tr>\n",
              "  </tbody>\n",
              "</table>\n",
              "<p>1103 rows × 13 columns</p>\n",
              "</div>\n",
              "      <button class=\"colab-df-convert\" onclick=\"convertToInteractive('df-537cf1a4-d96b-4a8e-b8bb-95fcfc85ce6e')\"\n",
              "              title=\"Convert this dataframe to an interactive table.\"\n",
              "              style=\"display:none;\">\n",
              "        \n",
              "  <svg xmlns=\"http://www.w3.org/2000/svg\" height=\"24px\"viewBox=\"0 0 24 24\"\n",
              "       width=\"24px\">\n",
              "    <path d=\"M0 0h24v24H0V0z\" fill=\"none\"/>\n",
              "    <path d=\"M18.56 5.44l.94 2.06.94-2.06 2.06-.94-2.06-.94-.94-2.06-.94 2.06-2.06.94zm-11 1L8.5 8.5l.94-2.06 2.06-.94-2.06-.94L8.5 2.5l-.94 2.06-2.06.94zm10 10l.94 2.06.94-2.06 2.06-.94-2.06-.94-.94-2.06-.94 2.06-2.06.94z\"/><path d=\"M17.41 7.96l-1.37-1.37c-.4-.4-.92-.59-1.43-.59-.52 0-1.04.2-1.43.59L10.3 9.45l-7.72 7.72c-.78.78-.78 2.05 0 2.83L4 21.41c.39.39.9.59 1.41.59.51 0 1.02-.2 1.41-.59l7.78-7.78 2.81-2.81c.8-.78.8-2.07 0-2.86zM5.41 20L4 18.59l7.72-7.72 1.47 1.35L5.41 20z\"/>\n",
              "  </svg>\n",
              "      </button>\n",
              "      \n",
              "  <style>\n",
              "    .colab-df-container {\n",
              "      display:flex;\n",
              "      flex-wrap:wrap;\n",
              "      gap: 12px;\n",
              "    }\n",
              "\n",
              "    .colab-df-convert {\n",
              "      background-color: #E8F0FE;\n",
              "      border: none;\n",
              "      border-radius: 50%;\n",
              "      cursor: pointer;\n",
              "      display: none;\n",
              "      fill: #1967D2;\n",
              "      height: 32px;\n",
              "      padding: 0 0 0 0;\n",
              "      width: 32px;\n",
              "    }\n",
              "\n",
              "    .colab-df-convert:hover {\n",
              "      background-color: #E2EBFA;\n",
              "      box-shadow: 0px 1px 2px rgba(60, 64, 67, 0.3), 0px 1px 3px 1px rgba(60, 64, 67, 0.15);\n",
              "      fill: #174EA6;\n",
              "    }\n",
              "\n",
              "    [theme=dark] .colab-df-convert {\n",
              "      background-color: #3B4455;\n",
              "      fill: #D2E3FC;\n",
              "    }\n",
              "\n",
              "    [theme=dark] .colab-df-convert:hover {\n",
              "      background-color: #434B5C;\n",
              "      box-shadow: 0px 1px 3px 1px rgba(0, 0, 0, 0.15);\n",
              "      filter: drop-shadow(0px 1px 2px rgba(0, 0, 0, 0.3));\n",
              "      fill: #FFFFFF;\n",
              "    }\n",
              "  </style>\n",
              "\n",
              "      <script>\n",
              "        const buttonEl =\n",
              "          document.querySelector('#df-537cf1a4-d96b-4a8e-b8bb-95fcfc85ce6e button.colab-df-convert');\n",
              "        buttonEl.style.display =\n",
              "          google.colab.kernel.accessAllowed ? 'block' : 'none';\n",
              "\n",
              "        async function convertToInteractive(key) {\n",
              "          const element = document.querySelector('#df-537cf1a4-d96b-4a8e-b8bb-95fcfc85ce6e');\n",
              "          const dataTable =\n",
              "            await google.colab.kernel.invokeFunction('convertToInteractive',\n",
              "                                                     [key], {});\n",
              "          if (!dataTable) return;\n",
              "\n",
              "          const docLinkHtml = 'Like what you see? Visit the ' +\n",
              "            '<a target=\"_blank\" href=https://colab.research.google.com/notebooks/data_table.ipynb>data table notebook</a>'\n",
              "            + ' to learn more about interactive tables.';\n",
              "          element.innerHTML = '';\n",
              "          dataTable['output_type'] = 'display_data';\n",
              "          await google.colab.output.renderOutput(dataTable, element);\n",
              "          const docLink = document.createElement('div');\n",
              "          docLink.innerHTML = docLinkHtml;\n",
              "          element.appendChild(docLink);\n",
              "        }\n",
              "      </script>\n",
              "    </div>\n",
              "  </div>\n",
              "  "
            ]
          },
          "metadata": {},
          "execution_count": 39
        }
      ]
    },
    {
      "cell_type": "markdown",
      "source": [
        "## Backup"
      ],
      "metadata": {
        "id": "6Xn7TcUET96Z"
      }
    },
    {
      "cell_type": "code",
      "source": [
        "# Backup local do df\n",
        "dfback3 = df.copy()\n"
      ],
      "metadata": {
        "id": "ccSI0ZD-UAex"
      },
      "execution_count": null,
      "outputs": []
    },
    {
      "cell_type": "markdown",
      "source": [
        "# **Carregamento**"
      ],
      "metadata": {
        "id": "vxLJZ6a5UJIP"
      }
    },
    {
      "cell_type": "markdown",
      "source": [
        "## Google Drive"
      ],
      "metadata": {
        "id": "BRPVSqU5UTCl"
      }
    },
    {
      "cell_type": "code",
      "source": [
        "# Google Drive - Utilizar se for o rotulo padrão\n",
        "# df.to_csv('/content/drive/MyDrive/Bootcamp de Analista de Dados/Python/airbnb_tratado.csv',index=False)"
      ],
      "metadata": {
        "id": "siTolVP_UR8U"
      },
      "execution_count": null,
      "outputs": []
    },
    {
      "cell_type": "code",
      "source": [
        "#Exportação no Google Drive. Obs.: ao fechar o colab esse arquivo some. Recomendação: faça o download e coloque numa pasta do google drive\n",
        "# df.to_csv('airbnb.csv', index=False)"
      ],
      "metadata": {
        "id": "fGrUZkdBUZrx"
      },
      "execution_count": null,
      "outputs": []
    },
    {
      "cell_type": "markdown",
      "source": [
        "## Google Cloud"
      ],
      "metadata": {
        "id": "2c7q1p7vUVDO"
      }
    },
    {
      "cell_type": "code",
      "source": [
        "# Google Cloud\n",
        "df.to_csv('gs://projetos-aula-soulcode/Projeto Airbnb/Dados Tratados/airbnb_tratado.csv', index=False) # salva no bucket\n"
      ],
      "metadata": {
        "id": "kR0yeAjoUj1l"
      },
      "execution_count": null,
      "outputs": []
    },
    {
      "cell_type": "markdown",
      "source": [
        "# **Análises**"
      ],
      "metadata": {
        "id": "xX1YtLWxWN4B"
      }
    },
    {
      "cell_type": "markdown",
      "source": [
        "## Variáveis tipo quarto e bom anfitrião\n"
      ],
      "metadata": {
        "id": "jOKaBe2vvD_c"
      }
    },
    {
      "cell_type": "markdown",
      "source": [
        "\n",
        "O objetivo da análise é investigar se a variável \"bom_anfitrião\" tem influência nos aluguéis de acordo com o tipo de quarto.\n",
        "\n",
        "Para isso, foi realizado o cálculo da quantidade de ocorrências de cada tipo de quarto por grupo e a quantidade de ocorrências de \"bom_anfitrião\" por grupo. Em seguida, foi aplicado um filtro para relacionar essas duas variáveis e obter a contagem de ocorrências para cada caso específico."
      ],
      "metadata": {
        "id": "K1_qZGTppsJC"
      }
    },
    {
      "cell_type": "code",
      "source": [
        "# QTD de tipo de quartos por group by\n",
        "df.groupby(['tipo_quarto']).size().sort_values(ascending=False)"
      ],
      "metadata": {
        "colab": {
          "base_uri": "https://localhost:8080/"
        },
        "id": "sHBleZwnj3bA",
        "outputId": "40fad2f3-773c-409c-b226-e0d9f2927439"
      },
      "execution_count": null,
      "outputs": [
        {
          "output_type": "execute_result",
          "data": {
            "text/plain": [
              "tipo_quarto\n",
              "QUARTO PRIVADO              559\n",
              "CASA/APARTAMENTO INTEIRO    538\n",
              "QUARTO COMPARTILHADO          6\n",
              "dtype: int64"
            ]
          },
          "metadata": {},
          "execution_count": 44
        }
      ]
    },
    {
      "cell_type": "code",
      "source": [
        "# QTD de bons anfitriões por group by\n",
        "df.groupby(['bom_anfitriao']).size().sort_values(ascending=False)"
      ],
      "metadata": {
        "colab": {
          "base_uri": "https://localhost:8080/"
        },
        "id": "mY_97JPekUWQ",
        "outputId": "94c1e497-f045-4ab2-e7dc-7bad5e67f923"
      },
      "execution_count": null,
      "outputs": [
        {
          "output_type": "execute_result",
          "data": {
            "text/plain": [
              "bom_anfitriao\n",
              "False    780\n",
              "True     323\n",
              "dtype: int64"
            ]
          },
          "metadata": {},
          "execution_count": 45
        }
      ]
    },
    {
      "cell_type": "code",
      "source": [
        "# filtros de tipo quarto (CASA/APARTAMENTO INTEIRO) e bom anfitrião (TRUE)\n",
        "ft_tipo = df.tipo_quarto == 'CASA/APARTAMENTO INTEIRO'\n",
        "ft_bom = df.bom_anfitriao == True\n",
        "\n",
        "df.filtrado_bom_anfitriao = df.loc[ft_tipo & ft_bom]\n",
        "\n",
        "print('Quantidade de Casas Apartamentos inteiros com bons anfitriões', len(df.filtrado_bom_anfitriao ))\n",
        "\n",
        "# filtros de tipo quarto (CASA/APARTAMENTO INTEIRO) e bom anfitrião (FALSE)\n",
        "ft_tipo = df.tipo_quarto == 'CASA/APARTAMENTO INTEIRO'\n",
        "ft_bom = df.bom_anfitriao == False\n",
        "\n",
        "df.filtrado_sem_anfitriao  = df.loc[ft_tipo & ft_bom]\n",
        "\n",
        "print('Quantidade de Casas Apartamentos inteiros SEM bons anfitriões', len(df.filtrado_sem_anfitriao ))"
      ],
      "metadata": {
        "colab": {
          "base_uri": "https://localhost:8080/"
        },
        "id": "NzHYxkvuk6qU",
        "outputId": "b0971d8e-34c6-4d8e-df66-4a58709fdabc"
      },
      "execution_count": null,
      "outputs": [
        {
          "output_type": "stream",
          "name": "stdout",
          "text": [
            "Quantidade de Casas Apartamentos inteiros com bons anfitriões 114\n",
            "Quantidade de Casas Apartamentos inteiros SEM bons anfitriões 424\n"
          ]
        }
      ]
    },
    {
      "cell_type": "code",
      "source": [
        "# filtros de tipo quarto (QUARTO COMPARTILHADO) e bom anfitrião (TRUE)\n",
        "ft_tipo = df.tipo_quarto == 'QUARTO COMPARTILHADO'\n",
        "ft_bom = df.bom_anfitriao == True\n",
        "\n",
        "df.quarto_bom_anfi = df.loc[ft_tipo & ft_bom]\n",
        "\n",
        "print('Quantidade de QUARTOS COMPARTILHADOS com bons anfitriões', len(df.quarto_bom_anfi))\n",
        "\n",
        "# filtros de tipo quarto (QUARTO COMPARTILHADO) e sem anfitrião (FALSE)\n",
        "ft_tipo = df.tipo_quarto == 'QUARTO COMPARTILHADO'\n",
        "ft_bom = df.bom_anfitriao == False\n",
        "\n",
        "df.quarto_sem_anfi = df.loc[ft_tipo & ft_bom]\n",
        "\n",
        "print('Quantidade de QUARTOS COMPARTILHADOS SEM bons anfitriões', len(df.quarto_sem_anfi))"
      ],
      "metadata": {
        "colab": {
          "base_uri": "https://localhost:8080/"
        },
        "id": "gT_bIPKsq9rV",
        "outputId": "95af458e-5300-4ef8-c3a9-2a60817e2148"
      },
      "execution_count": null,
      "outputs": [
        {
          "output_type": "stream",
          "name": "stdout",
          "text": [
            "Quantidade de QUARTOS COMPARTILHADOS com bons anfitriões 2\n",
            "Quantidade de QUARTOS COMPARTILHADOS SEM bons anfitriões 4\n"
          ]
        }
      ]
    },
    {
      "cell_type": "code",
      "source": [
        "# filtros de tipo quarto (QUARTO PRIVADO) e bom anfitrião (True)\n",
        "ft_tipo = df.tipo_quarto == 'QUARTO PRIVADO'\n",
        "ft_bom = df.bom_anfitriao == True\n",
        "\n",
        "df.privado_bom_anfi = df.loc[ft_tipo & ft_bom]\n",
        "\n",
        "print('Quantidade de QUARTO PRIVADO  com bons anfitriões', len(df.privado_bom_anfi))\n",
        "\n",
        "# filtros de tipo quarto (QUARTO PRIVADO) e bom anfitrião (False)\n",
        "ft_tipo = df.tipo_quarto == 'QUARTO PRIVADO'\n",
        "ft_bom = df.bom_anfitriao == False\n",
        "\n",
        "df.privado_sem_anfi = df.loc[ft_tipo & ft_bom]\n",
        "\n",
        "print('Quantidade de QUARTO PRIVADO SEM bons anfitriões', len(df.privado_sem_anfi))\n"
      ],
      "metadata": {
        "colab": {
          "base_uri": "https://localhost:8080/"
        },
        "id": "qVcVNMwssIeN",
        "outputId": "8e974eb1-0ac5-497a-b65e-d2d7c04a99f4"
      },
      "execution_count": null,
      "outputs": [
        {
          "output_type": "stream",
          "name": "stdout",
          "text": [
            "Quantidade de QUARTO PRIVADO  com bons anfitriões 207\n",
            "Quantidade de QUARTO PRIVADO SEM bons anfitriões 352\n"
          ]
        }
      ]
    },
    {
      "cell_type": "markdown",
      "source": [
        "## Variáveis tipo quarto e capacidade de pessoas"
      ],
      "metadata": {
        "id": "Khl9-STyyhOw"
      }
    },
    {
      "cell_type": "markdown",
      "source": [
        "\n",
        "O objetivo da análise é investigar o perfil dos quartos alugados. Para isso, foram analisadas as variáveis \"tipo de quarto\" e \"capacidade de pessoas\".\n",
        "\n",
        "Utilizando o método *groupby*, verificou-se que a maioria dos quartos possui uma capacidade de 2 pessoas. Com base nessa informação, foram aplicados filtros para selecionar os quartos que correspondem ao tipo de quarto e à capacidade de 2 pessoas, uma vez que essa é a categoria mais comum entre os quartos analisados."
      ],
      "metadata": {
        "id": "OqNOU6YM24-l"
      }
    },
    {
      "cell_type": "code",
      "source": [
        "# QTD da variável capacidade de pessoas no quarto por group by\n",
        "df.groupby(['capacidade']).size().sort_values(ascending=False)\n"
      ],
      "metadata": {
        "id": "CcuhL3Tayljl",
        "colab": {
          "base_uri": "https://localhost:8080/"
        },
        "outputId": "ec2fdf81-1589-4d83-ffae-e754ca5fe8d0"
      },
      "execution_count": null,
      "outputs": [
        {
          "output_type": "execute_result",
          "data": {
            "text/plain": [
              "capacidade\n",
              "2    656\n",
              "4    333\n",
              "3     79\n",
              "6     24\n",
              "5     11\n",
              "dtype: int64"
            ]
          },
          "metadata": {},
          "execution_count": 49
        }
      ]
    },
    {
      "cell_type": "code",
      "source": [
        "# filtros de tipo quarto (QUARTO PRIVADO) e capacidade  de 2 pessoas\n",
        "ft_tipo = df.tipo_quarto == 'QUARTO PRIVADO'\n",
        "ft_cap = df.capacidade == 2\n",
        "\n",
        "df.privado_cap2 = df.loc[ft_tipo & ft_cap]\n",
        "\n",
        "print('Quantidade de QUARTO PRIVADO  com CAPACIDADE PARA 2: ', len(df.privado_cap2))\n",
        "\n",
        "# filtros de tipo quarto (QUARTO COMPARTILHADO) e capacidade  de 2 pessoas\n",
        "ft_tipo = df.tipo_quarto == 'QUARTO COMPARTILHADO'\n",
        "ft_cap = df.capacidade == 2\n",
        "\n",
        "df.compartilhado_cap2 = df.loc[ft_tipo & ft_cap]\n",
        "\n",
        "print('Quantidade de QUARTO COMPARTILHADO  com CAPACIDADE PARA 2: ', len(df.compartilhado_cap2))\n",
        "\n",
        "# filtros de tipo quarto (casa/apartamento inteiro) e capacidade  de 2 pessoas\n",
        "ft_tipo = df.tipo_quarto == 'CASA/APARTAMENTO INTEIRO'\n",
        "ft_cap = df.capacidade == 2\n",
        "\n",
        "df.casa_cap2 = df.loc[ft_tipo & ft_cap]\n",
        "\n",
        "print('Quantidade de CASA/APARTAMENTO INTEIRO com CAPACIDADE PARA 2: ', len(df.casa_cap2))\n"
      ],
      "metadata": {
        "colab": {
          "base_uri": "https://localhost:8080/"
        },
        "id": "1DdQ778wym3T",
        "outputId": "5e1fd04e-b17a-418c-ab58-1eb4456b7c29"
      },
      "execution_count": null,
      "outputs": [
        {
          "output_type": "stream",
          "name": "stdout",
          "text": [
            "Quantidade de QUARTO PRIVADO  com CAPACIDADE PARA 2:  430\n",
            "Quantidade de QUARTO COMPARTILHADO  com CAPACIDADE PARA 2:  3\n",
            "Quantidade de CASA/APARTAMENTO INTEIRO com CAPACIDADE PARA 2:  223\n"
          ]
        }
      ]
    },
    {
      "cell_type": "markdown",
      "source": [
        "## Variáveis \"tipo quarto\" e \"quartos\""
      ],
      "metadata": {
        "id": "sLNt8zuP0KiD"
      }
    },
    {
      "cell_type": "markdown",
      "source": [
        "\n",
        "O objetivo da análise é investigar o perfil dos quartos alugados. Para isso, foram analisadas as variáveis \"tipo de quarto\" e \"quartos\".\n",
        "\n",
        "Utilizando o método *groupby*, verificou-se que a maioria dos quartos possui 1 quarto. Com base nessa informação, foram aplicados filtros para selecionar os quartos que correspondem ao tipo de quarto e com 1 quarto, uma vez que essa é a categoria mais comum entre os quartos analisados."
      ],
      "metadata": {
        "id": "db2BgbQPEMb4"
      }
    },
    {
      "cell_type": "code",
      "source": [
        "# QTD da variável quartos por group by\n",
        "df.groupby(['quartos']).size().sort_values(ascending = False)"
      ],
      "metadata": {
        "colab": {
          "base_uri": "https://localhost:8080/"
        },
        "id": "W31RZJAA0Q61",
        "outputId": "67c6372b-93c7-46e1-b040-0e2c9e8ec82b"
      },
      "execution_count": null,
      "outputs": [
        {
          "output_type": "execute_result",
          "data": {
            "text/plain": [
              "quartos\n",
              "1    719\n",
              "2    218\n",
              "0     83\n",
              "3     74\n",
              "4      7\n",
              "5      2\n",
              "dtype: int64"
            ]
          },
          "metadata": {},
          "execution_count": 51
        }
      ]
    },
    {
      "cell_type": "code",
      "source": [
        "# filtros de tipo quarto (QUARTO PRIVADO) e c/ 1 quarto\n",
        "ft_tipo = df.tipo_quarto == 'QUARTO PRIVADO'\n",
        "ft_quarto = df.quartos == 1\n",
        "\n",
        "df.privado_quarto = df.loc[ft_tipo & ft_quarto]\n",
        "\n",
        "print('Quantidade de QUARTO PRIVADO  com 1 quarto: ', len(df.privado_quarto))\n",
        "\n",
        "# filtros de tipo quarto (QUARTO COMPARTILHADO) e c/ 1 quarto###\n",
        "ft_tipo = df.tipo_quarto == 'QUARTO COMPARTILHADO'\n",
        "ft_quarto = df.quartos == 1\n",
        "\n",
        "df.compartilhado_quarto = df.loc[ft_tipo & ft_quarto]\n",
        "\n",
        "print('Quantidade de QUARTO COMPARTILHADO com 1 quarto: ', len(df.compartilhado_quarto))\n",
        "\n",
        "# filtros de tipo quarto (casa/apartamento inteiro) e c/ 1 quarto\n",
        "\n",
        "ft_tipo = df.tipo_quarto == 'CASA/APARTAMENTO INTEIRO'\n",
        "ft_quarto = df.quartos == 1\n",
        "\n",
        "df.casa_quarto = df.loc[ft_tipo & ft_quarto]\n",
        "\n",
        "print('Quantidade de CASA/APARTAMENTO INTEIRO com 1 quarto:  ', len(df.casa_quarto))"
      ],
      "metadata": {
        "colab": {
          "base_uri": "https://localhost:8080/"
        },
        "id": "vDv2J8Nl1ggA",
        "outputId": "a5498e24-9456-4519-f370-051f3f66f2f1"
      },
      "execution_count": null,
      "outputs": [
        {
          "output_type": "stream",
          "name": "stdout",
          "text": [
            "Quantidade de QUARTO PRIVADO  com 1 quarto:  458\n",
            "Quantidade de QUARTO COMPARTILHADO com 1 quarto:  6\n",
            "Quantidade de CASA/APARTAMENTO INTEIRO com 1 quarto:   255\n"
          ]
        }
      ]
    },
    {
      "cell_type": "markdown",
      "source": [
        "## Varíaveis nível de satisfação e tipo de quarto"
      ],
      "metadata": {
        "id": "TZOUbjvG3uXP"
      }
    },
    {
      "cell_type": "markdown",
      "source": [
        "O objetivo é analisar o nível de satisfação por tipo de quarto. Para isso, foi calculado a média, mediana, moda e desvio padrão do nível de satisfação para cada tipo de quarto. Isso pode fornecer uma visão mais completa da distribuição dos dados e ajudar a entender como o nível de satisfação varia por tipo de quarto."
      ],
      "metadata": {
        "id": "CZf3qB6aGd3S"
      }
    },
    {
      "cell_type": "code",
      "source": [
        "# Agrupando o DataFrame pela coluna 'tipo_quarto'\n",
        "grouped = df.groupby('tipo_quarto')\n",
        "\n",
        "# Calculando a média do nível de satisfação por tipo de quarto\n",
        "mean = grouped['nivel_satisfacao'].mean().round(2)\n",
        "\n",
        "# Calculando a mediana do nível de satisfação por tipo de quarto\n",
        "median = grouped['nivel_satisfacao'].median().round(2)\n",
        "\n",
        "# Calculando a moda do nível de satisfação por tipo de quarto\n",
        "mode = grouped['nivel_satisfacao'].agg(lambda x: x.mode().iat[0]).round(2)\n",
        "\n",
        "# Calculando o desvio padrão do nível de satisfação por tipo de quarto\n",
        "std = grouped['nivel_satisfacao'].std().round(2)\n",
        "\n",
        "# Imprimindo os resultados\n",
        "print('Média do nível de satisfação por tipo de quarto:')\n",
        "print(mean)\n",
        "print('\\nMediana do nível de satisfação por tipo de quarto:')\n",
        "print(median)\n",
        "print('\\nModa do nível de satisfação por tipo de quarto:')\n",
        "print(mode)\n",
        "print('\\nDesvio padrão do nível de satisfação por tipo de quarto:')\n",
        "print(std)"
      ],
      "metadata": {
        "id": "BRxeCds1YeRi",
        "colab": {
          "base_uri": "https://localhost:8080/"
        },
        "outputId": "f18c695a-acae-4d00-c686-c464174db67f"
      },
      "execution_count": null,
      "outputs": [
        {
          "output_type": "stream",
          "name": "stdout",
          "text": [
            "Média do nível de satisfação por tipo de quarto:\n",
            "tipo_quarto\n",
            "CASA/APARTAMENTO INTEIRO    95.21\n",
            "QUARTO COMPARTILHADO        92.83\n",
            "QUARTO PRIVADO              93.56\n",
            "Name: nivel_satisfacao, dtype: float64\n",
            "\n",
            "Mediana do nível de satisfação por tipo de quarto:\n",
            "tipo_quarto\n",
            "CASA/APARTAMENTO INTEIRO    96.0\n",
            "QUARTO COMPARTILHADO        94.5\n",
            "QUARTO PRIVADO              95.0\n",
            "Name: nivel_satisfacao, dtype: float64\n",
            "\n",
            "Moda do nível de satisfação por tipo de quarto:\n",
            "tipo_quarto\n",
            "CASA/APARTAMENTO INTEIRO    100.0\n",
            "QUARTO COMPARTILHADO         84.0\n",
            "QUARTO PRIVADO              100.0\n",
            "Name: nivel_satisfacao, dtype: float64\n",
            "\n",
            "Desvio padrão do nível de satisfação por tipo de quarto:\n",
            "tipo_quarto\n",
            "CASA/APARTAMENTO INTEIRO    5.20\n",
            "QUARTO COMPARTILHADO        5.08\n",
            "QUARTO PRIVADO              6.76\n",
            "Name: nivel_satisfacao, dtype: float64\n"
          ]
        }
      ]
    },
    {
      "cell_type": "markdown",
      "source": [
        "Visto que a variável “nível de satisfação” é uma variável quantitativa contínua, eu apliquei um filtro para selecionar valores dentro de um intervalo específico. Para determinar o intervalo, calculei a média e o desvio padrão da variável e usei esses valores para definir os limites inferior e superior do intervalo como (média - desvio padrão) e (média + desvio padrão), respectivamente. Dessa forma, selecionei apenas os valores de “nível de satisfação” que estão dentro de um desvio padrão da média."
      ],
      "metadata": {
        "id": "f2B-o-k-YwLl"
      }
    },
    {
      "cell_type": "code",
      "source": [
        "# filtros de tipo quarto (QUARTO PRIVADO ) e c/ o intervalo do nível de satisfação do quarto privado\n",
        "ft_tipo = df.tipo_quarto == 'QUARTO PRIVADO'\n",
        "ft_nivel = (df['nivel_satisfacao'] >= 86.8) & (df['nivel_satisfacao'] <= 100.32)\n",
        "\n",
        "df.privado_nivel = df.loc[ft_tipo & ft_nivel]\n",
        "\n",
        "print('Quantidade de QUARTO PRIVADO com nível de satisfação próximo a 93.56: ', len(df.privado_nivel))\n",
        "\n",
        "# filtros de tipo quarto (QUARTO compartilhado ) e c/ o intervalo do nível de satisfação do quarto compartilhado\n",
        "ft_tipo = df.tipo_quarto == 'QUARTO COMPARTILHADO'\n",
        "ft_nivel_compar =(df['nivel_satisfacao'] >= 87.75) & (df['nivel_satisfacao'] <= 97.91)\n",
        "\n",
        "df.compartilhado_nivel = df.loc[ft_tipo & ft_nivel_compar]\n",
        "\n",
        "print('Quantidade de QUARTO COMPARTILHADO com nível de satisfação próximo a 92.83: ', len(df.compartilhado_nivel))\n",
        "\n",
        "# filtros de tipo quarto (casa/apartamentoO ) e c/ o intervalo do nível de satisfação da casa/apartamento\n",
        "\n",
        "ft_tipo = df.tipo_quarto == 'CASA/APARTAMENTO INTEIRO'\n",
        "ft_nivel_casa = (df['nivel_satisfacao'] >= 90.01) & (df['nivel_satisfacao'] <= 100.41)\n",
        "\n",
        "df.casa_nivel= df.loc[ft_tipo & ft_nivel_casa]\n",
        "\n",
        "print('Quantidade de CASA/APARTAMENTO INTEIRO com nível de satisfação próximo a 95.21:  ', len(df.casa_nivel))\n"
      ],
      "metadata": {
        "id": "cm1OrPzdAxOc",
        "colab": {
          "base_uri": "https://localhost:8080/"
        },
        "outputId": "2827959f-8cb8-43fa-c768-05b73b30d95d"
      },
      "execution_count": null,
      "outputs": [
        {
          "output_type": "stream",
          "name": "stdout",
          "text": [
            "Quantidade de QUARTO PRIVADO com nível de satisfação próximo a 93.56:  500\n",
            "Quantidade de QUARTO COMPARTILHADO com nível de satisfação próximo a 92.83:  4\n",
            "Quantidade de CASA/APARTAMENTO INTEIRO com nível de satisfação próximo a 95.21:   457\n"
          ]
        }
      ]
    },
    {
      "cell_type": "code",
      "source": [
        "# Calculo de porcentagem do filtro acima com o total de nível de satisfação\n",
        "\n",
        "# calculando o total de níveis de satisfação\n",
        "total = df.groupby('tipo_quarto').size()\n",
        "\n",
        "# atribuindo as variáveis para guardar as quantidades de cada filtro\n",
        "valor_compartilhado = len(df.compartilhado_nivel)\n",
        "valor_casa =  len(df.casa_nivel)\n",
        "valor_privado = len(df.privado_nivel)\n",
        "\n",
        "# calculo do percentual sendo o if usado para verificar tratar o erro de divisão por 0\n",
        "if 'QUARTO COMPARTILHADO' in total:\n",
        "    per_compartilhado = (valor_compartilhado / total['QUARTO COMPARTILHADO']) * 100\n",
        "    print('Percentual do quarto compartilhado com nível de satisfação próximo a 92.83:', round(per_compartilhado, 1), '%')\n",
        "\n",
        "if 'CASA/APARTAMENTO INTEIRO' in total:\n",
        "    per_casa = (valor_casa / total['CASA/APARTAMENTO INTEIRO']) * 100\n",
        "    print('Percentual da casa/apartamento inteiro com nível de satisfação próximo a 95.21:', round(per_casa, 1), '%')\n",
        "\n",
        "if 'QUARTO PRIVADO' in total:\n",
        "    per_privado = (valor_privado / total['QUARTO PRIVADO']) * 100\n",
        "    print('Percentual da QUARTO PRIVADO com nível de satisfação próximo a 93.56:', round(per_privado, 1), '%')"
      ],
      "metadata": {
        "colab": {
          "base_uri": "https://localhost:8080/"
        },
        "id": "mT8c2VqCdEnS",
        "outputId": "201fd964-8375-4bf5-f5c7-286f7228dc10"
      },
      "execution_count": null,
      "outputs": [
        {
          "output_type": "stream",
          "name": "stdout",
          "text": [
            "Percentual do quarto compartilhado com nível de satisfação próximo a 92.83: 66.7 %\n",
            "Percentual da casa/apartamento inteiro com nível de satisfação próximo a 95.21: 84.9 %\n",
            "Percentual da QUARTO PRIVADO com nível de satisfação próximo a 93.56: 89.4 %\n"
          ]
        }
      ]
    },
    {
      "cell_type": "markdown",
      "source": [
        "## Varíaveis nível de limpeza e tipo de quarto\n"
      ],
      "metadata": {
        "id": "SYssiA0s38rX"
      }
    },
    {
      "cell_type": "markdown",
      "source": [
        "O objetivo é analisar o nível de limpeza por tipo de quarto. Para isso, foi calculado a média, mediana, moda e desvio padrão do nível de limpeza para cada tipo de quarto. Isso pode fornecer uma visão mais completa da distribuição dos dados e ajudar a entender como o nível de limpeza varia por tipo de quarto.\n",
        "\n",
        "Obs: O modelo de cálculo foi o mesmo seguido pelas variáveis nível de satisfação e tipo quarto."
      ],
      "metadata": {
        "id": "Xz-CP8rRJDBf"
      }
    },
    {
      "cell_type": "code",
      "source": [
        "# Agrupando o DataFrame pela coluna 'tipo_quarto'\n",
        "grouped = df.groupby('tipo_quarto')\n",
        "\n",
        "# Calculando a média do nível de limpeza por tipo de quarto\n",
        "mean = grouped['nivel_limpeza'].mean().round(2)\n",
        "\n",
        "# Calculando a mediana do nível de limpeza por tipo de quarto\n",
        "median = grouped['nivel_limpeza'].median().round(2)\n",
        "\n",
        "# Calculando a moda do do nível de limpeza por tipo de quarto\n",
        "mode = grouped['nivel_limpeza'].agg(lambda x: x.mode().iat[0]).round(2)\n",
        "\n",
        "# Calculando o desvio padrão do do nível de limpeza por tipo de quarto\n",
        "std = grouped['nivel_limpeza'].std().round(2)\n",
        "\n",
        "# Imprimindo os resultados\n",
        "print('Média do nivel de limpeza por tipo de quarto:')\n",
        "print(mean)\n",
        "print('\\nMediana do nivel de limpeza por tipo de quarto:')\n",
        "print(median)\n",
        "print('\\nModa do nivel de limpeza por tipo de quarto:')\n",
        "print(mode)\n",
        "print('\\nDesvio padrão do nivel de limpeza por tipo de quarto:')\n",
        "print(std)"
      ],
      "metadata": {
        "id": "SAA6u_KS__v5",
        "colab": {
          "base_uri": "https://localhost:8080/"
        },
        "outputId": "b386fb8b-153c-46ac-8135-dad009ba3950"
      },
      "execution_count": null,
      "outputs": [
        {
          "output_type": "stream",
          "name": "stdout",
          "text": [
            "Média do nivel de limpeza por tipo de quarto:\n",
            "tipo_quarto\n",
            "CASA/APARTAMENTO INTEIRO    9.44\n",
            "QUARTO COMPARTILHADO        9.17\n",
            "QUARTO PRIVADO              9.49\n",
            "Name: nivel_limpeza, dtype: float64\n",
            "\n",
            "Mediana do nivel de limpeza por tipo de quarto:\n",
            "tipo_quarto\n",
            "CASA/APARTAMENTO INTEIRO    10.0\n",
            "QUARTO COMPARTILHADO         9.5\n",
            "QUARTO PRIVADO              10.0\n",
            "Name: nivel_limpeza, dtype: float64\n",
            "\n",
            "Moda do nivel de limpeza por tipo de quarto:\n",
            "tipo_quarto\n",
            "CASA/APARTAMENTO INTEIRO    10.0\n",
            "QUARTO COMPARTILHADO        10.0\n",
            "QUARTO PRIVADO              10.0\n",
            "Name: nivel_limpeza, dtype: float64\n",
            "\n",
            "Desvio padrão do nivel de limpeza por tipo de quarto:\n",
            "tipo_quarto\n",
            "CASA/APARTAMENTO INTEIRO    0.78\n",
            "QUARTO COMPARTILHADO        0.98\n",
            "QUARTO PRIVADO              0.81\n",
            "Name: nivel_limpeza, dtype: float64\n"
          ]
        }
      ]
    },
    {
      "cell_type": "code",
      "source": [
        "# filtros de tipo quarto (QUARTO PRIVADO ) e c/ o intervalo do nível de limpeza do quarto privado\n",
        "ft_tipo = df.tipo_quarto == 'QUARTO PRIVADO'\n",
        "ft_limp_priv = (df['nivel_limpeza'] >= 8.68) & (df['nivel_limpeza'] <= 10.3)\n",
        "\n",
        "df.privado_limp = df.loc[ft_tipo & ft_limp_priv]\n",
        "\n",
        "print('Quantidade de QUARTO PRIVADO com nivel de limpeza próximo a 9,49: ', len(df.privado_limp))\n",
        "\n",
        "# filtros de tipo quarto (QUARTO COMPARTILHADO ) e c/ o intervalo do nível de limpeza do quarto compartilhado\n",
        "ft_tipo = df.tipo_quarto == 'QUARTO COMPARTILHADO'\n",
        "ft_limp_comp =(df['nivel_limpeza'] >= 8.19) & (df['nivel_limpeza'] <= 10.15)\n",
        "\n",
        "df.compartilhado_limp = df.loc[ft_tipo & ft_limp_comp]\n",
        "\n",
        "print('Quantidade de QUARTO COMPARTILHADO com nivel de limpeza próximo a 9,17: ', len(df.compartilhado_limp))\n",
        "\n",
        "# filtros de tipo quarto (casa/aparto) e c/ o intervalo do nível de limpeza da casa/apto\n",
        "\n",
        "ft_tipo = df.tipo_quarto == 'CASA/APARTAMENTO INTEIRO'\n",
        "ft_limp_casa = (df['nivel_limpeza'] >= 9.22) & (df['nivel_limpeza'] <= 10.78)\n",
        "\n",
        "df.casa_limp= df.loc[ft_tipo & ft_limp_casa]\n",
        "\n",
        "print('Quantidade de CASA/APARTAMENTO INTEIRO com nivel de limpeza próximo a 9,44:  ', len(df.casa_limp))\n"
      ],
      "metadata": {
        "id": "9QhNQW5a4A-m",
        "colab": {
          "base_uri": "https://localhost:8080/"
        },
        "outputId": "85af8b11-d44a-4bc4-d9d4-60251f82f151"
      },
      "execution_count": null,
      "outputs": [
        {
          "output_type": "stream",
          "name": "stdout",
          "text": [
            "Quantidade de QUARTO PRIVADO com nivel de limpeza próximo a 9,49:  508\n",
            "Quantidade de QUARTO COMPARTILHADO com nivel de limpeza próximo a 9,17:  4\n",
            "Quantidade de CASA/APARTAMENTO INTEIRO com nivel de limpeza próximo a 9,44:   311\n"
          ]
        }
      ]
    },
    {
      "cell_type": "code",
      "source": [
        "# Calculo de porcentagem do filtro acima com o total de nível de limpeza\n",
        "\n",
        "# calculando o total de níveis de satisfação\n",
        "total = df.groupby('tipo_quarto').size()\n",
        "\n",
        "# atribuindo as variáveis para guardar as quantidades de cada filtro\n",
        "valor_compartilhado_limp = len(df.compartilhado_limp)\n",
        "valor_casa_limp =  len(df.casa_limp)\n",
        "valor_privado_limp = len(df.privado_limp)\n",
        "\n",
        "# calculo do percentual sendo o if usado para verificar tratar o erro de divisão por 0\n",
        "if 'QUARTO COMPARTILHADO' in total:\n",
        "    per_compartilhado = (valor_compartilhado_limp / total['QUARTO COMPARTILHADO']) * 100\n",
        "    print('Percentual do quarto compartilhado com nível de limpeza próximo a 9.17:', round(per_compartilhado, 1), '%')\n",
        "\n",
        "if 'CASA/APARTAMENTO INTEIRO' in total:\n",
        "    per_casa = (valor_casa_limp / total['CASA/APARTAMENTO INTEIRO']) * 100\n",
        "    print('Percentual da casa/apartamento inteiro com nível de limpeza próximo a 9.44:', round(per_casa, 1), '%')\n",
        "\n",
        "if 'QUARTO PRIVADO' in total:\n",
        "    per_privado = (valor_privado_limp / total['QUARTO PRIVADO']) * 100\n",
        "    print('Percentual da QUARTO PRIVADO com nível de limpeza próximo a 9.49:', round(per_privado, 1), '%')"
      ],
      "metadata": {
        "id": "gZzOcMAk4k32",
        "colab": {
          "base_uri": "https://localhost:8080/"
        },
        "outputId": "2568e454-e7f7-4cf9-8416-e0b3132612ad"
      },
      "execution_count": null,
      "outputs": [
        {
          "output_type": "stream",
          "name": "stdout",
          "text": [
            "Percentual do quarto compartilhado com nível de limpeza próximo a 9.17: 66.7 %\n",
            "Percentual da casa/apartamento inteiro com nível de limpeza próximo a 9.44: 57.8 %\n",
            "Percentual da QUARTO PRIVADO com nível de limpeza próximo a 9.49: 90.9 %\n"
          ]
        }
      ]
    },
    {
      "cell_type": "markdown",
      "source": [
        "Cálculo da correlação entre o nível de limpeza e nível de satisfação do cliente com os quartos ou casa/apto alugados.\n",
        "\n",
        "Observa-se que existe uma correlação positiva moderada, indicando que à medida que o nível de limpeza aumenta, o nível de satisfação do cliente também tende a aumentar."
      ],
      "metadata": {
        "id": "z2y1EZXTjoZx"
      }
    },
    {
      "cell_type": "code",
      "source": [
        "# Calculando a correlação entre a limpeza e o nível de satisfação\n",
        "correlation = df['nivel_limpeza'].corr(df['nivel_satisfacao'])\n",
        "\n",
        "# Imprimindo o resultado\n",
        "print('Correlação entre limpeza e nível de satisfação:', correlation)"
      ],
      "metadata": {
        "colab": {
          "base_uri": "https://localhost:8080/"
        },
        "id": "a13LL3Ii5PWc",
        "outputId": "c7507c2e-5ce4-4764-c7fe-23f11eceee0f"
      },
      "execution_count": null,
      "outputs": [
        {
          "output_type": "stream",
          "name": "stdout",
          "text": [
            "Correlação entre limpeza e nível de satisfação: 0.6488091506956638\n"
          ]
        }
      ]
    },
    {
      "cell_type": "markdown",
      "source": [
        "## Varíavel distancia"
      ],
      "metadata": {
        "id": "lbtfg8FG4D0x"
      }
    },
    {
      "cell_type": "markdown",
      "source": [
        "Na variável \"distancia\", que representa a distância do imóvel alugado ao centro da cidade, foram calculadas as correlações com o valor do aluguel, nível de satisfação e capacidade de pessoas, a fim de verificar se a distância tem influência nos aluguéis."
      ],
      "metadata": {
        "id": "jkaXxFvEYNfu"
      }
    },
    {
      "cell_type": "markdown",
      "source": [
        "**Correlação entre distância e valor total**\n",
        "\n",
        "Podemos observar que há uma correlação negativa muito fraca entre as variáveis \"distancia\" e \"valor do aluguel\". Isso indica que há pouca ou nenhuma relação linear entre elas, ou seja, a distância não parece estar influenciando significativamente o valor do aluguel."
      ],
      "metadata": {
        "id": "uShvEpjJsQes"
      }
    },
    {
      "cell_type": "code",
      "source": [
        "# Calculando a correlação entre a distância e valor_total\n",
        "correlation = df['distancia'].corr(df['valor_total'])\n",
        "\n",
        "# Imprimindo o resultado\n",
        "print('Correlação entre distância e nível de satisfação:', correlation)"
      ],
      "metadata": {
        "colab": {
          "base_uri": "https://localhost:8080/"
        },
        "id": "I9e55K4Erj8t",
        "outputId": "be5339db-9e1b-4422-b8f3-347d173f834d"
      },
      "execution_count": null,
      "outputs": [
        {
          "output_type": "stream",
          "name": "stdout",
          "text": [
            "Correlação entre distância e nível de satisfação: -0.2586665159945731\n"
          ]
        }
      ]
    },
    {
      "cell_type": "markdown",
      "source": [
        "**Correlação entre distância e nível de satisfação**\n",
        "\n",
        "Podemos observar uma ausência de correlação entre as variáveis. Porém, vale ressaltar que a ausência de correlação não significa necessariamente que não existe relação entre as variáveis, uma vez que pode haver uma relação não linear ou outros tipos de relações complexas que não são capturadas pela correlação linear.\n"
      ],
      "metadata": {
        "id": "vgFt1L7yaVnU"
      }
    },
    {
      "cell_type": "code",
      "source": [
        "# Calculando a correlação entre a distância e o nível de satisfação\n",
        "correlation = df['distancia'].corr(df['nivel_satisfacao'])\n",
        "\n",
        "# Imprimindo o resultado\n",
        "print('Correlação entre distância e nível de satisfação:', correlation)"
      ],
      "metadata": {
        "colab": {
          "base_uri": "https://localhost:8080/"
        },
        "id": "Rv_10B2M4H55",
        "outputId": "a2c59311-0ca7-451c-90d8-feb85c8c9fd5"
      },
      "execution_count": null,
      "outputs": [
        {
          "output_type": "stream",
          "name": "stdout",
          "text": [
            "Correlação entre distância e nível de satisfação: -0.059847943815665036\n"
          ]
        }
      ]
    },
    {
      "cell_type": "markdown",
      "source": [
        "**Correlação entre distância e capacidade**\n",
        "\n",
        "Novamente, podemos observar ausência de correlação entre as variáveis."
      ],
      "metadata": {
        "id": "1rOqXvOqZZ9u"
      }
    },
    {
      "cell_type": "code",
      "source": [
        "# Calculando a correlação entre a distância ecapacidade\n",
        "correlation = df['distancia'].corr(df['capacidade'])\n",
        "\n",
        "# Imprimindo o resultado\n",
        "print('Correlação entre distância e nível de satisfação:', correlation)"
      ],
      "metadata": {
        "colab": {
          "base_uri": "https://localhost:8080/"
        },
        "id": "EfRxvh2yrmw3",
        "outputId": "730ba90f-af24-49c2-d7e5-fe07dad066d7"
      },
      "execution_count": null,
      "outputs": [
        {
          "output_type": "stream",
          "name": "stdout",
          "text": [
            "Correlação entre distância e nível de satisfação: -0.046395254144697494\n"
          ]
        }
      ]
    },
    {
      "cell_type": "markdown",
      "source": [
        "O segundo cálculo realizado com a variável “distância” foi o uso do método groupby para agrupar o DataFrame pelas colunas \"tipo_quarto\" e \"bom_anfitriao\", e o cálculo de estatísticas descritivas para a coluna \"distancia\" em cada grupo. Isso pode ajudar a entender como a distância ao centro varia por tipo de quarto e qualidade do anfitrião."
      ],
      "metadata": {
        "id": "wInGO0C66ZT_"
      }
    },
    {
      "cell_type": "code",
      "source": [
        "# Agrupando o DataFrame pelas colunas 'tipo_quarto' e 'bom_anfitriao'\n",
        "grouped = df.groupby(['tipo_quarto', 'bom_anfitriao'])\n",
        "\n",
        "# Calculando estatísticas descritivas para a coluna 'distancia' em cada grupo\n",
        "result = grouped['distancia'].agg(['count', 'mean', 'median', 'std']).round(2)\n",
        "\n",
        "# Imprimindo o resultado\n",
        "print(result)"
      ],
      "metadata": {
        "colab": {
          "base_uri": "https://localhost:8080/"
        },
        "id": "UKe91cHl6KJi",
        "outputId": "c70aa950-bade-4afc-9f30-ce90cc8724fa"
      },
      "execution_count": null,
      "outputs": [
        {
          "output_type": "stream",
          "name": "stdout",
          "text": [
            "                                        count  mean  median   std\n",
            "tipo_quarto              bom_anfitriao                           \n",
            "CASA/APARTAMENTO INTEIRO False            424  2.66    2.46  1.64\n",
            "                         True             114  2.42    1.90  1.85\n",
            "QUARTO COMPARTILHADO     False              4  3.82    2.80  3.96\n",
            "                         True               2  4.28    4.28  4.09\n",
            "QUARTO PRIVADO           False            352  3.00    2.28  2.56\n",
            "                         True             207  3.15    2.85  2.21\n"
          ]
        }
      ]
    },
    {
      "cell_type": "markdown",
      "source": [
        "## Varíavel índice de atração\n"
      ],
      "metadata": {
        "id": "SXV2SgKc4JNC"
      }
    },
    {
      "cell_type": "markdown",
      "source": [
        "Na variável \"indice_atracao\", que representa o índice de atração turística de 0 a 100 do imóvel alugado, foram calculadas as correlações com a distância, o valor total e o nível de satisfação, a fim de verificar se o índice de atração tem influência nos aluguéis."
      ],
      "metadata": {
        "id": "IQrbaXt3bK_a"
      }
    },
    {
      "cell_type": "markdown",
      "source": [
        "**Correlação entre distância e índice de atração**\n",
        "\n",
        "Podemos observar uma correlação negativa forte entre as variáveis \"distancia\" e \"indice_atracao\". Isso indica que, provavelmente, as atrações turísticas estão mais próximas do centro da cidade."
      ],
      "metadata": {
        "id": "sYx2TnI8b8W8"
      }
    },
    {
      "cell_type": "code",
      "source": [
        "# Calculando a correlação entre a indice de atração e a distancia\n",
        "correlation = df['indice_atracao'].corr(df['distancia'])\n",
        "\n",
        "# Imprimindo o resultado\n",
        "print('Correlação entre distância e nível de satisfação:', correlation)"
      ],
      "metadata": {
        "colab": {
          "base_uri": "https://localhost:8080/"
        },
        "id": "-Esok97Zsr67",
        "outputId": "f7d211aa-3112-4e6f-9ea1-5fe46a6f5a57"
      },
      "execution_count": null,
      "outputs": [
        {
          "output_type": "stream",
          "name": "stdout",
          "text": [
            "Correlação entre distância e nível de satisfação: -0.7053107912292047\n"
          ]
        }
      ]
    },
    {
      "cell_type": "markdown",
      "source": [
        "**Correlação entre o índice de atração e o valor total**\n",
        "\n",
        "Ao analisar a correlação entre as variáveis \"indice_atracao\" e \"valor_total\", podemos observar uma correlação positiva fraca. Isso indica que há pouca ou nenhuma relação linear entre essas variáveis, sugerindo que as atrações turísticas não têm influência significativa no valor do aluguel."
      ],
      "metadata": {
        "id": "1UYZLDTOcvQH"
      }
    },
    {
      "cell_type": "code",
      "source": [
        "# Calculando a correlação entre o indice de atração e valor total\n",
        "correlation = df['indice_atracao'].corr(df['valor_total'])\n",
        "\n",
        "# Imprimindo o resultado\n",
        "print('Correlação entre distância e nível de satisfação:', correlation)"
      ],
      "metadata": {
        "colab": {
          "base_uri": "https://localhost:8080/"
        },
        "id": "NdQB_sF1skgg",
        "outputId": "88e3143d-a5bc-44ca-c828-c54b7e7659fc"
      },
      "execution_count": null,
      "outputs": [
        {
          "output_type": "stream",
          "name": "stdout",
          "text": [
            "Correlação entre distância e nível de satisfação: 0.24418885445662566\n"
          ]
        }
      ]
    },
    {
      "cell_type": "markdown",
      "source": [
        "**Correlação entre o índice de atração e o nível de satisfação**\n",
        "\n",
        " Ao analisar a correlação entre as variáveis \"indice_atracao\" e \"nivel_satisfacao\", podemos observar que não há correlação entre elas. Isso indica que as atrações turísticas não têm influência no nível de satisfação dos clientes."
      ],
      "metadata": {
        "id": "Hn76TVupcv5f"
      }
    },
    {
      "cell_type": "code",
      "source": [
        "# Calculando a correlação entre o indice de atração e nivel de satisfacao\n",
        "correlation = df['indice_atracao'].corr(df['nivel_satisfacao'])\n",
        "\n",
        "# Imprimindo o resultado\n",
        "print('Correlação entre distância e nível de satisfação:', correlation)"
      ],
      "metadata": {
        "colab": {
          "base_uri": "https://localhost:8080/"
        },
        "id": "vYYXtPOO4NdF",
        "outputId": "4727a02b-9a82-4917-b1fa-64f5c0e3c6e6"
      },
      "execution_count": null,
      "outputs": [
        {
          "output_type": "stream",
          "name": "stdout",
          "text": [
            "Correlação entre distância e nível de satisfação: 0.006311513514381782\n"
          ]
        }
      ]
    },
    {
      "cell_type": "markdown",
      "source": [
        "## Varíavel índice de restaurante\n"
      ],
      "metadata": {
        "id": "_TPqG8r34OEd"
      }
    },
    {
      "cell_type": "markdown",
      "source": [
        "Na variável \"indice_restaurante\", que representa o índice dos restaurantes de 0 a 100, foram calculadas as correlações com a distância, índice de atração e o nível de satisfação, a fim de verificar se o índice de restaurante tem influência nos aluguéis."
      ],
      "metadata": {
        "id": "7OwU-73hnjoL"
      }
    },
    {
      "cell_type": "markdown",
      "source": [
        "**Correlação entre índice de atração e índice do restaurante**\n",
        "\n",
        "Podemos observar que há uma correlação forte positiva entre as variáveis \"indice_atracao\" e \"indice_restaurante\". Isso indica que, à medida que uma variável aumenta, a outra também tende a aumentar proporcionalmente. Com base nessa observação, podemos formular a hipótese de que as atrações turísticas influenciam o índice dos restaurantes. Além disso, a concentração das atrações no centro pode estar contribuindo para essa correlação."
      ],
      "metadata": {
        "id": "52hxXM6NnkBj"
      }
    },
    {
      "cell_type": "code",
      "source": [
        "# Calculando a correlação entre indice de atracao e o indice de restaurante\n",
        "correlation = df['indice_atracao'].corr(df['indice_restaurante'])\n",
        "\n",
        "# Imprimindo o resultado\n",
        "print('Correlação entre indice de atracao e o indice de restaurante:', correlation)"
      ],
      "metadata": {
        "colab": {
          "base_uri": "https://localhost:8080/"
        },
        "id": "ghZQ1Olrs0ww",
        "outputId": "320644bc-6d5e-4140-afc9-a1f8068973bd"
      },
      "execution_count": null,
      "outputs": [
        {
          "output_type": "stream",
          "name": "stdout",
          "text": [
            "Correlação entre indice de atracao e o indice de restaurante: 0.8612577515837054\n"
          ]
        }
      ]
    },
    {
      "cell_type": "markdown",
      "source": [
        "**Correlação entre índice do restaurante e distância**\n",
        "\n",
        "Podemos observar uma correlação forte negativa entre o índice do restaurante e a distância. Isso sugere que quanto menor a distância do imóvel ao centro, maior é o índice de satisfação com os restaurantes. Provavelmente os restaurantes localizados no centro são bem avaliados pelos clientes, no entanto, essa correlação não indica uma influência direta dos restaurantes na satisfação global dos clientes, conforme a correlação abaixo.\n"
      ],
      "metadata": {
        "id": "iHcHE-ocnklE"
      }
    },
    {
      "cell_type": "code",
      "source": [
        "# Calculando a correlação entre a indice_restaurante e 'distancia\n",
        "correlation = df['indice_restaurante'].corr(df['distancia'])\n",
        "\n",
        "# Imprimindo o resultado\n",
        "print('Correlação entre a indice do restaurante e distancia', correlation)"
      ],
      "metadata": {
        "colab": {
          "base_uri": "https://localhost:8080/"
        },
        "id": "CrYiH4Vbm0eb",
        "outputId": "6d588522-b2a6-409b-da98-74fa85afb92a"
      },
      "execution_count": null,
      "outputs": [
        {
          "output_type": "stream",
          "name": "stdout",
          "text": [
            "Correlação entre a indice do restaurante e distancia -0.751611731950579\n"
          ]
        }
      ]
    },
    {
      "cell_type": "markdown",
      "source": [
        "**Correlação entre índice do restaurante e nível de satisfação**\n",
        "\n",
        "Não foi identificada uma correlação significativa entre as variáveis, sugerindo que os restaurantes podem não ter um impacto direto na satisfação geral dos clientes."
      ],
      "metadata": {
        "id": "G6UfOPzhnlFr"
      }
    },
    {
      "cell_type": "code",
      "source": [
        "# Calculando a correlação entre a indice do restaurante e o nível de satisfação\n",
        "correlation = df['indice_restaurante'].corr(df['nivel_satisfacao'])\n",
        "\n",
        "# Imprimindo o resultado\n",
        "print('Correlação entre índice do restaurante e nível de satisfação:', correlation)"
      ],
      "metadata": {
        "colab": {
          "base_uri": "https://localhost:8080/"
        },
        "id": "8KJ6STXls6HL",
        "outputId": "54d06144-38d9-44cf-d1f3-431947bd92f8"
      },
      "execution_count": null,
      "outputs": [
        {
          "output_type": "stream",
          "name": "stdout",
          "text": [
            "Correlação entre índice do restaurante e nível de satisfação: -0.004932197305127885\n"
          ]
        }
      ]
    },
    {
      "cell_type": "markdown",
      "source": [
        "## Varíavel \"dist_metro\""
      ],
      "metadata": {
        "id": "y_LXpVLU66yf"
      }
    },
    {
      "cell_type": "markdown",
      "source": [
        "Na variável \"dist_metro\", que representa distância da estação de metrô mais próxima em km, foi calculada a correlação entre distância e \"dist_metro\", a fim de verificar se as estações de mêtro estão próximas do centro."
      ],
      "metadata": {
        "id": "KAdf2hpNeKwu"
      }
    },
    {
      "cell_type": "markdown",
      "source": [
        "**Correlação entre distância e distância mêtro**\n",
        "\n",
        "Podemos observar uma correlação moderada positiva entre as variáveis. Isso indica que existe uma relação linear entre elas, sugerindo que as estações de metrô possam estar localizadas próximas ao centro. Essa correlação sugere que os imóveis analisados estão bem localizados, uma vez que a proximidade das estações de metrô é um indicativo de uma boa localização em termos de acessibilidade e conveniência para os locatários."
      ],
      "metadata": {
        "id": "QT0o77ZclpCC"
      }
    },
    {
      "cell_type": "code",
      "source": [
        "# Calculando a correlação entre a distância e o dist_metro\n",
        "correlation = df['distancia'].corr(df['dist_metro'])\n",
        "\n",
        "# Imprimindo o resultado\n",
        "print('Correlação entre distância do centro ao imóvel e a distância do mêtro:', correlation)"
      ],
      "metadata": {
        "id": "sBlJXw5L7C-p",
        "colab": {
          "base_uri": "https://localhost:8080/"
        },
        "outputId": "e3666c90-f6b4-47e8-b610-e952c6598ead"
      },
      "execution_count": null,
      "outputs": [
        {
          "output_type": "stream",
          "name": "stdout",
          "text": [
            "Correlação entre distância do centro ao imóvel e a distância do mêtro: 0.41198244535676254\n"
          ]
        }
      ]
    },
    {
      "cell_type": "markdown",
      "source": [
        "# **Estatística Geral**"
      ],
      "metadata": {
        "id": "MPfFgDOQnEY_"
      }
    },
    {
      "cell_type": "markdown",
      "source": [
        "Estatística Descritiva de todas as colunas selecionadas\n",
        "\n",
        "Tradução das colunas:\n",
        "\n",
        "* count - contagem\n",
        "* mean - média\n",
        "* std - desvio padrão\n",
        "* min - valor mínimo\n",
        "* 25% - Q1\n",
        "* 50% - mediana\n",
        "* 75% - Q3\n",
        "* max - valor máximo"
      ],
      "metadata": {
        "id": "XcyO0JU3VbrJ"
      }
    },
    {
      "cell_type": "code",
      "source": [
        "# Estatística Descritiva de todas as colunas selecionadas\n",
        "\n",
        "# Executar describe() para todas as colunas\n",
        "descricao = df.describe()\n",
        "\n",
        "# Arredondar apenas colunas desejadas\n",
        "colunas = ['capacidade', 'quartos']\n",
        "descricao[colunas] = descricao[colunas].round(0)\n",
        "\n",
        "print(descricao.round(2))\n"
      ],
      "metadata": {
        "colab": {
          "base_uri": "https://localhost:8080/"
        },
        "id": "BwlrVYvInHhQ",
        "outputId": "4358c5ea-8378-4436-f426-2a142ecdc497"
      },
      "execution_count": null,
      "outputs": [
        {
          "output_type": "stream",
          "name": "stdout",
          "text": [
            "       valor_total  capacidade  nivel_limpeza  nivel_satisfacao  quartos  \\\n",
            "count      1103.00      1103.0        1103.00           1103.00   1103.0   \n",
            "mean        545.02         3.0           9.46             94.36      1.0   \n",
            "std         416.97         1.0           0.80              6.09      1.0   \n",
            "min         128.89         2.0           4.00             20.00      0.0   \n",
            "25%         309.80         2.0           9.00             92.00      1.0   \n",
            "50%         430.25         2.0          10.00             96.00      1.0   \n",
            "75%         657.32         4.0          10.00             98.00      2.0   \n",
            "max        7782.91         6.0          10.00            100.00      5.0   \n",
            "\n",
            "       distancia  dist_metro  indice_atracao  indice_restaurante  longitude  \\\n",
            "count    1103.00     1103.00         1103.00             1103.00    1103.00   \n",
            "mean        2.84        1.09           14.35               23.80       4.89   \n",
            "std         2.12        0.84           10.43               16.49       0.04   \n",
            "min         0.02        0.04            2.17                3.55       4.78   \n",
            "25%         1.30        0.46            6.77               11.39       4.87   \n",
            "50%         2.34        0.86           11.02               18.14       4.89   \n",
            "75%         3.65        1.51           20.46               32.70       4.91   \n",
            "max        11.19        4.41          100.00              100.00       5.01   \n",
            "\n",
            "       latitude  \n",
            "count   1103.00  \n",
            "mean      52.36  \n",
            "std        0.02  \n",
            "min       52.29  \n",
            "25%       52.35  \n",
            "50%       52.37  \n",
            "75%       52.38  \n",
            "max       52.42  \n"
          ]
        }
      ]
    },
    {
      "cell_type": "markdown",
      "source": [
        "# **Visualização de Dados**"
      ],
      "metadata": {
        "id": "qAEC6QKjWO6R"
      }
    },
    {
      "cell_type": "markdown",
      "source": [
        "## Gráfico da relação tipo quarto x bom anfitrião"
      ],
      "metadata": {
        "id": "IIn7UulRsdDR"
      }
    },
    {
      "cell_type": "code",
      "source": [
        "import seaborn as sns\n",
        "\n",
        "# Agrupando o DataFrame pelas colunas 'tipo_quarto' e 'bom_anfitriao'\n",
        "grouped = df.groupby(['tipo_quarto', 'bom_anfitriao']).size().reset_index(name='count')\n",
        "\n",
        "# Criando um gráfico de barras empilhadas\n",
        "g = sns.catplot(x='tipo_quarto', y='count', hue='bom_anfitriao', data=grouped, kind='bar')\n",
        "\n",
        "# Ajustando os nomes das colunas x e y\n",
        "g.set(xlabel='Tipo de Quarto', ylabel='Quantidade')\n",
        "g.set_xticklabels(rotation=30)\n",
        "\n",
        "# Título do gráfico\n",
        "g.ax.set_title('Contagem de Tipo de Quarto por Bom Anfitrião')"
      ],
      "metadata": {
        "colab": {
          "base_uri": "https://localhost:8080/",
          "height": 647
        },
        "id": "s3Ib8zILtKv3",
        "outputId": "9792c112-4e61-4f6b-aea6-7633d099369f"
      },
      "execution_count": null,
      "outputs": [
        {
          "output_type": "execute_result",
          "data": {
            "text/plain": [
              "Text(0.5, 1.0, 'Contagem de Tipo de Quarto por Bom Anfitrião')"
            ]
          },
          "metadata": {},
          "execution_count": 72
        },
        {
          "output_type": "display_data",
          "data": {
            "text/plain": [
              "<Figure size 607.486x500 with 1 Axes>"
            ],
            "image/png": "[encoded data removed]"
          },
          "metadata": {}
        }
      ]
    },
    {
      "cell_type": "markdown",
      "source": [
        "**Observações:**\n",
        "\n",
        "Com base no gráfico acima, é possível observar uma possível influência da variável \"bom_anfitrião\" na quantidade de aluguéis de \"casa/apartamento inteiro\" e \"quarto privado\".\n",
        "\n",
        "No entanto, vale ressaltar que essa é apenas uma observação preliminar a partir do gráfico. Para ter uma compreensão mais precisa e confirmar a influência da variável \"bom_anfitrião\" na quantidade de aluguéis, é necessário realizar uma análise estatística mais aprofundada."
      ],
      "metadata": {
        "id": "598nErlswKOe"
      }
    },
    {
      "cell_type": "markdown",
      "source": [
        "## Gráfico da relação tipo quarto x capacidade"
      ],
      "metadata": {
        "id": "NKdHC_6j5puX"
      }
    },
    {
      "cell_type": "code",
      "source": [
        "import seaborn as sns\n",
        "\n",
        "# Filtrando o DataFrame para selecionar apenas quartos com capacidade para 2 pessoas\n",
        "filtered = df[df['capacidade'] == 2]\n",
        "\n",
        "# Agrupando o DataFrame filtrado pela coluna 'tipo_quarto'\n",
        "grouped = filtered.groupby('tipo_quarto').size().reset_index(name='count')\n",
        "\n",
        "# Criando um gráfico de barras\n",
        "ax = sns.barplot(x='tipo_quarto', y='count', data=grouped)\n",
        "\n",
        "# Adicionando um título ao gráfico\n",
        "ax.set_title('Contagem de Tipo de Quarto com Capacidade para 2 Pessoas')\n",
        "\n",
        "# Adicionando legendas às colunas x e y\n",
        "ax.set_xlabel('Tipo de Quarto')\n",
        "ax.set_ylabel('Contagem')\n",
        "\n",
        "# Rotacionando os rótulos da coluna x\n",
        "ax.set_xticklabels(ax.get_xticklabels(), rotation=30)\n"
      ],
      "metadata": {
        "colab": {
          "base_uri": "https://localhost:8080/",
          "height": 625
        },
        "id": "YS7wHolM5upJ",
        "outputId": "36c40b0a-3841-491c-95f3-69bca5e5fd26"
      },
      "execution_count": null,
      "outputs": [
        {
          "output_type": "execute_result",
          "data": {
            "text/plain": [
              "[Text(0, 0, 'CASA/APARTAMENTO INTEIRO'),\n",
              " Text(1, 0, 'QUARTO COMPARTILHADO'),\n",
              " Text(2, 0, 'QUARTO PRIVADO')]"
            ]
          },
          "metadata": {},
          "execution_count": 73
        },
        {
          "output_type": "display_data",
          "data": {
            "text/plain": [
              "<Figure size 640x480 with 1 Axes>"
            ],
            "image/png": "[encoded data removed]"
          },
          "metadata": {}
        }
      ]
    },
    {
      "cell_type": "markdown",
      "source": [
        "**Observações:**\n",
        "\n",
        "Conforme observado no gráfico acima, a maioria dos quartos com capacidade para 2 pessoas é de tipo privado."
      ],
      "metadata": {
        "id": "K2EHl_sm9YJP"
      }
    },
    {
      "cell_type": "markdown",
      "source": [
        "## Gráfico da relação tipo quarto x quartos"
      ],
      "metadata": {
        "id": "qFukawefFd9B"
      }
    },
    {
      "cell_type": "code",
      "source": [
        "import seaborn as sns\n",
        "\n",
        "# Filtrando o DataFrame para selecionar apenas 1 quarto\n",
        "filtered = df[df['quartos'] == 1]\n",
        "\n",
        "# Agrupando o DataFrame filtrado pela coluna 'tipo_quarto'\n",
        "grouped = filtered.groupby('tipo_quarto').size().reset_index(name='count')\n",
        "\n",
        "# Criando um gráfico de barras\n",
        "ax = sns.barplot(x='tipo_quarto', y='count', data=grouped)\n",
        "\n",
        "# Adicionando um título ao gráfico\n",
        "ax.set_title('Contagem de Tipo de Quarto com 1 Quarto')\n",
        "\n",
        "# Adicionando legendas às colunas x e y\n",
        "ax.set_xlabel('Tipo de Quarto')\n",
        "ax.set_ylabel('Contagem')\n",
        "\n",
        "# Rotacionando os rótulos da coluna x\n",
        "ax.set_xticklabels(ax.get_xticklabels(), rotation=30)\n"
      ],
      "metadata": {
        "colab": {
          "base_uri": "https://localhost:8080/",
          "height": 625
        },
        "id": "TuX3-l7UFnCn",
        "outputId": "1175bcfd-014e-4832-e19d-90b6679b98f0"
      },
      "execution_count": null,
      "outputs": [
        {
          "output_type": "execute_result",
          "data": {
            "text/plain": [
              "[Text(0, 0, 'CASA/APARTAMENTO INTEIRO'),\n",
              " Text(1, 0, 'QUARTO COMPARTILHADO'),\n",
              " Text(2, 0, 'QUARTO PRIVADO')]"
            ]
          },
          "metadata": {},
          "execution_count": 74
        },
        {
          "output_type": "display_data",
          "data": {
            "text/plain": [
              "<Figure size 640x480 with 1 Axes>"
            ],
            "image/png": "[encoded data removed]"
          },
          "metadata": {}
        }
      ]
    },
    {
      "cell_type": "markdown",
      "source": [
        "**Observações:**\n",
        "\n",
        "Conforme observado no gráfico acima, a maioria dos imóveis alugados possui 1 quarto e é de tipo privado."
      ],
      "metadata": {
        "id": "6w7q44kbV8ba"
      }
    },
    {
      "cell_type": "markdown",
      "source": [
        "## Gráfico da variável tipo de quarto e nível de satisfação"
      ],
      "metadata": {
        "id": "t3JytUNQX1Ue"
      }
    },
    {
      "cell_type": "code",
      "source": [
        "import seaborn as sns\n",
        "\n",
        "# Criando um gráfico de box plot\n",
        "ax = sns.boxplot(x='tipo_quarto', y='nivel_satisfacao', data=df)\n",
        "\n",
        "# Rotacionando os rótulos da coluna x\n",
        "ax.set_xticklabels(ax.get_xticklabels(), rotation=30)"
      ],
      "metadata": {
        "colab": {
          "base_uri": "https://localhost:8080/",
          "height": 602
        },
        "id": "daN0cWmoMp0s",
        "outputId": "84e6f3e1-4ab8-4c89-cc36-b63024c6f3a9"
      },
      "execution_count": null,
      "outputs": [
        {
          "output_type": "execute_result",
          "data": {
            "text/plain": [
              "[Text(0, 0, 'QUARTO PRIVADO'),\n",
              " Text(1, 0, 'CASA/APARTAMENTO INTEIRO'),\n",
              " Text(2, 0, 'QUARTO COMPARTILHADO')]"
            ]
          },
          "metadata": {},
          "execution_count": 75
        },
        {
          "output_type": "display_data",
          "data": {
            "text/plain": [
              "<Figure size 640x480 with 1 Axes>"
            ],
            "image/png": "[encoded data removed]"
          },
          "metadata": {}
        }
      ]
    },
    {
      "cell_type": "markdown",
      "source": [
        "**Observações**\n",
        "\n",
        "O gráfico de boxplot possui o eixo x representando as categorias do tipo de quarto, enquanto o eixo y representa o nível de satisfação. Esse gráfico mostra a distribuição do nível de satisfação para cada categoria do tipo de quarto.\n",
        "\n",
        "Conforme observado no gráfico acima, é possível notar que o nível de satisfação dos quartos ou casas/apartamentos está concentrado entre 90 e 100. Isso indica um alto nível de satisfação por parte dos clientes."
      ],
      "metadata": {
        "id": "AdIB_BPJORDE"
      }
    },
    {
      "cell_type": "markdown",
      "source": [
        "## Gráfico de correlação entre nível de limpeza e nível de satisfação"
      ],
      "metadata": {
        "id": "Ur0TKsiCLhIG"
      }
    },
    {
      "cell_type": "code",
      "source": [
        "# importada a biblioteca scipy.stats para usar a linha de tendência e calcula o R^^2\n",
        "from scipy.stats import linregress\n",
        "\n",
        "# Cálculo da linha de tendência e do coeficiente de determinação (R^^2)\n",
        "slope, intercept, r_value, p_value, std_err = linregress(df['nivel_limpeza'], df['nivel_satisfacao'])\n",
        "line = slope * df['nivel_limpeza'] + intercept\n",
        "r_squared = r_value ** 2\n",
        "\n",
        "# Plotagem do gráfico de dispersão com linha de tendência\n",
        "plt.figure(figsize=(6, 6))\n",
        "plt.scatter(df['nivel_limpeza'], df['nivel_satisfacao'], label='Dados')\n",
        "plt.plot(df['nivel_limpeza'], line, color='red', label='Linha de Tendência')  # o plt.plot plota a linha de tendência no gráfico\n",
        "plt.xlabel('Nível de Limpeza')\n",
        "plt.ylabel('Nível de Satisfação')\n",
        "plt.title('Correlação entre Nível de Satisfação e Nível de Limpeza')\n",
        "plt.legend()\n",
        "\n",
        "# Inclusão do valor do coeficiente de determinação (R^^2)\n",
        "plt.text(3.5, 4.2, f'R² = {r_squared:.2f}', fontsize=12)\n",
        "\n",
        "plt.show()"
      ],
      "metadata": {
        "colab": {
          "base_uri": "https://localhost:8080/",
          "height": 587
        },
        "id": "Al30qQtrLqA-",
        "outputId": "2f9bb111-63d9-42a2-8d24-845f53758263"
      },
      "execution_count": null,
      "outputs": [
        {
          "output_type": "display_data",
          "data": {
            "text/plain": [
              "<Figure size 600x600 with 1 Axes>"
            ],
            "image/png": "[encoded data removed]"
          },
          "metadata": {}
        }
      ]
    },
    {
      "cell_type": "markdown",
      "source": [
        "**Observação:**\n",
        "\n",
        "Podemos observar que há uma correlação moderada positiva entre as variáveis “nível de limpeza” e “nível de satisfação”. Isso indica que, à medida que uma variável aumenta, a outra tende a aumentar proporcionalmente. A hipótese que podemos formular é que quanto maior o nível de limpeza, maior será o nível de satisfação. No entanto, ainda precisaríamos analisar melhor a correlação dessas variáveis para confirmar essa hipótese."
      ],
      "metadata": {
        "id": "AubloO3VLpKT"
      }
    },
    {
      "cell_type": "markdown",
      "source": [
        "## Gráfico de Barras da Distância por Tipo de Quarto"
      ],
      "metadata": {
        "id": "5hLUicaTb0Hw"
      }
    },
    {
      "cell_type": "code",
      "source": [
        "import matplotlib.pyplot as plt\n",
        "plt.figure(figsize=(7, 5))\n",
        "plt.bar(df['tipo_quarto'], df['distancia'])\n",
        "plt.xlabel('Tipo de Quarto')\n",
        "plt.ylabel('Média da Distância ao Centro')\n",
        "plt.title('Média da Distância ao Centro por Tipo de Quarto')\n",
        "plt.xticks(rotation=45)\n",
        "plt.show()"
      ],
      "metadata": {
        "colab": {
          "base_uri": "https://localhost:8080/",
          "height": 629
        },
        "id": "eMROyfbIb4N6",
        "outputId": "ba290664-9c71-4938-dcf5-bd45ed105932"
      },
      "execution_count": null,
      "outputs": [
        {
          "output_type": "display_data",
          "data": {
            "text/plain": [
              "<Figure size 700x500 with 1 Axes>"
            ],
            "image/png": "[encoded data removed]"
          },
          "metadata": {}
        }
      ]
    },
    {
      "cell_type": "markdown",
      "source": [
        "**Observações:**\n",
        "\n",
        "O gráfico de barras apresenta a média da distância ao centro para cada tipo de quarto e bom anfitrião. No gráfico, o eixo x representa o tipo de quarto e o eixo y representa a média da distância.\n",
        "\n",
        "Com base no gráfico, podemos observar que os quartos privados, compartilhados e casa/apartamento têm médias aproximadas, indicando que a distância do centro ao imóvel é similar para esses diferentes tipos de quartos. Isso sugere que a localização em relação ao centro não varia significativamente entre essas categorias de quartos.\n"
      ],
      "metadata": {
        "id": "IgAm4LgwhytC"
      }
    },
    {
      "cell_type": "markdown",
      "source": [
        "## Gráfico de dispersão índice de atração x índice de restaurante"
      ],
      "metadata": {
        "id": "F9WpF31Nf-zE"
      }
    },
    {
      "cell_type": "code",
      "source": [
        "# importada a biblioteca scipy.stats para usar a linha de tendência e calcula o R^^2\n",
        "from scipy.stats import linregress\n",
        "\n",
        "# Cálculo da linha de tendência e do coeficiente de determinação (R^^2)\n",
        "slope, intercept, r_value, p_value, std_err = linregress(df['indice_atracao'], df['indice_restaurante'])\n",
        "line = slope * df['indice_restaurante'] + intercept\n",
        "r_squared = r_value ** 2\n",
        "\n",
        "# Plotagem do gráfico de dispersão com linha de tendência\n",
        "plt.figure(figsize=(6, 6))\n",
        "plt.scatter(df['indice_atracao'], df['indice_restaurante'], label='Dados')\n",
        "plt.plot(df['indice_restaurante'], line, color='red', label='Linha de Tendência')  # o plt.plot plota a linha de tendência no gráfico\n",
        "plt.xlabel('Índice de Atração')\n",
        "plt.ylabel('Índice do restaurante')\n",
        "plt.title('Correlação entre Índice de Atração e Índice do restaurante')\n",
        "plt.legend()\n",
        "\n",
        "# Inclusão do valor do coeficiente de determinação (R^^2)\n",
        "plt.text(10.0, 4.2, f'R² = {r_squared:.2f}', fontsize=12)\n",
        "\n",
        "plt.show()"
      ],
      "metadata": {
        "colab": {
          "base_uri": "https://localhost:8080/",
          "height": 569
        },
        "id": "P6tF3sD8gIzI",
        "outputId": "3e61c74c-014d-4f89-8735-ed0ee1b33c0a"
      },
      "execution_count": null,
      "outputs": [
        {
          "output_type": "display_data",
          "data": {
            "text/plain": [
              "<Figure size 600x600 with 1 Axes>"
            ],
            "image/png": "[encoded data removed]"
          },
          "metadata": {}
        }
      ]
    },
    {
      "cell_type": "markdown",
      "source": [
        "**Observações:**\n",
        "\n",
        "Podemos observar que há uma correlação forte positiva entre as variáveis \"indice_atracao\" e \"indice_restaurante\". Isso indica que, à medida que uma variável aumenta, a outra também tende a aumentar proporcionalmente. Com base nessa observação, podemos formular a hipótese de que as atrações turísticas influenciam o índice dos restaurantes. Além disso, a concentração das atrações no centro pode estar contribuindo para essa correlação."
      ],
      "metadata": {
        "id": "eg8rSKoEhI9D"
      }
    },
    {
      "cell_type": "markdown",
      "source": [
        "# Conclusão"
      ],
      "metadata": {
        "id": "jbICKVgM3G9w"
      }
    },
    {
      "cell_type": "markdown",
      "source": [
        "\n",
        "* **Perfil de quartos alugados:** Ao analisar as variáveis \"tipo_quartos\", \"quartos\", \"capacidade\" e \"bom_anfitrião\", foi identificado que a maioria dos quartos alugados no Airbnb são quartos privados com capacidade para 2 pessoas e 1 quarto. Observou-se que o bom anfitrião parece influenciar os aluguéis de quartos privados e casa/apartamento, mas não tem impacto nos quartos compartilhados, como evidenciado no gráfico da relação tipo quarto x bom anfitrião.\n",
        "\n",
        "* Os imóveis apresentam um alto nível de satisfação, com as seguintes médias:\n",
        "\n",
        "      CASA/APARTAMENTO INTEIRO: 95.21\n",
        "      QUARTO COMPARTILHADO: 92.83\n",
        "      QUARTO PRIVADO: 93.56\n",
        "\n",
        "* No entanto, o percentual de pessoas que alugaram quartos compartilhados com nível de satisfação próximo à média é baixo, apenas 66.7%. Em contraste, os outros tipos de quartos apresentam as seguintes porcentagens:\n",
        "\n",
        "       Percentual de CASA/APARTAMENTO INTEIRO com nível de satisfação próximo a 95.21: 84.9%\n",
        "       Percentual de QUARTO PRIVADO com nível de satisfação próximo a 93.56: 89.4%\n",
        "\n",
        "* Observou-se uma correlação positiva moderada entre o nível de limpeza e o nível de satisfação dos clientes, indicando que um maior nível de limpeza está associado a um maior nível de satisfação com o quarto.\n",
        "\n",
        "* Quanto à correlação com a distância, verificou-se que não há uma relação linear entre a distância do imóvel ao centro e o valor do aluguel, assim como a distância não parece influenciar significativamente o nível de satisfação dos clientes. Além disso, não foram identificadas correlações entre as atrações turísticas e o nível de satisfação dos clientes, nem entre os índices dos restaurantes e o nível de satisfação.\n",
        "\n",
        "* Ao analisar a estatística descritiva da variável distância, observou-se que a distância média ao centro varia de acordo com o tipo de quarto e a classificação do anfitrião.\n",
        "\n",
        "* Por exemplo, para o tipo de quarto \"CASA/APARTAMENTO INTEIRO\", a distância média ao centro é menor para anfitriões classificados como bons em comparação com anfitriões não classificados como bons. No entanto, para o tipo de quarto \"QUARTO PRIVADO\", a distância média ao centro é maior para anfitriões classificados como bons em comparação com anfitriões não classificados como bons. É importante ressaltar que esses resultados são descritivos e requerem análises adicionais para uma compreensão mais aprofundada.\n",
        "\n",
        "* Com base no gráfico da relação tipo quarto x bom anfitrião, pode-se observar que os quartos privados, compartilhados e casa/apartamento possuem médias de distância ao centro aproximadas, sugerindo que a localização em relação ao centro não varia significativamente entre essas categorias de quartos. Isso indica que os diferentes tipos de quartos possuem uma localização semelhante em termos de proximidade com o centro.\n",
        "\n",
        "* Identificou-se uma correlação negativa forte entre a distância e o índice de atração, sugerindo que as atrações turísticas estão mais concentradas próximas ao centro da cidade. No entanto, não foram encontradas correlações entre as atrações turísticas e o valor do aluguel, indicando que as atrações não parecem influenciar diretamente os preços dos aluguéis.\n",
        "\n",
        "* Além disso, observou-se uma correlação forte positiva entre o índice de atração e o índice de restaurantes, o que indica que as atrações turísticas podem influenciar o índice dos restaurantes. É possível formular a hipótese de que as atrações turísticas têm um impacto positivo nos restaurantes, e essa relação pode ser reforçada pela concentração das atrações no centro da cidade.\n",
        "\n",
        "* O gráfico de dispersão entre o índice de restaurante e a distância revelou uma correlação forte negativa. Isso sugere que quanto menor a distância do imóvel ao centro, maior é o índice de satisfação com os restaurantes. No entanto, essacorrelação não indica uma influência direta dos restaurantes na satisfação global dos clientes.\n",
        "\n",
        "* Também foi identificada uma correlação moderada positiva entre a distância e a distância do metrô. Isso sugere que as estações de metrô estão localizadas próximas ao centro, o que indica uma boa localização em termos de acessibilidade e conveniência para os locatários dos imóveis analisados.\n",
        "\n",
        "Em resumo, a análise revelou informações importantes sobre o perfil dos quartos alugados, as correlações entre variáveis relevantes e insights sobre a influência da localização, limpeza, atrações turísticas, restaurantes e bom anfitrião nos aluguéis e satisfação dos clientes. Essas informações podem ser úteis para proprietários de imóveis ao definir preços competitivos, entender as preferências e necessidades dos clientes, e identificar possíveis oportunidades e ameaças no mercado de aluguéis de curta duração.\n",
        "\n"
      ],
      "metadata": {
        "id": "Sx5M5foV3Iz4"
      }
    },
    {
      "cell_type": "code",
      "source": [],
      "metadata": {
        "id": "XXepPj7_9Ok3"
      },
      "execution_count": null,
      "outputs": []
    }
  ]
}